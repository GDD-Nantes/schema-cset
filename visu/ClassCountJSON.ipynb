{
 "cells": [
  {
   "cell_type": "code",
   "execution_count": null,
   "id": "d80f6f74-d03f-4bc0-a56d-a8c021dd2e73",
   "metadata": {},
   "outputs": [],
   "source": [
    "!wget http://schema.org/docs/tree.jsonld\n",
    "!pip install pyspark"
   ]
  },
  {
   "cell_type": "code",
   "execution_count": null,
   "id": "4e9b638e-ea9f-4b1e-ba21-298249a2e8f7",
   "metadata": {},
   "outputs": [],
   "source": [
    "from pyspark.sql import SparkSession\n",
    "from pyspark import SparkContext\n",
    "from pyspark import SparkConf\n",
    "import pyspark\n",
    "from pyspark.sql.functions import input_file_name\n",
    "import time\n",
    "import re\n",
    "from pyspark.sql.functions import col\n",
    "from pyspark.sql import functions as f\n",
    "#spark = SparkSession.builder.appName(\"WDC-DataFrame\").getOrCreate()\n",
    "#créer une session dans le master\n",
    "spark = SparkSession.builder.master(\"spark://172.20.53.96:7077\").appName(\"WDC-classCount\").getOrCreate()\n",
    "#spark = SparkSession.builder.master(\"local\").appName(\"WDC-classCount\").getOrCreate()\n",
    "\n",
    "\n",
    "#fichiers de config qui permettent de se connecter au serveur de stockage s3 qui contient les fichiers de DataCommons\n",
    "endpoint_url = 'https://s3.os-bird.glicid.fr/'\n",
    "aws_access_key_id = '***REMOVED***'\n",
    "aws_secret_access_key = '***REMOVED***'\n",
    "hadoopConf = spark._jsc.hadoopConfiguration()\n",
    "hadoopConf.set('fs.s3a.access.key', aws_access_key_id)\n",
    "hadoopConf.set('fs.s3a.secret.key', aws_secret_access_key)\n",
    "hadoopConf.set('fs.s3a.endpoint', endpoint_url)\n",
    "hadoopConf.set('fs.s3a.path.style.access', 'true')\n",
    "hadoopConf.set('fs.s3a.impl', 'org.apache.hadoop.fs.s3a.S3AFileSystem')\n",
    "\n",
    "hadoopConf.set('spark.worker.cleanup.enabled', 'true')\n",
    "hadoopConf.set('fs.s3a.committer.name', 'magic')"
   ]
  },
  {
   "cell_type": "code",
   "execution_count": null,
   "id": "24d2f03a-111b-40ad-83e9-f88563aa7808",
   "metadata": {},
   "outputs": [],
   "source": [
    "import re\n",
    "def cleanData(url):\n",
    "  print(url)\n",
    "  m = re.search('<https?://schema.org/(.*)>',url)\n",
    "  if m:\n",
    "    return m.group(1)\n",
    "  return ''"
   ]
  },
  {
   "cell_type": "code",
   "execution_count": null,
   "id": "3ec03493-13b1-46fa-a7f5-c4b5d9fa5074",
   "metadata": {},
   "outputs": [],
   "source": [
    "import sys\n",
    "def class_count_dict(classname):\n",
    "    result = spark.sql(f\"SELECT count FROM CLASSCOUNT WHERE predicate like 'isa:<schema.org/{classname}>'\")\n",
    "    if(result.count() > 0):\n",
    "        return result.collect()[0][\"count\"]\n",
    "    else:\n",
    "        return 0"
   ]
  },
  {
   "cell_type": "code",
   "execution_count": null,
   "id": "2b0a229d-af3d-4534-bd89-ec5ab0b2f4eb",
   "metadata": {},
   "outputs": [],
   "source": [
    "def add_values_to_dict(current_branch):\n",
    "    #print(child[\"name\"])\n",
    "    #if current_branch[\"name\"] in class_count_dict:\n",
    "      current_branch[\"value\"] = class_count_dict(current_branch[\"name\"])\n",
    "    #else:\n",
    "    #  current_branch[\"value\"] =0\n"
   ]
  },
  {
   "cell_type": "code",
   "execution_count": null,
   "id": "1bdb7d1a-14f3-4dd5-934c-b05dba02e8d6",
   "metadata": {},
   "outputs": [],
   "source": [
    "def handle_nesting(child):\n",
    "  #print( \"children\"   in child)\n",
    "  if  \"children\"   in child:\n",
    "  \n",
    "    for c in child[\"children\"]:\n",
    "      add_values_to_dict(c)\n",
    "      if \"children\" in c :\n",
    "        handle_nesting(c)\n",
    "  "
   ]
  },
  {
   "cell_type": "code",
   "execution_count": null,
   "id": "1270a77b-dadc-4109-b20d-5baedc4b1609",
   "metadata": {},
   "outputs": [],
   "source": [
    "readall = spark.read.option(\"header\",True) \\\n",
    "  .csv(\"s3a://test-out/wdcfix/**\")\n",
    "\n",
    "readall.take(5)\n",
    "\n",
    "import pyspark.sql.functions as f\n",
    "csall=readall.groupby(\"pset\").agg(f.sum(\"count\").alias('count')).sort(f.desc(\"count\"))\n",
    "\n",
    "csall.createOrReplaceTempView(\"CSET\")\n",
    "csall.show(truncate=100)"
   ]
  },
  {
   "cell_type": "code",
   "execution_count": null,
   "id": "97c9cb89-f34a-4d3e-9063-8494fe247510",
   "metadata": {},
   "outputs": [],
   "source": [
    "from pyspark.sql.functions import col, split\n",
    "def findISA(topn = None):\n",
    "    if(topn is not None):\n",
    "        param = f\"limit {topn}\"\n",
    "    else:\n",
    "        param = \"\"\n",
    "    \n",
    "    sets = csall.withColumn(\"pset\", split(csall[\"pset\"], \" \"))\n",
    "    \n",
    "    distinct_predicate = sets.selectExpr(\"explode(pset) as predicate\", \"count\") \\\n",
    "                    .groupBy(\"predicate\").agg(f.sum(f.col(\"count\")).alias(\"count\"))  \\\n",
    "                    .createOrReplaceTempView(\"newsets\")\n",
    "    distinct_predicate=spark.sql(f\"select * from newsets where predicate like '%isa:%' and count > 1 order by count desc {param}\")    \n",
    "    return distinct_predicate"
   ]
  },
  {
   "cell_type": "code",
   "execution_count": null,
   "id": "ee79f688-2b68-4759-bf32-71e008f81246",
   "metadata": {},
   "outputs": [],
   "source": [
    "classCount = findISA()\n",
    "classCount.show(truncate=150)\n",
    "classCount.createOrReplaceTempView(\"CLASSCOUNT\")"
   ]
  },
  {
   "cell_type": "code",
   "execution_count": null,
   "id": "77f0764d-355a-4ad5-ae31-dd42eeb6511e",
   "metadata": {},
   "outputs": [
    {
     "name": "stderr",
     "output_type": "stream",
     "text": [
      "[Stage 41501:>                                                    (1 + 55) / 56]\r"
     ]
    }
   ],
   "source": [
    "import json\n",
    "\n",
    "# Opening JSON file\n",
    "f = open('tree.jsonld')\n",
    "  \n",
    "# returns JSON object as \n",
    "# a dictionary\n",
    "data = json.load(f)\n",
    "\n",
    "for child in data[\"children\"]:\n",
    "  handle_nesting(child)\n",
    "\n",
    "for child in data[\"children\"]:\n",
    "  add_values_to_dict(child)"
   ]
  },
  {
   "cell_type": "code",
   "execution_count": null,
   "id": "cb1643d8-670d-4101-aec7-95b980194c60",
   "metadata": {},
   "outputs": [],
   "source": [
    "print(data)"
   ]
  },
  {
   "cell_type": "code",
   "execution_count": null,
   "id": "77c38d40-592e-4037-8f47-a7488ba937d6",
   "metadata": {},
   "outputs": [],
   "source": []
  },
  {
   "cell_type": "code",
   "execution_count": null,
   "id": "a0ebc62e-3e22-44b1-a542-41b2117402ed",
   "metadata": {},
   "outputs": [],
   "source": [
    "json_object = json.dumps(data, indent=4)\n",
    "with open(\"count.json\", \"w\") as outfile:\n",
    "  outfile.write(json_object)"
   ]
  },
  {
   "cell_type": "code",
   "execution_count": null,
   "id": "2666c517-76fc-4902-af19-08f7a69b7f1a",
   "metadata": {},
   "outputs": [],
   "source": []
  }
 ],
 "metadata": {
  "kernelspec": {
   "display_name": "Python 3 (ipykernel)",
   "language": "python",
   "name": "python3"
  },
  "language_info": {
   "codemirror_mode": {
    "name": "ipython",
    "version": 3
   },
   "file_extension": ".py",
   "mimetype": "text/x-python",
   "name": "python",
   "nbconvert_exporter": "python",
   "pygments_lexer": "ipython3",
   "version": "3.10.9"
  }
 },
 "nbformat": 4,
 "nbformat_minor": 5
}
