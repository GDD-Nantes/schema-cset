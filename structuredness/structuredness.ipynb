{
 "cells": [
  {
   "cell_type": "code",
   "execution_count": 1,
   "id": "3fdb4a7a-2a79-4ae2-8bfb-fe6ed896f872",
   "metadata": {},
   "outputs": [
    {
     "name": "stderr",
     "output_type": "stream",
     "text": [
      "Setting default log level to \"WARN\".\n",
      "To adjust logging level use sc.setLogLevel(newLevel). For SparkR, use setLogLevel(newLevel).\n"
     ]
    },
    {
     "name": "stdout",
     "output_type": "stream",
     "text": [
      "23/04/07 13:55:13 WARN NativeCodeLoader: Unable to load native-hadoop library for your platform... using builtin-java classes where applicable\n",
      "23/04/07 13:55:14 WARN SparkConf: Note that spark.local.dir will be overridden by the value set by the cluster manager (via SPARK_LOCAL_DIRS in mesos/standalone/kubernetes and LOCAL_DIRS in YARN).\n",
      "23/04/07 13:55:14 WARN Utils: Service 'SparkUI' could not bind on port 4040. Attempting port 4041.\n"
     ]
    }
   ],
   "source": [
    "from pyspark.sql import SparkSession\n",
    "from pyspark.sql import functions as f\n",
    "from pyspark.sql.functions import split\n",
    "import pandas as pd\n",
    "import matplotlib.pyplot as plt\n",
    "import upsetplot\n",
    "\n",
    "\n",
    "#créer une session dans le master\n",
    "#spark = SparkSession.builder.master(\"spark://172.20.53.96:7077\").appName(\"WDC-structuredness\").getOrCreate()\n",
    "spark = SparkSession.builder.master(\"local\").appName(\"WDC-structuredness\").getOrCreate()\n",
    "        \n",
    "#fichiers de config qui permettent de se connecter au serveur de stockage s3 qui contient les fichiers de DataCommons\n",
    "endpoint_url = 'https://s3.os-bird.glicid.fr/'\n",
    "aws_access_key_id = '***REMOVED***'\n",
    "aws_secret_access_key = '***REMOVED***'\n",
    "hadoopConf = spark._jsc.hadoopConfiguration()\n",
    "hadoopConf.set('fs.s3a.access.key', aws_access_key_id)\n",
    "hadoopConf.set('fs.s3a.secret.key', aws_secret_access_key)\n",
    "hadoopConf.set('fs.s3a.endpoint', endpoint_url)\n",
    "hadoopConf.set('fs.s3a.path.style.access', 'true')\n",
    "hadoopConf.set('fs.s3a.impl', 'org.apache.hadoop.fs.s3a.S3AFileSystem')\n",
    "\n",
    "hadoopConf.set('spark.worker.cleanup.enabled', 'true')\n",
    "hadoopConf.set('fs.s3a.committer.name', 'magic')"
   ]
  },
  {
   "cell_type": "code",
   "execution_count": 2,
   "id": "68fdd16d-0413-4a21-9b31-8220d9544121",
   "metadata": {},
   "outputs": [
    {
     "name": "stdout",
     "output_type": "stream",
     "text": [
      "23/04/07 13:55:15 WARN MetricsConfig: Cannot locate configuration: tried hadoop-metrics2-s3a-file-system.properties,hadoop-metrics2.properties\n"
     ]
    },
    {
     "name": "stderr",
     "output_type": "stream",
     "text": [
      "[Stage 5:======================================================>  (38 + 1) / 40]\r"
     ]
    },
    {
     "name": "stdout",
     "output_type": "stream",
     "text": [
      "+----------------------------------------------------------------------------------------------------+------------+\n",
      "|                                                                                                pset|       count|\n",
      "+----------------------------------------------------------------------------------------------------+------------+\n",
      "|                                   <schema.org/item>|<schema.org/position>|isa:<schema.org/ListItem>|6.82470722E8|\n",
      "|                                        <schema.org/itemListElement>|isa:<schema.org/BreadcrumbList>|4.56613881E8|\n",
      "|                 <schema.org/item>|<schema.org/name>|<schema.org/position>|isa:<schema.org/ListItem>|3.93001409E8|\n",
      "|                          <schema.org/query-input>|<schema.org/target>|isa:<schema.org/SearchAction>|3.71206005E8|\n",
      "|                                                     <schema.org/target>|isa:<schema.org/ReadAction>|2.43969439E8|\n",
      "|                <schema.org/height>|<schema.org/url>|<schema.org/width>|isa:<schema.org/ImageObject>|2.35893972E8|\n",
      "|                                   <schema.org/name>|<schema.org/position>|isa:<schema.org/ListItem>|1.82109377E8|\n",
      "|                                                <schema.org/urlTemplate>|isa:<schema.org/EntryPoint>|1.72825926E8|\n",
      "|                                                           <schema.org/name>|isa:<schema.org/Person>|1.55338855E8|\n",
      "|                                                                                   <schema.org/name>|1.14561839E8|\n",
      "|                                                       <schema.org/url>|isa:<schema.org/ImageObject>|1.10139545E8|\n",
      "|                                   <schema.org/logo>|<schema.org/name>|isa:<schema.org/Organization>|1.08864627E8|\n",
      "|                                                     <schema.org/name>|isa:<schema.org/Organization>| 9.7286377E7|\n",
      "|                                                                            isa:<schema.org/WebPage>| 7.0323864E7|\n",
      "|                                    <schema.org/position>|<schema.org/url>|isa:<schema.org/ListItem>| 6.7716488E7|\n",
      "|                                                            <schema.org/name>|isa:<schema.org/Thing>| 5.1377771E7|\n",
      "|<schema.org/addressCountry>|<schema.org/addressLocality>|<schema.org/addressRegion>|<schema.org/p...| 5.0760651E7|\n",
      "|                       <schema.org/image>|<schema.org/name>|<schema.org/url>|isa:<schema.org/Person>| 5.0449121E7|\n",
      "|                                         <schema.org/name>|<schema.org/url>|isa:<schema.org/WebPage>| 4.9774822E7|\n",
      "|                           <schema.org/name>|<schema.org/url>|isa:<schema.org/SiteNavigationElement>| 4.9007921E7|\n",
      "|                                    <schema.org/name>|<schema.org/url>|isa:<schema.org/Organization>| 4.8027654E7|\n",
      "|<schema.org/contentUrl>|<schema.org/height>|<schema.org/inLanguage>|<schema.org/url>|<schema.org/...| 4.7949404E7|\n",
      "|                                                          <schema.org/name>|isa:<schema.org/Country>| 4.6189923E7|\n",
      "|                        <schema.org/latitude>|<schema.org/longitude>|isa:<schema.org/GeoCoordinates>| 4.6146641E7|\n",
      "|<schema.org/breadcrumb>|<schema.org/inLanguage>|<schema.org/isPartOf>|<schema.org/name>|<schema.o...| 4.2732128E7|\n",
      "|<schema.org/closes>|<schema.org/dayOfWeek>|<schema.org/opens>|isa:<schema.org/OpeningHoursSpecifi...| 3.9534276E7|\n",
      "|<schema.org/caption>|<schema.org/contentUrl>|<schema.org/height>|<schema.org/inLanguage>|<schema....| 3.6426582E7|\n",
      "|<schema.org/availability>|<schema.org/price>|<schema.org/priceCurrency>|<schema.org/url>|isa:<sch...| 3.5097885E7|\n",
      "|<schema.org/breadcrumb>|<schema.org/dateModified>|<schema.org/datePublished>|<schema.org/descript...| 3.5007233E7|\n",
      "|<schema.org/logo>|<schema.org/name>|<schema.org/sameAs>|<schema.org/url>|isa:<schema.org/Organiza...| 3.3161413E7|\n",
      "|                  <schema.org/logo>|<schema.org/name>|<schema.org/url>|isa:<schema.org/Organization>| 3.1394879E7|\n",
      "|<schema.org/availability>|<schema.org/price>|<schema.org/priceCurrency>|<schema.org/sku>|<schema....| 3.1209813E7|\n",
      "|                             <schema.org/acceptedAnswer>|<schema.org/name>|isa:<schema.org/Question>| 3.0562857E7|\n",
      "|                    <schema.org/price>|<schema.org/priceCurrency>|<schema.org/valueAddedTaxIncluded>| 2.9921323E7|\n",
      "|<schema.org/breadcrumb>|<schema.org/dateModified>|<schema.org/datePublished>|<schema.org/inLangua...| 2.9457146E7|\n",
      "|                              <schema.org/potentialAction>|<schema.org/url>|isa:<schema.org/WebSite>|  2.886875E7|\n",
      "|                                                           <schema.org/text>|isa:<schema.org/Answer>| 2.8763987E7|\n",
      "|   <schema.org/bestRating>|<schema.org/ratingValue>|<schema.org/worstRating>|isa:<schema.org/Rating>| 2.8563051E7|\n",
      "|                       <schema.org/contactType>|<schema.org/telephone>|isa:<schema.org/ContactPoint>| 2.7088011E7|\n",
      "|                                          <schema.org/name>|<schema.org/url>|isa:<schema.org/Person>| 2.6940652E7|\n",
      "|<schema.org/availability>|<schema.org/price>|<schema.org/priceCurrency>|<schema.org/priceSpecific...| 2.6562697E7|\n",
      "|                                <schema.org/name>|<schema.org/target>|isa:<schema.org/CommentAction>| 2.6292965E7|\n",
      "|                                                          <schema.org/name>|isa:<schema.org/WebPage>| 2.5873143E7|\n",
      "|                                                            <schema.org/name>|isa:<schema.org/Brand>| 2.5424706E7|\n",
      "|<schema.org/description>|<schema.org/image>|<schema.org/name>|<schema.org/offers>|<schema.org/sku...| 2.5066842E7|\n",
      "|<schema.org/caption>|<schema.org/height>|<schema.org/url>|<schema.org/width>|isa:<schema.org/Imag...| 2.4288831E7|\n",
      "|            <schema.org/name>|<schema.org/potentialAction>|<schema.org/url>|isa:<schema.org/WebSite>| 2.3227713E7|\n",
      "|<schema.org/breadcrumb>|<schema.org/dateModified>|<schema.org/datePublished>|<schema.org/inLangua...| 2.2917293E7|\n",
      "|         <schema.org/item>|<schema.org/position>|<schema.org/previousItem>|isa:<schema.org/ListItem>| 2.1562121E7|\n",
      "|  <schema.org/interactionType>|<schema.org/userInteractionCount>|isa:<schema.org/InteractionCounter>|  2.153204E7|\n",
      "+----------------------------------------------------------------------------------------------------+------------+\n",
      "only showing top 50 rows\n",
      "\n"
     ]
    },
    {
     "name": "stderr",
     "output_type": "stream",
     "text": [
      "                                                                                \r"
     ]
    }
   ],
   "source": [
    "readall = spark.read.option(\"header\",True) \\\n",
    "  .csv(\"s3a://test-out/wdcfix/**\")\n",
    "\n",
    "readall.take(5)\n",
    "\n",
    "import pyspark.sql.functions as f\n",
    "csall=readall.groupby(\"pset\").agg(f.sum(\"count\").alias('count')).sort(f.desc(\"count\"))\n",
    "\n",
    "csall.createOrReplaceTempView(\"CSET\")\n",
    "csall.show(50,truncate=100)"
   ]
  },
  {
   "cell_type": "code",
   "execution_count": null,
   "id": "c662c54a-a28e-4877-bce8-14b2952e8e28",
   "metadata": {},
   "outputs": [],
   "source": [
    "def structuredness(cname):\n",
    "    sets=spark.sql(\"select pset,count from CSET where pset like '%isa:<schema.org/\"+cname+\">%' \")\n",
    "    sets = sets.withColumn(\"pset\", split(sets[\"pset\"], \"\\\\|\"))\n",
    "    sets.createOrReplaceTempView(\"sets\")\n",
    "    top_sets= spark.sql(\"\"\"\n",
    "    SELECT  *\n",
    "    FROM sets\n",
    "    ORDER BY count DESC\n",
    "    LIMIT 20\n",
    "    \"\"\")\n",
    "    #top_sets.show(truncate=0)\n",
    "    \n",
    "    exploded_data = top_sets.select(\"pset\", \"count\") \\\n",
    "                    .selectExpr(\"pset\", \"count\", \"explode(pset) as predicate\")\n",
    "    distinct_predicate_count = exploded_data.select(\"predicate\") \\\n",
    "                                       .distinct() \\\n",
    "                                       .count()\n",
    "    print(distinct_predicate_count)\n",
    "    \n",
    "    querry = spark.sql(\"SELECT SUM(count) as count_sum FROM sets\")\n",
    "    totalcount = querry.first()[\"count_sum\"]\n",
    "    print(totalcount)\n",
    "    \n",
    "    totalpredcount = totalcount*distinct_predicate_count\n",
    "    print(totalpredcount)\n",
    "    \n",
    "    querry = spark.sql(\"SELECT SUM(count * size(pset)) as count_sum  FROM sets\")\n",
    "    countused = querry.first()[\"count_sum\"]\n",
    "    print(countused)\n",
    "    \n",
    "    print(\"struturedness:\")\n",
    "    structuredness = countused/totalpredcount\n",
    "    print(structuredness)"
   ]
  },
  {
   "cell_type": "code",
   "execution_count": null,
   "id": "f84c923f-b86f-4b95-b79e-4afc45a58720",
   "metadata": {},
   "outputs": [],
   "source": [
    "structuredness(\"BioChemEntity\")"
   ]
  }
 ],
 "metadata": {
  "kernelspec": {
   "display_name": "Python 3 (ipykernel)",
   "language": "python",
   "name": "python3"
  },
  "language_info": {
   "codemirror_mode": {
    "name": "ipython",
    "version": 3
   },
   "file_extension": ".py",
   "mimetype": "text/x-python",
   "name": "python",
   "nbconvert_exporter": "python",
   "pygments_lexer": "ipython3",
   "version": "3.10.9"
  }
 },
 "nbformat": 4,
 "nbformat_minor": 5
}
