{
 "cells": [
  {
   "cell_type": "markdown",
   "id": "b608418b",
   "metadata": {},
   "source": [
    "# 1. Download a sample of Schema.org annotations "
   ]
  },
  {
   "cell_type": "code",
   "execution_count": 1,
   "id": "af6b08ae",
   "metadata": {},
   "outputs": [
    {
     "name": "stdout",
     "output_type": "stream",
     "text": [
      "Fichier « input/dpef.html-embedded-jsonld.nq-00044.gz » déjà présent ; pas de récupération.\r\n",
      "\r\n"
     ]
    }
   ],
   "source": [
    "!wget -nc https://data.dws.informatik.uni-mannheim.de/structureddata/2022-12/quads/dpef.html-embedded-jsonld.nq-00044.gz -P input"
   ]
  },
  {
   "cell_type": "code",
   "execution_count": 2,
   "id": "96381374",
   "metadata": {},
   "outputs": [
    {
     "name": "stdout",
     "output_type": "stream",
     "text": [
      "gzip: error writing to output: Broken pipe\r\n",
      "gzip: input/dpef.html-embedded-jsonld.nq-00044.gz: uncompress failed\r\n"
     ]
    }
   ],
   "source": [
    "!gzip -cd input/dpef.html-embedded-jsonld.nq-00044.gz | head -n 10000 > toy_example.nq"
   ]
  },
  {
   "cell_type": "markdown",
   "id": "4d7eb237",
   "metadata": {},
   "source": [
    "# 2. Initialize and test your pySpark environment"
   ]
  },
  {
   "cell_type": "code",
   "execution_count": 3,
   "id": "feb422cb",
   "metadata": {},
   "outputs": [
    {
     "name": "stdout",
     "output_type": "stream",
     "text": [
      "24/02/16 17:30:01 WARN Utils: Your hostname, Helicon-56.local resolves to a loopback address: 127.0.0.1; using 172.18.243.213 instead (on interface en17)\n",
      "24/02/16 17:30:01 WARN Utils: Set SPARK_LOCAL_IP if you need to bind to another address\n"
     ]
    },
    {
     "name": "stderr",
     "output_type": "stream",
     "text": [
      "Setting default log level to \"WARN\".\n",
      "To adjust logging level use sc.setLogLevel(newLevel). For SparkR, use setLogLevel(newLevel).\n"
     ]
    },
    {
     "name": "stdout",
     "output_type": "stream",
     "text": [
      "24/02/16 17:30:01 WARN NativeCodeLoader: Unable to load native-hadoop library for your platform... using builtin-java classes where applicable\n",
      "24/02/16 17:30:02 WARN Utils: Service 'SparkUI' could not bind on port 4040. Attempting port 4041.\n"
     ]
    }
   ],
   "source": [
    "from pyspark.sql import SparkSession\n",
    "\n",
    "spark = SparkSession.builder \\\n",
    "    .master(\"local\") \\\n",
    "    .appName(\"WDC-CSET-demo\") \\\n",
    "    .config(\"spark.executor.memory\",\"8g\") \\\n",
    "    .config(\"spark.driver.memory\",\"8g\") \\\n",
    "    .getOrCreate()"
   ]
  },
  {
   "cell_type": "code",
   "execution_count": 4,
   "id": "3da141f0",
   "metadata": {},
   "outputs": [
    {
     "name": "stderr",
     "output_type": "stream",
     "text": [
      "\r",
      "[Stage 0:>                                                          (0 + 1) / 1]\r"
     ]
    },
    {
     "name": "stdout",
     "output_type": "stream",
     "text": [
      "### 5 first lines of the dataset\n",
      "\n",
      "<http://01-zyiyrw.somee.com/cheap-dissertation/page-526-2021-11-23.html#website> <http://www.w3.org/1999/02/22-rdf-syntax-ns#type> <http://schema.org/WebSite> <http://01-zyiyrw.somee.com/cheap-dissertation/page-526-2021-11-23.html>   .\n",
      "<http://01-zyiyrw.somee.com/cheap-dissertation/page-526-2021-11-23.html#website> <http://schema.org/name> \"01-zyiyrw.somee.com\" <http://01-zyiyrw.somee.com/cheap-dissertation/page-526-2021-11-23.html>   .\n",
      "<http://01-zyiyrw.somee.com/cheap-dissertation/page-526-2021-11-23.html#website> <http://schema.org/potentialAction> _:n8b2ce60fd1474607b34606fdc599e2c1xb0 <http://01-zyiyrw.somee.com/cheap-dissertation/page-526-2021-11-23.html>   .\n",
      "<http://01-zyiyrw.somee.com/cheap-dissertation/page-526-2021-11-23.html#website> <http://schema.org/url> <http://01-zyiyrw.somee.com/> <http://01-zyiyrw.somee.com/cheap-dissertation/page-526-2021-11-23.html>   .\n",
      "_:n8b2ce60fd1474607b34606fdc599e2c1xb0 <http://www.w3.org/1999/02/22-rdf-syntax-ns#type> <http://schema.org/SearchAction> <http://01-zyiyrw.somee.com/cheap-dissertation/page-526-2021-11-23.html>   .\n"
     ]
    },
    {
     "name": "stderr",
     "output_type": "stream",
     "text": [
      "\r",
      "                                                                                \r"
     ]
    }
   ],
   "source": [
    "import re\n",
    "from urllib.parse import urlparse\n",
    "import tldextract\n",
    "from tqdm.notebook import tqdm\n",
    "import pandas as pd\n",
    "\n",
    "from pyspark.sql.functions import col, count\n",
    "from pyspark.sql import functions as f\n",
    "from pyspark.sql import Row\n",
    "from pyspark.sql.functions import udf, split\n",
    "from pyspark.sql.types import ArrayType, StringType\n",
    "import random \n",
    "\n",
    "\n",
    "quads = spark.sparkContext.textFile(\"toy_example.nq\")\n",
    "quads = quads.take(5)\n",
    "print(\"### 5 first lines of the dataset\")\n",
    "print()\n",
    "for quad in quads:\n",
    "    print(quad)"
   ]
  },
  {
   "cell_type": "markdown",
   "id": "56f79693",
   "metadata": {},
   "source": [
    "# 3. Compute characteristic sets"
   ]
  },
  {
   "cell_type": "code",
   "execution_count": 5,
   "id": "5d000c04",
   "metadata": {},
   "outputs": [],
   "source": [
    "@udf('string')\n",
    "def extract_tld(url):\n",
    "    tld = tldextract.extract(url)\n",
    "    if tld.registered_domain:\n",
    "        return tld.registered_domain\n",
    "    else:\n",
    "        # in case the URL is an IP\n",
    "        return tld.domain\n",
    "\n",
    "spark.udf.register(\"extract_tld\", extract_tld)\n",
    "\n",
    "def extract_tld_func(url):\n",
    "    tld = tldextract.extract(url)\n",
    "    if tld.registered_domain:\n",
    "        return tld.registered_domain\n",
    "    else:\n",
    "        # in case the URL is an IP\n",
    "        return tld.domain\n",
    "\n",
    "quad_motif = re.compile(r'([^\\s]+)\\s([^\\s]+)\\s(.+)\\s([^\\s]+)\\s+\\.')\n",
    "\n",
    "def parseQ(l, parts):\n",
    "    result = quad_motif.match(l)\n",
    "    if result:\n",
    "        # subject\n",
    "        sub = result.group(1).strip()\n",
    "        \n",
    "        # predicate\n",
    "        pred = result.group(2).strip()\n",
    "        pred = re.sub(r'([Hh][Tt][Tt][Pp][Ss]?://)?([Ww]{3}\\.)?', '', pred)\n",
    "        if pred == \"<w3.org/1999/02/22-rdf-syntax-ns#type>\":    \n",
    "            pred = \"isa:\" + re.sub(r'([Hh][Tt][Tt][Pp][Ss]?://)?([Ww]{3}\\.)?', '', result.group(3).strip())\n",
    "\n",
    "        #### WHY ? \n",
    "        if sub.startswith(\"_:\"):\n",
    "            sub += result.group(4).strip()\n",
    "\n",
    "        #hashstring = extracted.domain + \".\" + extracted.suffix\n",
    "        hashstring = extract_tld_func(result.group(4).strip().strip(\"<>\"))\n",
    "        return Row(subject=sub, predicate=pred, hashdom=hash(hashstring) % parts)\n",
    "    else:\n",
    "        # Handle non-matching lines\n",
    "        print(f\"parsing error : {l}\")\n",
    "        return None"
   ]
  },
  {
   "cell_type": "code",
   "execution_count": 6,
   "id": "e52082cd",
   "metadata": {},
   "outputs": [],
   "source": [
    "def partCS(hashdom_val, hashdom_max, output=None):\n",
    "    print(f\"part {hashdom_val+1}/{hashdom_max} started\");\n",
    "    file_name = f\"{output}/hashdom{hashdom_val+1}-{hashdom_max}\"\n",
    "    \n",
    "    query = f\"\"\"\n",
    "    SELECT subject, concat_ws(' ',sort_array(collect_set(predicate))) as pset \n",
    "    FROM Super \n",
    "    WHERE hashdom={hashdom_val} group by subject\n",
    "    \"\"\"\n",
    "    \n",
    "    cset = spark.sql(query).cache()\n",
    "    \n",
    "    result = cset.groupby(\"pset\").agg(f.count(cset.subject).alias('count'))\n",
    "    #result.show(truncate=0)\n",
    "\n",
    "    if(output is not None):\n",
    "        print(\"Saving\")\n",
    "        result.write.option(\"header\",True) \\\n",
    "            .option(\"compression\",\"gzip\") \\\n",
    "            .mode(\"overwrite\") \\\n",
    "            .parquet(file_name)\n",
    "    \n",
    "    # clear variables from memory\n",
    "    cset.unpersist()\n",
    "    result.unpersist()\n",
    "    del cset, result\n",
    "    print(f\"part {hashdom_val+1}/{hashdom_max} finished\");"
   ]
  },
  {
   "cell_type": "code",
   "execution_count": 7,
   "id": "f2600794",
   "metadata": {},
   "outputs": [],
   "source": [
    "def computeCS(input_folder, n_partitions, output_folder=None):\n",
    "    lines = spark.sparkContext.textFile(input_folder)\n",
    "    \n",
    "    if lines.isEmpty():\n",
    "        print(f\"error: {input_folder} folder empty\")\n",
    "    \n",
    "    parsedLines = lines.map(lambda l: parseQ(l, n_partitions)).filter(lambda x: x is not None).toDF()\n",
    "    parsedLines.createOrReplaceTempView(\"Super\")\n",
    "    \n",
    "    for i in tqdm(range(n_partitions)):\n",
    "        partCS(i, n_partitions, output_folder)\n",
    "    \n",
    "    print(\"Computation of CSet finnished\")"
   ]
  },
  {
   "cell_type": "code",
   "execution_count": 8,
   "id": "53ebfe83",
   "metadata": {},
   "outputs": [
    {
     "name": "stderr",
     "output_type": "stream",
     "text": [
      "\r",
      "[Stage 1:>                                                          (0 + 1) / 1]\r"
     ]
    },
    {
     "name": "stdout",
     "output_type": "stream",
     "text": [
      "24/02/16 17:30:10 WARN PythonRunner: Detected deadlock while completing task 0.0 in stage 1 (TID 1): Attempting to kill Python Worker\n"
     ]
    },
    {
     "name": "stderr",
     "output_type": "stream",
     "text": [
      "[Stage 2:>                                                          (0 + 1) / 1]\r"
     ]
    },
    {
     "name": "stdout",
     "output_type": "stream",
     "text": [
      "24/02/16 17:30:14 WARN PythonRunner: Detected deadlock while completing task 0.0 in stage 2 (TID 2): Attempting to kill Python Worker\n"
     ]
    },
    {
     "name": "stderr",
     "output_type": "stream",
     "text": [
      "\r",
      "                                                                                \r"
     ]
    },
    {
     "data": {
      "application/vnd.jupyter.widget-view+json": {
       "model_id": "befec4375d214adda1edcb084da9807b",
       "version_major": 2,
       "version_minor": 0
      },
      "text/plain": [
       "  0%|          | 0/1 [00:00<?, ?it/s]"
      ]
     },
     "metadata": {},
     "output_type": "display_data"
    },
    {
     "name": "stdout",
     "output_type": "stream",
     "text": [
      "part 1/1 started\n",
      "Saving\n"
     ]
    },
    {
     "name": "stderr",
     "output_type": "stream",
     "text": [
      "[Stage 7:>                                                          (0 + 1) / 1]\r"
     ]
    },
    {
     "name": "stdout",
     "output_type": "stream",
     "text": [
      "part 1/1 finished\n",
      "Computation of CSet finnished\n"
     ]
    },
    {
     "name": "stderr",
     "output_type": "stream",
     "text": [
      "\r",
      "                                                                                \r"
     ]
    }
   ],
   "source": [
    "#computeCS(\"toy_example.nq\", 1, \"output\")\n",
    "computeCS(\"input\", 1, \"output\")"
   ]
  },
  {
   "cell_type": "markdown",
   "id": "8c24e7ce",
   "metadata": {},
   "source": [
    "# 4. Show CSET results"
   ]
  },
  {
   "cell_type": "code",
   "execution_count": 9,
   "id": "fa73396a",
   "metadata": {},
   "outputs": [
    {
     "data": {
      "text/html": [
       "<div>\n",
       "<style scoped>\n",
       "    .dataframe tbody tr th:only-of-type {\n",
       "        vertical-align: middle;\n",
       "    }\n",
       "\n",
       "    .dataframe tbody tr th {\n",
       "        vertical-align: top;\n",
       "    }\n",
       "\n",
       "    .dataframe thead th {\n",
       "        text-align: right;\n",
       "    }\n",
       "</style>\n",
       "<table border=\"1\" class=\"dataframe\">\n",
       "  <thead>\n",
       "    <tr style=\"text-align: right;\">\n",
       "      <th></th>\n",
       "      <th>pset</th>\n",
       "      <th>count</th>\n",
       "    </tr>\n",
       "  </thead>\n",
       "  <tbody>\n",
       "    <tr>\n",
       "      <th>842</th>\n",
       "      <td>&lt;schema.org/item&gt; &lt;schema.org/position&gt; isa:&lt;s...</td>\n",
       "      <td>93140</td>\n",
       "    </tr>\n",
       "    <tr>\n",
       "      <th>851</th>\n",
       "      <td>&lt;schema.org/item&gt; &lt;schema.org/name&gt; &lt;schema.or...</td>\n",
       "      <td>87945</td>\n",
       "    </tr>\n",
       "    <tr>\n",
       "      <th>328</th>\n",
       "      <td>&lt;schema.org/itemListElement&gt; isa:&lt;schema.org/B...</td>\n",
       "      <td>85184</td>\n",
       "    </tr>\n",
       "    <tr>\n",
       "      <th>437</th>\n",
       "      <td>&lt;schema.org/query-input&gt; &lt;schema.org/target&gt; i...</td>\n",
       "      <td>64644</td>\n",
       "    </tr>\n",
       "    <tr>\n",
       "      <th>627</th>\n",
       "      <td>&lt;schema.org/name&gt;</td>\n",
       "      <td>58945</td>\n",
       "    </tr>\n",
       "    <tr>\n",
       "      <th>...</th>\n",
       "      <td>...</td>\n",
       "      <td>...</td>\n",
       "    </tr>\n",
       "    <tr>\n",
       "      <th>4908</th>\n",
       "      <td>&lt;schema.org/articleBody&gt; &lt;schema.org/articleSe...</td>\n",
       "      <td>1</td>\n",
       "    </tr>\n",
       "    <tr>\n",
       "      <th>12135</th>\n",
       "      <td>&lt;schema.org/datePublished&gt; &lt;schema.org/descrip...</td>\n",
       "      <td>1</td>\n",
       "    </tr>\n",
       "    <tr>\n",
       "      <th>12136</th>\n",
       "      <td>&lt;schema.org/address&gt; &lt;schema.org/email&gt; &lt;schem...</td>\n",
       "      <td>1</td>\n",
       "    </tr>\n",
       "    <tr>\n",
       "      <th>4906</th>\n",
       "      <td>&lt;schema.org/author&gt; &lt;schema.org/creator&gt; &lt;sche...</td>\n",
       "      <td>1</td>\n",
       "    </tr>\n",
       "    <tr>\n",
       "      <th>18966</th>\n",
       "      <td>&lt;schema.org/unitCode&gt; &lt;schema.org/value&gt; &lt;sche...</td>\n",
       "      <td>1</td>\n",
       "    </tr>\n",
       "  </tbody>\n",
       "</table>\n",
       "<p>18967 rows × 2 columns</p>\n",
       "</div>"
      ],
      "text/plain": [
       "                                                    pset  count\n",
       "842    <schema.org/item> <schema.org/position> isa:<s...  93140\n",
       "851    <schema.org/item> <schema.org/name> <schema.or...  87945\n",
       "328    <schema.org/itemListElement> isa:<schema.org/B...  85184\n",
       "437    <schema.org/query-input> <schema.org/target> i...  64644\n",
       "627                                    <schema.org/name>  58945\n",
       "...                                                  ...    ...\n",
       "4908   <schema.org/articleBody> <schema.org/articleSe...      1\n",
       "12135  <schema.org/datePublished> <schema.org/descrip...      1\n",
       "12136  <schema.org/address> <schema.org/email> <schem...      1\n",
       "4906   <schema.org/author> <schema.org/creator> <sche...      1\n",
       "18966  <schema.org/unitCode> <schema.org/value> <sche...      1\n",
       "\n",
       "[18967 rows x 2 columns]"
      ]
     },
     "execution_count": 9,
     "metadata": {},
     "output_type": "execute_result"
    }
   ],
   "source": [
    "df = pd.read_parquet('output/hashdom1-1', engine='pyarrow')\n",
    "df.sort_values(by=['count'], inplace=True, ascending=False)\n",
    "df"
   ]
  },
  {
   "cell_type": "code",
   "execution_count": 10,
   "id": "31b09669",
   "metadata": {},
   "outputs": [
    {
     "name": "stdout",
     "output_type": "stream",
     "text": [
      "['', '3Dmodel', '530-0046', 'APIReference', 'ARArtifact', 'ARImageTarget', 'AboutPage', 'Accommodation', 'AccountingService', 'Action', 'ActionAccessSpecification', 'Admin', 'AdministrativeArea', 'AdultEntertainment', 'AdvertiserContentArticle', 'Aeview', 'AggregateOffer', 'AggregateRating', 'Airline', 'Airport', 'AlignmentObject', 'AnalysisNewsArticle', 'AnatomicalStructure', 'AnimalShelter', 'Answer', 'Apartment', 'ApartmentComplex', 'ArchiveComponent', 'ArchiveOrganization', 'Area', 'ArriveAction', 'ArtGallery', 'Article', 'ArticlePost', 'Attorney', 'Audience', 'Audio', 'AudioBook', 'AudioObject', 'Audiobook', 'Author', 'AutoBodyShop', 'AutoDealer', 'AutoPartsStore', 'AutoRental', 'AutoRepair', 'Autodealer', 'AutomatedTeller', 'AutomotiveBusiness', 'BRAND', 'Bakery', 'BankOrCreditUnion', 'BarOrPub', 'BeautySalon', 'BeckhoffProductTableHTML', 'BedAndBreakfast', 'Beview', 'BikeStore', 'BioChemEntity', 'Bistrot', 'Blog', 'BlogArticle', 'BlogPost', 'BlogPosting', 'Bloginformationsecurityting', 'Blogpharmaceuticalting', 'Blogposting', 'Book', 'BookFormatType', 'BookSeries', 'BookStore', 'BorrowAction', 'Brand', 'Branday', 'BreadCrumbList', 'Breadcrumb', 'BreadcrumbList', 'Breadcrumblist', 'Brewery', 'BroadcastEvent', 'BroadcastFrequencySpecification', 'BroadcastService', 'BuddhistTemple', 'BusStation', 'BusStop', 'BusTrip', 'Business', 'BusinessAudience', 'BusinessEvent', 'BuyAction', 'CableOrSatelliteService', 'CafeOrCoffeeShop', 'Campground', 'CampingPitch', 'Car', 'Carte', 'Casino', 'Category', 'CategoryCode', 'CategoryCodeSet', 'Cemetery', 'Chapter', 'Check-in%20and%20Check-out', 'CheckoutPage', 'ChemicalSubstance', 'ChildCare', 'Childcare', 'ChildrensEvent', 'Church', 'City', 'Claim', 'ClaimReview', 'Clip', 'ClothingStore', 'Collection', 'CollectionPage', 'CollegeOrUniversity', 'ComedyClub', 'ComedyEvent', 'ComicSeries', 'Comment', 'CommentAction', 'CommunicateAction', 'Community', 'CommunityHealth', 'Company', 'CompoundPriceSpecification', 'ComputerStore', 'Computerstore', 'ContactPage', 'ContactPoint', 'ConvenienceStore', 'CopperSmith', 'Corporation', 'CorrectionComment', 'Country', 'County', 'Course', 'CourseInstance', 'CoursePage', 'CoursePageInstance', 'CreateAction', 'CreativeWork', 'CreativeWorkSeason', 'CreativeWorkSeries', 'Creativeworkseries', 'DOI', 'DanceEvent', 'DataCatalog', 'DataDownload', 'DataFeed', 'DataFeedItem', 'Dataset', 'Date', 'Dave%20Thomas%20Foundation', 'DayOfWeek', 'DaySpa', 'DefinedRegion', 'DefinedTerm', 'DefinedTermSet', 'DeliveryChargeSpecification', 'DeliveryMethod', 'Demand', 'Dentist', 'DepartAction', 'DepartmentStore', 'DiagnosticLab', 'DigitalDocument', 'DiscountOffer', 'DiscussionForumPosting', 'Distance', 'DownloadAction', 'DriveWheelConfigurationValue', 'Drug', 'DrugClass', 'DrugPrescriptionStatus', 'DrugStrength', 'DryCleaningOrLaundry', 'Duration', 'Education', 'EducationEvent', 'Educational%20Websites', 'EducationalAudience', 'EducationalOccupationalCredential', 'EducationalOccupationalProgram', 'EducationalOrganization', 'Electrician', 'ElectronicsStore', 'ElementarySchool', 'EmergencyService', 'EmployeeRole', 'EmployerAggregateRating', 'EmploymentAgency', 'EndorsementRating', 'EnergyConsumptionDetails', 'EngineSpecification', 'EntertainmentBusiness', 'EntryPoint', 'Enumeration', 'Episode', 'Erbjudande', 'Event', 'EventReservation', 'EventSeries', 'EventStatusType', 'EventVenue', 'ExchangeRateSpecification', 'ExerciseGym', 'ExhibitionEvent', 'Experiencia', 'FAQPage', 'FaqPage', 'Festival', 'Film', 'Filter', 'FinancialProduct', 'FinancialService', 'FindAction', 'Fine%20Art', 'Firma', 'Firstindianews', 'Flag', 'Flight', 'FloorPlan', 'Floorplan', 'Florist', 'FoodEstablishment', 'FoodEstablishmentReservation', 'FoodService', 'FundingScheme', 'FurnitureStore', 'Game', 'GardenStore', 'GasStation', 'GeneralContractor', 'GeoCircle', 'GeoCoordinates', 'GeoShape', 'Geview', 'GolfCourse', 'GovernmentOffice', 'GovernmentOrganization', 'Grant', 'GroceryStore', 'HVACBusiness', 'HairSalon', 'Hairsalon', 'HardwareStore', 'Health%20Articles', 'HealthAndBeautyBusiness', 'HealthClub', 'HealthandBeautyBusiness', 'Heview', 'HighSchool', 'HitPraca.pl', 'HobbyShop', 'HomeAndConstructionBusiness', 'HomeGoodsStore', 'HomeandConstructionBusiness', 'Hospital', 'Hostel', 'Hotel', 'HotelRoom', 'House', 'HousePainter', 'How-to', 'HowTo', 'HowToDirection', 'HowToSection', 'HowToStep', 'HowToSupply', 'HowToTool', 'ImageGallery', 'ImageObject', 'Imageobject', 'IndividualProduct', 'InstallAction', 'InsuranceAgency', 'Intangible', 'Intangible/FinancialQuote', 'Integer', 'InterNetOptions', 'InteractAction', 'InteractionCounter', 'ItemList', 'ItemPage', 'Jewelry%20Store', 'JewelryStore', 'JobPosting', 'Landform', 'Landing%20Page', 'LandmarksOrHistoricalBuildings', 'Language', 'LearningResource', 'Legal%20Service', 'LegalService', 'Library', 'LibrarySystem', 'Liftgear%20International,%20Inc.', 'LikeAction', 'LinkRole', 'LiquorStore', 'ListItem', 'ListenAction', 'Listitem', 'LiveBlogPosting', 'LoanOrCredit', 'Local%20Business', 'LocalBusiness', 'Localbusiness', 'LocationFeatureSpecification', 'Locksmith', 'LodgingBusiness', 'LodgingReservation', 'MN', 'Make%20My%20Assignments-%20Assignment%20Help', 'Map', 'Media', 'MediaObject', 'MedicalAudience', 'MedicalBusiness', 'MedicalClinic', 'MedicalCode', 'MedicalCondition', 'MedicalDevice', 'MedicalEntity', 'MedicalOrganization', 'MedicalProcedure', 'MedicalRiskFactor', 'MedicalScholarlyArticle', 'MedicalSpecialty', 'MedicalTherapy', 'MedicalWebPage', 'MensClothingStore', 'Menu', 'MenuItem', 'MenuSection', 'MerchantReturnPolicy', 'MiddleSchool', 'MobileApplication', 'MobilePhoneStore', 'MonetaryAmount', 'MonetaryAmountDistribution', 'MoneyTransfer', 'MortgageLoan', 'Motel', 'Motorcycle', 'MotorcycleDealer', 'MotorcycleRepair', 'Mountain', 'MoveAction', 'Movie', 'MovieTheater', 'MovingCompany', 'Municipality', 'Museum', 'MusicAlbum', 'MusicComposition', 'MusicEvent', 'MusicGroup', 'MusicPlaylist', 'MusicRecording', 'MusicRelease', 'MusicReleaseFormatType', 'MusicStore', 'MusicVenue', 'NGO', 'NailSalon', 'News', 'News%20Channel', 'NewsArticle', 'NewsMedia%20Organization', 'NewsMediaOrganization', 'Newsarticle', 'Newspaper', 'NightClub', 'None', 'North%20Sound%20Church%20Staff', 'NutritionInformation', 'Occupation', 'OccupationalExperienceRequirements', 'Off', 'Offer', 'OfferCatalog', 'OfferForLease', 'OfferItemCondition', 'OfferShippingDetails', 'Offers', 'OnDemandEvent', 'OnlineBusiness', 'OnlineStore', 'OpeningHoursSpecification', 'OpinionNewsArticle', 'Optician', 'Order', 'OrderAction', 'Organisasjon', 'Organisation', 'Organization', 'OrganizationRole', 'Organizationa', 'OrganizeAction', 'OutletStore', 'OwnershipInfo', 'PRODUCT', 'Painting', 'Parent%20Organization', 'ParentAudience', 'Parking', 'Patient', 'PawnShop', 'PaymentChargeSpecification', 'PaymentMethod', 'PeopleAudience', 'PerformanceRole', 'PerformingArtsTheater', 'PerformingGroup', 'Periodical', 'Permit', 'Person', 'Person/Organisation', 'Pet%20Policy', 'PetStore', 'Pharmacy', 'Photograph', 'PhysicalActivityCategory', 'Physician', 'Place', 'PlanAction', 'PlasticSurgery', 'Platform', 'PlayAction', 'Plumber', 'PodcastEpisode', 'PodcastSeries', 'PostalAddress', 'Postaladdress', 'PriceSpecification', 'Product', 'ProductGroup', 'ProductModel', 'ProductReturnPolicy', 'Produkt', 'Produtos', 'ProfessionalService', 'ProfessionalServices', 'Professionalservice', 'ProfilePage', 'Project', 'Property%20Details', 'PropertyValue', 'PropertyValueSpecification', 'Protein', 'Psychoth\\\\u00E9rapie.%20Formation%20entreprise', 'PublicationEvent', 'PublicationIssue', 'PublicationVolume', 'QAPage', 'QualitativeValue', 'QuantitativeValue', 'Question', 'Quiz', 'Quotation', 'QuoteAction', 'RadioBroadcastService', 'RadioEpisode', 'RadioSeries', 'RadioShow', 'RadioStation', 'RateTrade.ca', 'Rating', 'RatingDisabled', 'RatingEnum', 'ReadAction', 'RealEstateAgency', 'RealEstateAgent', 'RealEstateListing', 'Recipe', 'Region', 'RegisterAction', 'RentAction', 'Report', 'ReportageNewsArticle', 'ResearchProject', 'Reservation', 'ReserveAction', 'Residence', 'Resort', 'Restaurant', 'Review', 'ReviewAction', 'ReviewDisabled', 'ReviewNewsArticle', 'Rocksite', 'Role', 'RoofingContractor', 'SAGIFT', 'STORE', 'SaleEvent', 'SatiricalArticle', 'ScheduleAction', 'ScholarlyArticle', 'School', 'ScreeningEvent', 'Sculpture', 'SearchAction', 'SearchResultsPage', 'SeekToAction', 'SelfStorage', 'SellAction', 'Series', 'Service', 'ServiceChannel', 'ShareAction', 'SheetMusic', 'ShippingDeliveryTime', 'ShoeStore', 'Shop', 'ShoppingCenter', 'SingleFamilyResidence', 'SiteNavigationElement', 'SizeSpecification', 'SkiResort', 'Sku', 'SocialEvent', 'SocialMediaPosting', 'SoftwareApplication', 'SoftwareSourceCode', 'Soicau', 'SomeProducts', 'SpeakableSpecification', 'SpecialAnnouncement', 'Specialty', 'SportingGoodsStore', 'SportsActivityLocation', 'SportsClub', 'SportsEvent', 'SportsOrganization', 'SportsTeam', 'StadiumOrArena', 'State', 'Store', 'StructuredValue', 'SubscribeAction', 'Subscription%20Box', 'SurgicalProcedure', 'T-shirtstore', 'TV', 'TVClip', 'TVEpisode', 'TVSeason', 'TVSeries', 'Table', 'Tag', 'Taxi', 'TaxiService', 'TechArticle', 'Telecomservice', 'TelevisionChannel', 'TelevisionStation', 'Text', 'TheaterEvent', 'TheaterGroup', 'Thing', 'Timeshare%20Claims', 'TireShop', 'To%20an%20address', 'TouristAttraction', 'TouristDestination', 'TouristInformationCenter', 'TouristTrip', 'ToyStore', 'Trabajas.es', 'TradeAction', 'TrainStation', 'TrainTrip', 'TransferAction', 'TravelAction', 'TravelAgency', 'Trip', 'TypeAndQuantityNode', 'UE%20Studio', 'URL', 'UnitPriceSpecification', 'University', 'UserComments', 'UserReview', 'Variant', 'Vehicle', 'VeterinaryCare', 'VideoGallery', 'VideoGame', 'VideoGameSeries', 'VideoObject', 'Videogame', 'ViewAction', 'VirtualLocation', 'VisualArtsEvent', 'VisualArtwork', 'WPFooter', 'WPHeader', 'WPSideBar', 'WPSidebar', 'WantAction', 'WarrantyPromise', 'WatchAction', 'WebAPI', 'WebApplication', 'WebPage', 'WebPage/VacationRental', 'WebPageElement', 'WebSite', 'WebSiteElement', 'Webinar', 'Webpage', 'Website', 'WholesaleStore', 'Winery', 'WyszukajAction', '\\\\u0415\\\\u0432\\\\u0440\\\\u0435\\\\u0439\\\\u0441\\\\u043A\\\\u0438\\\\u0439%20\\\\u041D\\\\u0430\\\\u0446\\\\u0438\\\\u043E\\\\u043D\\\\u0430\\\\u043B\\\\u044C\\\\u043D\\\\u044B\\\\u0439%20\\\\u0424\\\\u043E\\\\u043D\\\\u0434-\\\\u041A\\\\u0435\\\\u0440\\\\u0435\\\\u043D%20\\\\u041A\\\\u0430\\\\u0435\\\\u043C\\\\u0435\\\\u0442%20\\\\u043B\\\\u0435%20\\\\u0418\\\\u0441\\\\u0440\\\\u0430\\\\u044D\\\\u043B\\\\u044C%20-%20\\\\u0415\\\\u041D\\\\u0424', '\\\\u0422\\\\u0438\\\\u043F\\\\u041E\\\\u0440\\\\u0433\\\\u0430\\\\u043D\\\\u0438\\\\u0437\\\\u0430\\\\u0446\\\\u0438\\\\u0438\\\\u041A\\\\u043E\\\\u043C\\\\u043F\\\\u0430\\\\u043D\\\\u0438\\\\u0438', \"\\\\u05D7\\\\u05D9\\\\u05E0\\\\u05D5\\\\u05DA%20\\\\u05D5\\\\u05E0\\\\u05D5\\\\u05E2\\\\u05E8%20\\\\u2013%20\\\\u05D0\\\\u05EA\\\\u05E8%20\\\\u05E7\\\\u05E7''\\\\u05DC%20\\\\u05DC\\\\u05DE\\\\u05D7\\\\u05E0\\\\u05DB\\\\u05D9\\\\u05DD,%20\\\\u05D9\\\\u05DC\\\\u05D3\\\\u05D9\\\\u05DD%20\\\\u05D5\\\\u05E0\\\\u05D5\\\\u05E2\\\\u05E8\", '\\\\u641C\\\\u5C0B\\\\rAction', '\\\\u641C\\\\u7D22Action', 'accessibilityDetails', 'action', 'administrativeArea', 'aggregateRating', 'aggregateoffer', 'al-hadaf.org', 'amazingpharmacy.org', 'answer', 'article', 'attorney', 'audience', 'bikestore', 'blogposting', 'book', 'brand', 'breadcrumbList', 'buyAction', 'car', 'category', 'city', 'clothingstore', 'comment', 'computerLanguage', 'computerstore', 'conference%20paper', 'contactPoint', 'corporation', 'country', 'course', 'creativeWorkSeries', 'dayOfWeek', 'dentist', 'driveWheelConfigurationValue', 'drug', 'event', 'furniturestore', 'game', 'gbinsta.org', 'geoShape', 'healthandbeautybusiness', 'healthclub', 'hentry', 'homeandconstructionbusiness', 'hospital', 'hotel', 'image/png', 'imageObject', 'imageobject', 'intangible', 'itemAvalability', 'itemList', 'itemPage', 'itemlist', 'jewelrystore', 'lastReviewed', 'library', 'listItem', 'liveBlogPosting', 'localBusiness', 'localbusiness', 'logo', 'map', 'medicalAudience', 'medicalProcedure', 'medicalSpecialty', 'movie', 'news', 'newsArticle', 'newsarticle', 'nightclub', 'nutritionInformation', 'offer', 'offerCatalog', 'openingHoursSpecification', 'organization', 'person', 'physician', 'place', 'postalAddress', 'priceRange', 'priceSpecification', 'product', 'professionalservice', 'propertyValue', 'rating', 'realEstateAgent', 'recipe', 'review', 'roofingcontractor', 'saleEvent', 'scholarlyArticle', 'school', 'searchAction', 'service', 'shoppingcenter', 'siteNavigationElement', 'sportsEvent', 'sportsOrganization', 'sportsTeam', 'stadiumOrArena', 'store', 'street%20address', 'suggerencies@ib3tv.com', 'thing', 'travelagency', 'unclezamfrozen.com', 'veteransinplay.com', 'virtualLocation', 'webPage', 'webSite', 'webpage', 'website', 'weight', 'wholesalestore', '{search_term_string}']\n"
     ]
    }
   ],
   "source": [
    "def label_class(row):\n",
    "    res = row['pset'].split(\"isa:<schema.org/\")\n",
    "    if len(res) == 2 :\n",
    "        return res[1].split(\">\")[0]\n",
    "    else :\n",
    "        #print(f\"No class for: {row['pset']}\")\n",
    "        return \"None\"\n",
    "\n",
    "df['class'] = df.apply(label_class, axis=1)\n",
    "\n",
    "classes = sorted(df['class'].unique())\n",
    "print(classes)"
   ]
  },
  {
   "cell_type": "markdown",
   "id": "e3ce3a6d",
   "metadata": {},
   "source": [
    "# 5. Show Upset plots for specific Schema.org types"
   ]
  },
  {
   "cell_type": "code",
   "execution_count": 11,
   "id": "fa12ded8",
   "metadata": {},
   "outputs": [],
   "source": [
    "import ipywidgets as widgets\n",
    "from IPython.display import clear_output\n",
    "import matplotlib.pyplot as plt\n",
    "import upsetplot\n",
    "\n",
    "readall = spark.read.option(\"header\",True).parquet(\"output/hashdom1-1\")\n",
    "csall=readall.groupby(\"pset\").agg(f.sum(\"count\").alias('count')).sort(f.desc(\"count\"))\n",
    "csall.createOrReplaceTempView(\"CSET\")\n",
    "#csall.show(20,truncate=100)\n",
    "\n",
    "def upsetplotofclass(cname):\n",
    "    csets = spark.sql(\"select pset,count from CSET where pset like '%isa:<schema.org/\"+cname+\">%' \")\n",
    "    csets = csets.withColumn(\"pset\", split(csets[\"pset\"], \" \"))\n",
    "    csets.createOrReplaceTempView(cname)\n",
    "    top20_cset= spark.sql(f\"\"\"\n",
    "    SELECT  *\n",
    "    FROM {cname}\n",
    "    limit 20\n",
    "    \"\"\")\n",
    "    df = top20_cset.toPandas()\n",
    "\n",
    "    # Create a list of sets for each row in the DataFrame\n",
    "    pset_list = [set(x) for x in df['pset']]\n",
    "\n",
    "\n",
    "    # Create the UpSetplot\n",
    "    upset_data = upsetplot.from_memberships(pset_list, data=df['count'])\n",
    "    upsetplot.plot(upset_data, show_counts=True)\n",
    "    plt.show()"
   ]
  },
  {
   "cell_type": "code",
   "execution_count": 12,
   "id": "68a4de67",
   "metadata": {},
   "outputs": [
    {
     "data": {
      "application/vnd.jupyter.widget-view+json": {
       "model_id": "fd200714ff8d4ee195017a05fd6c0623",
       "version_major": 2,
       "version_minor": 0
      },
      "text/plain": [
       "Dropdown(description='CSET plot for Schema.org type:', options=('', '3Dmodel', '530-0046', 'APIReference', 'AR…"
      ]
     },
     "metadata": {},
     "output_type": "display_data"
    }
   ],
   "source": [
    "w = widgets.Dropdown(\n",
    "    options=classes,\n",
    "    value=classes[0],\n",
    "    description='CSET plot for Schema.org type:',\n",
    ")\n",
    "\n",
    "def on_change(change):\n",
    "    if change['type'] == 'change' and change['name'] == 'value':\n",
    "        selected_class = change['new']\n",
    "        clear_output(wait=True)\n",
    "        display(w)\n",
    "        upsetplotofclass(selected_class)        \n",
    "\n",
    "w.observe(on_change)\n",
    "\n",
    "\n",
    "display(w)"
   ]
  },
  {
   "cell_type": "code",
   "execution_count": null,
   "id": "1017397d",
   "metadata": {},
   "outputs": [],
   "source": []
  }
 ],
 "metadata": {
  "kernelspec": {
   "display_name": "Python 3 (ipykernel)",
   "language": "python",
   "name": "python3"
  },
  "language_info": {
   "codemirror_mode": {
    "name": "ipython",
    "version": 3
   },
   "file_extension": ".py",
   "mimetype": "text/x-python",
   "name": "python",
   "nbconvert_exporter": "python",
   "pygments_lexer": "ipython3",
   "version": "3.10.9"
  }
 },
 "nbformat": 4,
 "nbformat_minor": 5
}
