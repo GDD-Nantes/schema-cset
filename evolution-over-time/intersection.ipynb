{
 "cells": [
  {
   "cell_type": "code",
   "execution_count": 1,
   "id": "c021e910-e8a6-4f53-9972-9b8c71ad6d87",
   "metadata": {},
   "outputs": [
    {
     "name": "stderr",
     "output_type": "stream",
     "text": [
      "Setting default log level to \"WARN\".\n",
      "To adjust logging level use sc.setLogLevel(newLevel). For SparkR, use setLogLevel(newLevel).\n"
     ]
    },
    {
     "name": "stdout",
     "output_type": "stream",
     "text": [
      "23/11/30 18:54:43 WARN NativeCodeLoader: Unable to load native-hadoop library for your platform... using builtin-java classes where applicable\n",
      "23/11/30 18:54:43 WARN SparkConf: Note that spark.local.dir will be overridden by the value set by the cluster manager (via SPARK_LOCAL_DIRS in mesos/standalone/kubernetes and LOCAL_DIRS in YARN).\n"
     ]
    }
   ],
   "source": [
    "from pyspark.sql import SparkSession\n",
    "from pyspark.sql import functions as f\n",
    "from pyspark.sql.functions import split\n",
    "import pandas as pd\n",
    "import matplotlib.pyplot as plt\n",
    "import upsetplot\n",
    "\n",
    "# Create a local SparkSession (seulement le master et pas les slaves)\n",
    "# spark = SparkSession.builder.master(\"local\").appName(\"test\").getOrCreate() \n",
    "\n",
    "#créer une session dans le master\n",
    "spark = SparkSession.builder \\\n",
    "    .master(\"spark://172.20.53.96:7077\") \\\n",
    "    .appName(\"WDC-intersection\") \\\n",
    "    .config(\"spark.executor.memory\",\"28g\") \\\n",
    "    .config(\"spark.driver.memory\",\"28g\") \\\n",
    "    .getOrCreate()\n",
    "#spark = SparkSession.builder.master(\"local\").appName(\"WDC-intersection\").getOrCreate()\n",
    "\n",
    "spark.conf.set(\"spark.sql.shuffle.partitions\",1000)\n",
    "\n",
    "#fichiers de config qui permettent de se connecter au serveur de stockage s3 qui contient les fichiers de DataCommons\n",
    "endpoint_url = 'https://s3.os-bird.glicid.fr/'\n",
    "aws_access_key_id = '***REMOVED***'\n",
    "aws_secret_access_key = '***REMOVED***'\n",
    "hadoopConf = spark._jsc.hadoopConfiguration()\n",
    "hadoopConf.set('fs.s3a.access.key', aws_access_key_id)\n",
    "hadoopConf.set('fs.s3a.secret.key', aws_secret_access_key)\n",
    "hadoopConf.set('fs.s3a.endpoint', endpoint_url)\n",
    "hadoopConf.set('fs.s3a.path.style.access', 'true')\n",
    "hadoopConf.set('fs.s3a.impl', 'org.apache.hadoop.fs.s3a.S3AFileSystem')\n",
    "\n",
    "hadoopConf.set('spark.worker.cleanup.enabled', 'true')\n",
    "hadoopConf.set('fs.s3a.committer.name', 'magic')\n",
    "import tldextract"
   ]
  },
  {
   "cell_type": "code",
   "execution_count": 2,
   "id": "dc2720a9-ec71-4acc-823a-4f64f9889322",
   "metadata": {},
   "outputs": [],
   "source": [
    "from pyspark.sql.functions import col, count\n",
    "from pyspark.sql import functions as f\n",
    "\n",
    "from pyspark.sql import Row\n",
    "import re\n",
    "from urllib.parse import urlparse\n",
    "\n",
    "\n",
    "\n",
    "quad_motif = re.compile(r'([^\\s]+)\\s([^\\s]+)\\s(.+)\\s([^\\s]+)\\s+\\.')\n",
    "\n",
    "def parseQ(l):\n",
    "    result=quad_motif.match(l)\n",
    "    if result : \n",
    "        parsed_result = result.group(4).strip().strip(\"<>\")\n",
    "        #output = urlparse(parsed_result, 'HOST').netloc\n",
    "        tld = tldextract.extract(parsed_result)\n",
    "        if tld.registered_domain:\n",
    "            output = tld.registered_domain\n",
    "        else:\n",
    "            # in case the URL is an IP\n",
    "            output = tld.domain\n",
    "        return Row(domain = output)\n",
    "    else:\n",
    "        return None\n",
    "# parse_url(, 'HOST')\n",
    "\n",
    "\n"
   ]
  },
  {
   "cell_type": "code",
   "execution_count": 3,
   "id": "f641fbd9-860e-4612-a9b9-06cf4921f68f",
   "metadata": {},
   "outputs": [
    {
     "name": "stderr",
     "output_type": "stream",
     "text": [
      "                                                                                \r"
     ]
    },
    {
     "name": "stdout",
     "output_type": "stream",
     "text": [
      "+------------+\n",
      "|      domain|\n",
      "+------------+\n",
      "|    10.0.0.1|\n",
      "|amazon.co.uk|\n",
      "|  172.16.0.1|\n",
      "+------------+\n",
      "\n"
     ]
    }
   ],
   "source": [
    "\n",
    "test_data = [\n",
    "    \"<http://kevin.com> <http://www.w3.org/1999/02/22-rdf-syntax-ns#type> 'Some data' <http://10.0.0.1:4040/test?data=value>  .\",\n",
    "    \"<http://kevin.com> <http://www.w3.org/1999/02/22-rdf-syntax-ns#type> 'Some data' <https://fr.prime.amazon.co.uk/test?data=value>  .\",\n",
    "    \"<http://kevin.com> <http://schema.org/knows> 13.5 <172.16.0.1/test?data=value>  .\"\n",
    "]\n",
    "test_rdd = spark.sparkContext.parallelize(test_data)\n",
    "test = test_rdd.map(lambda l: parseQ(l)).toDF()\n",
    "test.show()"
   ]
  },
  {
   "cell_type": "code",
   "execution_count": 4,
   "id": "34b0f12b-388c-4008-b589-44c0d1a131a5",
   "metadata": {},
   "outputs": [
    {
     "name": "stdout",
     "output_type": "stream",
     "text": [
      "23/11/30 18:54:50 WARN MetricsConfig: Cannot locate configuration: tried hadoop-metrics2-s3a-file-system.properties,hadoop-metrics2.properties\n"
     ]
    },
    {
     "name": "stderr",
     "output_type": "stream",
     "text": [
      "                                                                                \r"
     ]
    },
    {
     "name": "stdout",
     "output_type": "stream",
     "text": [
      "+-----------------+\n",
      "|           domain|\n",
      "+-----------------+\n",
      "|1000lifehacks.com|\n",
      "|1000lifehacks.com|\n",
      "|1000lifehacks.com|\n",
      "|1000lifehacks.com|\n",
      "|1000lifehacks.com|\n",
      "|1000lifehacks.com|\n",
      "|1000lifehacks.com|\n",
      "|1000lifehacks.com|\n",
      "|1000lifehacks.com|\n",
      "|1000lifehacks.com|\n",
      "|1000lifehacks.com|\n",
      "|1000lifehacks.com|\n",
      "|1000lifehacks.com|\n",
      "|1000lifehacks.com|\n",
      "|1000lifehacks.com|\n",
      "|1000lifehacks.com|\n",
      "|1000lifehacks.com|\n",
      "|1000lifehacks.com|\n",
      "|1000lifehacks.com|\n",
      "|1000lifehacks.com|\n",
      "+-----------------+\n",
      "only showing top 20 rows\n",
      "\n"
     ]
    },
    {
     "name": "stderr",
     "output_type": "stream",
     "text": [
      "                                                                                \r"
     ]
    },
    {
     "name": "stdout",
     "output_type": "stream",
     "text": [
      "+----------------+\n",
      "|          domain|\n",
      "+----------------+\n",
      "|          sch.gr|\n",
      "|          sch.gr|\n",
      "|          sch.gr|\n",
      "|          sch.gr|\n",
      "|          sch.gr|\n",
      "|          sch.gr|\n",
      "|          sch.gr|\n",
      "|          sch.gr|\n",
      "|          sch.gr|\n",
      "|          sch.gr|\n",
      "|          sch.gr|\n",
      "|          sch.gr|\n",
      "|          sch.gr|\n",
      "|          sch.gr|\n",
      "|          sch.gr|\n",
      "|          sch.gr|\n",
      "|          sch.gr|\n",
      "|          sch.gr|\n",
      "|          sch.gr|\n",
      "|888sportkor.info|\n",
      "+----------------+\n",
      "only showing top 20 rows\n",
      "\n"
     ]
    }
   ],
   "source": [
    "# File file:/webdatacommons_data/home/nathan/petitGrapheRDFavant.txt does not exist\n",
    "#spark.sparkContext.addFile(\"petitGrapheRDFavant.txt\")\n",
    "\n",
    "#linesavant = spark.sparkContext.textFile(f\"petitGrapheRDFavant.txt\")\n",
    "linesavant = spark.sparkContext.textFile(f\"s3a://wdc/**\")\n",
    "\n",
    "spavant=linesavant.map(lambda l: parseQ(l)).filter(lambda x: x is not None).toDF()\n",
    "spavant.createOrReplaceTempView(\"Superavant\")\n",
    "spavant.show()\n",
    "\n",
    "#linesapres = spark.sparkContext.textFile(f\"petitGrapheRDFapres.txt\")\n",
    "linesapres = spark.sparkContext.textFile(f\"s3a://wdc-2023/**\")\n",
    "\n",
    "spapres=linesapres.map(lambda l: parseQ(l)).filter(lambda x: x is not None).toDF()\n",
    "spapres.createOrReplaceTempView(\"Superapres\")\n",
    "spapres.show()"
   ]
  },
  {
   "cell_type": "code",
   "execution_count": 5,
   "id": "99e7e63c-7004-4db7-bfe0-31510e3a1e7a",
   "metadata": {},
   "outputs": [
    {
     "name": "stderr",
     "output_type": "stream",
     "text": [
      "[Stage 11:=====================================================>(498 + 2) / 500]\r"
     ]
    },
    {
     "name": "stdout",
     "output_type": "stream",
     "text": [
      "+---------------------------+---------------------------+\n",
      "|percentage_before_not_after|percentage_after_not_before|\n",
      "+---------------------------+---------------------------+\n",
      "|          36.92331302220138|           34.8743341275519|\n",
      "+---------------------------+---------------------------+\n",
      "\n"
     ]
    },
    {
     "name": "stderr",
     "output_type": "stream",
     "text": [
      "                                                                                \r"
     ]
    }
   ],
   "source": [
    "from pyspark.sql.functions import udf\n",
    "\n",
    "\n",
    "\n",
    "'''\n",
    "@udf('string')\n",
    "def extract_tld(url):\n",
    "    return tldextract.extract(url).registered_domain\n",
    "\n",
    "spark.udf.register(\"extract_tld\", extract_tld)\n",
    "'''\n",
    "result = spark.sql(\"\"\"\n",
    "    SELECT (\n",
    "        COUNT(DISTINCT CASE WHEN a.parsed_domain IS NOT NULL AND b.parsed_domain IS NULL THEN a.parsed_domain END) * 100 / COUNT(DISTINCT a.parsed_domain)\n",
    "    ) AS percentage_after_not_before,\n",
    "    (\n",
    "        COUNT(DISTINCT CASE WHEN b.parsed_domain IS NOT NULL AND a.parsed_domain IS NULL THEN b.parsed_domain END) * 100 / COUNT(DISTINCT b.parsed_domain)\n",
    "    ) AS percentage_before_not_after\n",
    "    FROM (\n",
    "        SELECT DISTINCT domain AS parsed_domain FROM Superapres\n",
    "    ) a\n",
    "    FULL OUTER JOIN (\n",
    "        SELECT DISTINCT domain AS parsed_domain FROM Superavant\n",
    "    ) b\n",
    "    ON a.parsed_domain = b.parsed_domain\n",
    "\"\"\")\n",
    "\n",
    "result.show()"
   ]
  },
  {
   "cell_type": "code",
   "execution_count": null,
   "id": "61b57deb-1fa4-4caf-aa5b-926235ca8747",
   "metadata": {},
   "outputs": [],
   "source": []
  },
  {
   "cell_type": "code",
   "execution_count": null,
   "id": "28155459-1b92-4e18-b4a0-7ad96f94ce02",
   "metadata": {},
   "outputs": [],
   "source": []
  }
 ],
 "metadata": {
  "kernelspec": {
   "display_name": "Python 3 (ipykernel)",
   "language": "python",
   "name": "python3"
  },
  "language_info": {
   "codemirror_mode": {
    "name": "ipython",
    "version": 3
   },
   "file_extension": ".py",
   "mimetype": "text/x-python",
   "name": "python",
   "nbconvert_exporter": "python",
   "pygments_lexer": "ipython3",
   "version": "3.10.9"
  }
 },
 "nbformat": 4,
 "nbformat_minor": 5
}
