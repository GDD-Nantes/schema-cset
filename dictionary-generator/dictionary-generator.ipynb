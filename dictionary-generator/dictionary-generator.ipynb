{
 "cells": [
  {
   "cell_type": "code",
   "execution_count": 28,
   "id": "d549b0b2-702c-4326-bee7-6c615fb97aad",
   "metadata": {},
   "outputs": [],
   "source": [
    "from pyspark.sql import SparkSession\n",
    "#spark = SparkSession.builder.appName(\"WDC-DataFrame\").getOrCreate()\n",
    "#créer une session dans le master\n",
    "spark = SparkSession.builder.master(\"spark://172.20.53.96:7077\").appName(\"WDC-dico\").getOrCreate()\n",
    "#spark = SparkSession.builder.master(\"local\").appName(\"WDC-dico\").getOrCreate()\n",
    "\n",
    "\n",
    "#fichiers de config qui permettent de se connecter au serveur de stockage s3 qui contient les fichiers de DataCommons\n",
    "endpoint_url = 'https://s3.os-bird.glicid.fr/'\n",
    "aws_access_key_id = '***REMOVED***'\n",
    "aws_secret_access_key = '***REMOVED***'\n",
    "hadoopConf = spark._jsc.hadoopConfiguration()\n",
    "hadoopConf.set('fs.s3a.access.key', aws_access_key_id)\n",
    "hadoopConf.set('fs.s3a.secret.key', aws_secret_access_key)\n",
    "hadoopConf.set('fs.s3a.endpoint', endpoint_url)\n",
    "hadoopConf.set('fs.s3a.path.style.access', 'true')\n",
    "hadoopConf.set('fs.s3a.impl', 'org.apache.hadoop.fs.s3a.S3AFileSystem')\n",
    "\n",
    "hadoopConf.set('spark.worker.cleanup.enabled', 'true')\n",
    "hadoopConf.set('fs.s3a.committer.name', 'magic')"
   ]
  },
  {
   "cell_type": "code",
   "execution_count": null,
   "id": "89fad490-7b61-4e26-b758-c4cfab737399",
   "metadata": {},
   "outputs": [],
   "source": [
    "from pyspark.sql import SparkSession\n",
    "from pyspark.sql.functions import col, count\n",
    "from pyspark.sql import functions as f\n",
    "\n",
    "from pyspark.sql import Row\n",
    "import re\n",
    "from urllib.parse import urlparse\n",
    "\n",
    "df = spark.read.text(\"s3a://wdc/\")\n",
    "\n",
    "#Split the line into four parts using the ' ' separator\n",
    "split_col = F.split(F.col(\"value\"), \"\\s+\", 3)\n",
    "\n",
    "#Create new columns for the subject, predicate, object, and graph\n",
    "df = df.withColumn(\"subject\", split_col[0])\n",
    "df = df.withColumn(\"predicate\", split_col[1])\n",
    "df = df.drop(\"value\")\n",
    "\n",
    "# permet de ne plus différencier les predicats http, https, www...\n",
    "df = df.withColumn(\"predicate\", f.regexp_replace(f.col(\"predicate\"), \"([Hh][Tt][Tt][Pp][Ss]?://)?([Ww]{3}\\.)?\", \"\"))\n",
    "df.show(truncate=0)\n",
    "\n",
    "df.createOrReplaceTempView(\"Super\")\n",
    "#spark.sql(\"select count(*) as count from Super\").show()\n",
    " "
   ]
  },
  {
   "cell_type": "code",
   "execution_count": null,
   "id": "03a19d79-13a5-4fc5-a0aa-b729c6c20b68",
   "metadata": {},
   "outputs": [],
   "source": [
    "# Trie par le nombre d'occurence de chaque prédicat\n",
    "preds=spark.sql(\"select predicate, count(*) as nb from Super group by predicate order by nb DESC\")\n",
    "preds.persist()\n",
    "preds.show(truncate=0)\n",
    "\n",
    "# Utilise le compte pour attribuer des ids croissantes\n",
    "preds_final = preds.withColumn(\"id\", F.monotonically_increasing_id())  \n",
    "preds_final = preds_final.drop(\"nb\")\n",
    "preds_final.show(truncate=0)\n",
    "\n",
    "# Sauvegarde le résultat\n",
    "preds_final.write.option(\"header\",True) \\\n",
    "  .mode(\"overwrite\") \\\n",
    "  .csv(\"s3a://test-out/dico_reel_total\")\n"
   ]
  }
 ],
 "metadata": {
  "kernelspec": {
   "display_name": "Python 3 (ipykernel)",
   "language": "python",
   "name": "python3"
  },
  "language_info": {
   "codemirror_mode": {
    "name": "ipython",
    "version": 3
   },
   "file_extension": ".py",
   "mimetype": "text/x-python",
   "name": "python",
   "nbconvert_exporter": "python",
   "pygments_lexer": "ipython3",
   "version": "3.10.9"
  }
 },
 "nbformat": 4,
 "nbformat_minor": 5
}
