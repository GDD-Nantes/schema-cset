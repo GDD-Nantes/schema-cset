{
 "cells": [
  {
   "cell_type": "code",
   "execution_count": 1,
   "id": "2a0856c4-2c7d-443a-887c-c10ee21c2c49",
   "metadata": {},
   "outputs": [
    {
     "name": "stderr",
     "output_type": "stream",
     "text": [
      "Setting default log level to \"WARN\".\n",
      "To adjust logging level use sc.setLogLevel(newLevel). For SparkR, use setLogLevel(newLevel).\n"
     ]
    },
    {
     "name": "stdout",
     "output_type": "stream",
     "text": [
      "23/04/25 19:25:01 WARN NativeCodeLoader: Unable to load native-hadoop library for your platform... using builtin-java classes where applicable\n",
      "23/04/25 19:25:01 WARN SparkConf: Note that spark.local.dir will be overridden by the value set by the cluster manager (via SPARK_LOCAL_DIRS in mesos/standalone/kubernetes and LOCAL_DIRS in YARN).\n"
     ]
    }
   ],
   "source": [
    "from pyspark.sql import SparkSession\n",
    "from pyspark.sql import functions as f\n",
    "from pyspark.sql.functions import split\n",
    "import pandas as pd\n",
    "import matplotlib.pyplot as plt\n",
    "import upsetplot\n",
    "\n",
    "#créer une session dans le master\n",
    "spark = SparkSession.builder \\\n",
    "    .master(\"spark://172.20.53.96:7077\") \\\n",
    "    .appName(\"WDC-AveragePredicate\") \\\n",
    "    .config(\"spark.executor.memory\",\"28g\") \\\n",
    "    .config(\"spark.driver.memory\",\"28g\") \\\n",
    "    .getOrCreate()\n",
    "#spark = SparkSession.builder.master(\"local\").appName(\"WDC-AveragePredicate\").getOrCreate()\n",
    "\n",
    "spark.conf.set(\"spark.sql.shuffle.partitions\",1000)\n",
    "\n",
    "#fichiers de config qui permettent de se connecter au serveur de stockage s3 qui contient les fichiers de DataCommons\n",
    "endpoint_url = 'https://s3.os-bird.glicid.fr/'\n",
    "aws_access_key_id = 'bbd95ea3c1174caa88345404b84e458f'\n",
    "aws_secret_access_key = 'eaf2a72ecf9845f583af7f3513c44f25'\n",
    "hadoopConf = spark._jsc.hadoopConfiguration()\n",
    "hadoopConf.set('fs.s3a.access.key', aws_access_key_id)\n",
    "hadoopConf.set('fs.s3a.secret.key', aws_secret_access_key)\n",
    "hadoopConf.set('fs.s3a.endpoint', endpoint_url)\n",
    "hadoopConf.set('fs.s3a.path.style.access', 'true')\n",
    "hadoopConf.set('fs.s3a.impl', 'org.apache.hadoop.fs.s3a.S3AFileSystem')\n",
    "\n",
    "hadoopConf.set('spark.worker.cleanup.enabled', 'true')\n",
    "hadoopConf.set('fs.s3a.committer.name', 'magic')"
   ]
  },
  {
   "cell_type": "code",
   "execution_count": 2,
   "id": "d54a7471-c02b-4a78-a57f-76f6eb526e04",
   "metadata": {},
   "outputs": [
    {
     "name": "stdout",
     "output_type": "stream",
     "text": [
      "23/04/25 19:25:03 WARN MetricsConfig: Cannot locate configuration: tried hadoop-metrics2-s3a-file-system.properties,hadoop-metrics2.properties\n"
     ]
    },
    {
     "name": "stderr",
     "output_type": "stream",
     "text": [
      "[Stage 2:===============================================>         (47 + 9) / 56]\r"
     ]
    },
    {
     "name": "stdout",
     "output_type": "stream",
     "text": [
      "+------------------------------------------------------------------------------------------------------------------------------------------------------+------------+\n",
      "|                                                                                                                                                  pset|       count|\n",
      "+------------------------------------------------------------------------------------------------------------------------------------------------------+------------+\n",
      "|                                                                                     <schema.org/item> <schema.org/position> isa:<schema.org/ListItem>|6.82461002E8|\n",
      "|                                                                                          <schema.org/itemListElement> isa:<schema.org/BreadcrumbList>|4.56168963E8|\n",
      "|                                                                   <schema.org/item> <schema.org/name> <schema.org/position> isa:<schema.org/ListItem>| 3.9303227E8|\n",
      "|                                                                            <schema.org/query-input> <schema.org/target> isa:<schema.org/SearchAction>|3.71205933E8|\n",
      "|                                                                                                       <schema.org/target> isa:<schema.org/ReadAction>|2.43969439E8|\n",
      "|                                                                  <schema.org/height> <schema.org/url> <schema.org/width> isa:<schema.org/ImageObject>|2.35834591E8|\n",
      "|                                                                                     <schema.org/name> <schema.org/position> isa:<schema.org/ListItem>|1.82126401E8|\n",
      "|                                                                                                  <schema.org/urlTemplate> isa:<schema.org/EntryPoint>|1.72825926E8|\n",
      "|                                                                                                             <schema.org/name> isa:<schema.org/Person>|1.55357708E8|\n",
      "|                                                                                                                                     <schema.org/name>| 1.1433797E8|\n",
      "|                                                                                                         <schema.org/url> isa:<schema.org/ImageObject>|1.10136719E8|\n",
      "|                                                                                     <schema.org/logo> <schema.org/name> isa:<schema.org/Organization>|1.08881816E8|\n",
      "|                                                                                                       <schema.org/name> isa:<schema.org/Organization>| 9.7306259E7|\n",
      "|                                                                                                                              isa:<schema.org/WebPage>| 6.9782454E7|\n",
      "|                                                                                      <schema.org/position> <schema.org/url> isa:<schema.org/ListItem>| 6.7696938E7|\n",
      "|                                                                                                              <schema.org/name> isa:<schema.org/Thing>| 5.1381432E7|\n",
      "|<schema.org/addressCountry> <schema.org/addressLocality> <schema.org/addressRegion> <schema.org/postalCode> <schema.org/streetAddress> isa:<schema....| 5.0753321E7|\n",
      "|                                                                         <schema.org/image> <schema.org/name> <schema.org/url> isa:<schema.org/Person>| 5.0434022E7|\n",
      "|                                                                                           <schema.org/name> <schema.org/url> isa:<schema.org/WebPage>| 4.9701738E7|\n",
      "|                                                                             <schema.org/name> <schema.org/url> isa:<schema.org/SiteNavigationElement>| 4.9037353E7|\n",
      "+------------------------------------------------------------------------------------------------------------------------------------------------------+------------+\n",
      "only showing top 20 rows\n",
      "\n"
     ]
    },
    {
     "name": "stderr",
     "output_type": "stream",
     "text": [
      "                                                                                \r"
     ]
    }
   ],
   "source": [
    "readall = spark.read.option(\"header\",True) \\\n",
    "  .csv(\"s3a://test-out/wdcfix/**\")\n",
    "\n",
    "csall=readall.groupby(\"pset\").agg(f.sum(\"count\").alias('count')).sort(f.desc(\"count\"))\n",
    "\n",
    "csall.createOrReplaceTempView(\"CSET\")\n",
    "csall.show(truncate=150)"
   ]
  },
  {
   "cell_type": "code",
   "execution_count": 30,
   "id": "353b0961-aa46-470c-bbe4-efaa1afdc45e",
   "metadata": {},
   "outputs": [],
   "source": [
    "from pyspark.sql.functions import col\n",
    "def findISA(topn = None):\n",
    "    if(topn is not None):\n",
    "        param = f\"limit {topn}\"\n",
    "    else:\n",
    "        param = \"\"\n",
    "    \n",
    "    sets = csall.withColumn(\"pset\", split(csall[\"pset\"], \" \"))\n",
    "    \n",
    "    distinct_predicate = sets.selectExpr(\"explode(pset) as predicate\", \"count\") \\\n",
    "                    .groupBy(\"predicate\").agg(f.sum(f.col(\"count\")).alias(\"count\"))  \\\n",
    "                    .createOrReplaceTempView(\"newsets\")\n",
    "    distinct_predicate=spark.sql(f\"select * from newsets where predicate like '%isa:%' and count > 1 order by count desc {param}\")    \n",
    "    return distinct_predicate"
   ]
  },
  {
   "cell_type": "code",
   "execution_count": 31,
   "id": "7c6c0466-6482-44fb-b734-ba03118f0276",
   "metadata": {},
   "outputs": [
    {
     "name": "stderr",
     "output_type": "stream",
     "text": [
      "[Stage 224248:=================================================>  (21 + 1) / 22]\r"
     ]
    },
    {
     "name": "stdout",
     "output_type": "stream",
     "text": [
      "10000\n"
     ]
    },
    {
     "name": "stderr",
     "output_type": "stream",
     "text": [
      "                                                                                \r"
     ]
    }
   ],
   "source": [
    "distinct_predicate = findISA(10000)\n",
    "#distinct_predicate.show()\n",
    "distinct_predicate_list = distinct_predicate.select('predicate').rdd.flatMap(lambda x: x).collect()\n",
    "print(len(distinct_predicate_list))"
   ]
  },
  {
   "cell_type": "code",
   "execution_count": 28,
   "id": "15081fc9-dab9-4d06-9711-f76532c481fa",
   "metadata": {},
   "outputs": [],
   "source": [
    "def calculate_average(pred):\n",
    "    # Danger injection SQL\n",
    "    pred = pred.replace(\"'\", \"\\\\'\")\n",
    "    sets = spark.sql(f\"SELECT pset, count FROM CSET WHERE pset LIKE '%{pred}%'\")\n",
    "    sets = sets.withColumn(\"pset\", split(sets[\"pset\"], \" \"))\n",
    "    \n",
    "    if sets.count() <= 1:\n",
    "        #print(f\"{pred}: error\")\n",
    "        return -1\n",
    "    \n",
    "    count_sum = sets.agg({\"count\": \"sum\"}).collect()[0][0]\n",
    "    count_used = sets.selectExpr(\"sum(size(pset) * count) as count_used\").collect()[0][0]\n",
    "\n",
    "    average = count_used / count_sum\n",
    "    #print(f\"{pred}: {average}\")\n",
    "    return average"
   ]
  },
  {
   "cell_type": "code",
   "execution_count": 33,
   "id": "cc04515d-4a2a-435c-ab7d-cd188cf1d5bc",
   "metadata": {},
   "outputs": [
    {
     "name": "stderr",
     "output_type": "stream",
     "text": [
      "                                                                                \r"
     ]
    }
   ],
   "source": [
    "#%%time\n",
    "from pyspark.sql import Row\n",
    "rows = []\n",
    "for pred in distinct_predicate_list:\n",
    "    rows.append(Row(type=pred, average=float(calculate_average(pred)) ))\n",
    "\n",
    "df = spark.createDataFrame(rows)"
   ]
  },
  {
   "cell_type": "code",
   "execution_count": 34,
   "id": "707a7072-66c8-4b92-a1bc-570b9a46ef3b",
   "metadata": {},
   "outputs": [
    {
     "name": "stderr",
     "output_type": "stream",
     "text": [
      "                                                                                \r"
     ]
    }
   ],
   "source": [
    "df.write.option(\"header\",True) \\\n",
    "            .mode(\"overwrite\") \\\n",
    "            .csv(f\"s3a://test-out/average/top10000\")"
   ]
  },
  {
   "cell_type": "code",
   "execution_count": 41,
   "id": "42c6c52c-524e-4242-8959-216cc944c1e2",
   "metadata": {},
   "outputs": [
    {
     "name": "stdout",
     "output_type": "stream",
     "text": [
      "+-------------------------------------------------------------------------------------------------------------------------------------------------+-------+\n",
      "|                                                                                                                                             type|average|\n",
      "+-------------------------------------------------------------------------------------------------------------------------------------------------+-------+\n",
      "|                                    isa:<streetdir.com/DE/Berlin/Tempelhof-Schoneberg/Schoneberg/Strassen/Passauer-Strasse/Blumenlaeden/ListItem>|   -1.0|\n",
      "|                                                                                                                          isa:<schema.org/Soicau>|   -1.0|\n",
      "|isa:<directoriodecalles.org/AR/Cordoba/Departamento-Marcos-Juarez/Cities/Marcos-Juarez/Streets/Boulevard-Roque-Saenz-Pena/Tecnologia-Tv/ListItem>|   -1.0|\n",
      "|                                                   isa:<streetdir.be/BE/Antwerpen/Antwerpen/Schoten/Strassen/Binnenweg/Journaux-Cadeaux/ListItem>|   -1.0|\n",
      "|                      isa:<streetdir.com/DE/Berlin/Charlottenburg-Wilmersdorf/Charlottenburg/Strassen/Goethestrasse-231887171/Spielzeug/ListItem>|   -1.0|\n",
      "|                                        isa:<streetdir.com/DE/Bayern/Munchen-Stadt/Neupasing/Strassen/Hermann-Kohl-Strasse/Supermaerkte/ListItem>|   -1.0|\n",
      "|                      isa:<streetdir.com/DE/Baden-Wurttemberg/Stuttgart/Stuttgart-Mitte/Neue-Vorstadt/Strassen/Kronprinzstrasse/Buecher/ListItem>|   -1.0|\n",
      "|                                    isa:<streetdir.es/ES/Castilla-Y-Leon/Provincia-De-Burgos/Burgos/Strassen/Plaza-San-Bruno/Arte-Museo/ListItem>|   -1.0|\n",
      "|                                                 isa:<streetdir.se/SE/Varmlands-Lan/Karlstads-Kommun/Strassen/Stra-Torggatan/Bio-Teater/ListItem>|   -1.0|\n",
      "|                             isa:<streetdir.nl/NL/Limburg/Horst-Aan-De-Maas/Broekhuizenvorst/Strassen/Ganzenkampstraat/Sport-Vrije-Tijd/ListItem>|   -1.0|\n",
      "|                         isa:<streetdir.es/ES/Castilla-Y-Leon/Provincia-De-Burgos/Burgos/Strassen/Calle-Hortelanos/Animales-Tiendas-Zoo/ListItem>|   -1.0|\n",
      "|                                                          isa:<streetdir.ch/CH/Zurich/Uster/Volketswil/Strassen/Weinberggasse/Getraenke/ListItem>|   -1.0|\n",
      "|                                             isa:<streetdir.com/DE/Baden-Wurttemberg/Ludwigsburg/Ditzingen/Strassen/Gartenstrasse/Musik/ListItem>|   -1.0|\n",
      "|                        isa:<streetdir.com/DE/Berlin/Charlottenburg-Wilmersdorf/Charlottenburg/Strassen/Witzlebenstrasse/Krankenhaeuser/ListItem>|   -1.0|\n",
      "|                         isa:<streetdir.es/ES/Castilla-Y-Leon/Provincia-De-Burgos/Burgos/Strassen/Calle-Miranda/Florerias-Garden-Center/ListItem>|   -1.0|\n",
      "|                                                   isa:<streetdir.com/DE/Berlin/Mitte/Mitte/Strassen/Auguststrasse/Banken-Geldautomaten/ListItem>|   -1.0|\n",
      "|                                                                 isa:<woodfloorfitters.co.uk/engineered-floor-installation/SiteNavigationElement>|   -1.0|\n",
      "|                          isa:<streetdir.com/DE/Baden-Wurttemberg/Ludwigsburg/Korntal-Munchingen/Strassen/Johannes-Daur-Strasse/Bildung/ListItem>|   -1.0|\n",
      "|                       isa:<streetdir.com/DE/Berlin/Charlottenburg-Wilmersdorf/Charlottenburg/Strassen/Otto-Suhr-Allee/Aemter-Behoerden/ListItem>|   -1.0|\n",
      "|                          isa:<streetdir.com/DE/Baden-Wurttemberg/Stuttgart/Stuttgart-Mitte/Rathaus/Strassen/Kleine-Konigstrasse/Aerzte/ListItem>|   -1.0|\n",
      "+-------------------------------------------------------------------------------------------------------------------------------------------------+-------+\n",
      "only showing top 20 rows\n",
      "\n"
     ]
    }
   ],
   "source": [
    "readtest = spark.read.option(\"header\",True) \\\n",
    "  .csv(\"s3a://test-out/average/top10000/**\")\n",
    "readtest.show(truncate=150)"
   ]
  },
  {
   "cell_type": "code",
   "execution_count": 48,
   "id": "94593e9d-1df4-4d7b-ac1a-58d54f3a8ac2",
   "metadata": {},
   "outputs": [
    {
     "name": "stdout",
     "output_type": "stream",
     "text": [
      "+---------------------------------------------+-----------------+\n",
      "|                                         type|          average|\n",
      "+---------------------------------------------+-----------------+\n",
      "|                 isa:<schema.org/sportsEvent>| 9.99938040083935|\n",
      "|        isa:<schema.org/veterinary%20surgeon>|9.987878787878788|\n",
      "|                 isa:<schema.orgHVACBusiness>|9.985119047619047|\n",
      "|                isa:<schema.org/ExercisePlan>|9.984782608695653|\n",
      "|                  isa:<schema.org/oncologist>|9.976689976689977|\n",
      "|          isa:<schema.org/Website%20Designer>|9.973134328358208|\n",
      "|       isa:<schema.org/LocalBusiness/massage>|9.970588235294118|\n",
      "|             isa:<schema.org/endocrinologist>|9.969696969696969|\n",
      "|                 isa:<schema.org/TruckDealer>|9.964520367936926|\n",
      "|                      isa:<schema.org/Winery>|9.946354705274043|\n",
      "|           isa:<schema.org/cardiac%20surgeon>|9.942857142857143|\n",
      "|                  isa:<schema.org/expositive>|9.926767676767676|\n",
      "|                       isa:<schema.org/mixed>| 9.91566265060241|\n",
      "|                 isa:<schema.org/GardenStore>| 9.91234953047205|\n",
      "|             isa:<schema.org/MarketingAgency>| 9.90566037735849|\n",
      "|                isa:<schema.org/HVACBusiness>|9.903471051848914|\n",
      "|isa:<info:eu-repo/semantics/conferenceObject>|9.897590361445783|\n",
      "|                        isa:<schema.org/tour>|9.897435897435898|\n",
      "|                   isa:<schema.org/urologist>|         9.896875|\n",
      "|           isa:<schema.org/AccountingService>|9.890466340729597|\n",
      "|                 isa:<schema.org/Newsarticle>|9.877629063097514|\n",
      "|                       isa:<schema.org/Entry>|9.869198312236287|\n",
      "|           isa:<schema.org/GeneralContractor>|9.861275599535716|\n",
      "|             isa:<schema.org/medicalBusiness>|9.859550561797754|\n",
      "|                            isa:<schema.org/>| 9.85609636653018|\n",
      "|             isa:<schema.org/ProjectsArticle>|9.850340136054422|\n",
      "|        isa:<schema.org/OfficeEquipmentStore>|9.843822843822844|\n",
      "|          isa:<schema.org/HealthTopicContent>| 9.84195201490799|\n",
      "|                isa:<schema.org/VideoArticle>|9.833333333333334|\n",
      "|         isa:<info:eu-repo/semantics/lecture>|9.823529411764707|\n",
      "+---------------------------------------------+-----------------+\n",
      "only showing top 30 rows\n",
      "\n"
     ]
    }
   ],
   "source": [
    "readtestsort = readtest.sort(readtest.average.desc())\n",
    "readtestsort.show(30, truncate=150)"
   ]
  },
  {
   "cell_type": "code",
   "execution_count": null,
   "id": "9a96e30a-fe40-477b-845f-5dca1251cb9c",
   "metadata": {},
   "outputs": [],
   "source": [
    "withouterrors = readtestsort.filter(readtestsort.average != -1)\n",
    "print(withouterrors.count())\n",
    "#withouterrors.show(100, truncate=150)"
   ]
  },
  {
   "cell_type": "code",
   "execution_count": null,
   "id": "dfd75fc3-9fdf-4645-be34-4b253151ea9e",
   "metadata": {},
   "outputs": [],
   "source": []
  }
 ],
 "metadata": {
  "kernelspec": {
   "display_name": "Python 3 (ipykernel)",
   "language": "python",
   "name": "python3"
  },
  "language_info": {
   "codemirror_mode": {
    "name": "ipython",
    "version": 3
   },
   "file_extension": ".py",
   "mimetype": "text/x-python",
   "name": "python",
   "nbconvert_exporter": "python",
   "pygments_lexer": "ipython3",
   "version": "3.10.9"
  }
 },
 "nbformat": 4,
 "nbformat_minor": 5
}
