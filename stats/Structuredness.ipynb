{
 "cells": [
  {
   "cell_type": "code",
   "execution_count": 1,
   "id": "f22d714d-ad19-4655-a58d-7adb8189a00d",
   "metadata": {},
   "outputs": [
    {
     "name": "stderr",
     "output_type": "stream",
     "text": [
      "Setting default log level to \"WARN\".\n",
      "To adjust logging level use sc.setLogLevel(newLevel). For SparkR, use setLogLevel(newLevel).\n"
     ]
    },
    {
     "name": "stdout",
     "output_type": "stream",
     "text": [
      "23/04/27 00:48:57 WARN NativeCodeLoader: Unable to load native-hadoop library for your platform... using builtin-java classes where applicable\n",
      "23/04/27 00:48:57 WARN SparkConf: Note that spark.local.dir will be overridden by the value set by the cluster manager (via SPARK_LOCAL_DIRS in mesos/standalone/kubernetes and LOCAL_DIRS in YARN).\n"
     ]
    }
   ],
   "source": [
    "from pyspark.sql import SparkSession\n",
    "from pyspark.sql import functions as f\n",
    "from pyspark.sql.functions import split\n",
    "import pandas as pd\n",
    "import matplotlib.pyplot as plt\n",
    "import upsetplot\n",
    "\n",
    "#créer une session dans le master\n",
    "spark = SparkSession.builder \\\n",
    "    .master(\"spark://172.20.53.96:7077\") \\\n",
    "    .appName(\"WDC-Structuredness\") \\\n",
    "    .config(\"spark.executor.memory\",\"28g\") \\\n",
    "    .config(\"spark.driver.memory\",\"28g\") \\\n",
    "    .getOrCreate()\n",
    "#spark = SparkSession.builder.master(\"local\").appName(\"WDC-Structuredness\").getOrCreate()\n",
    "\n",
    "spark.conf.set(\"spark.sql.shuffle.partitions\",1000)\n",
    "\n",
    "#fichiers de config qui permettent de se connecter au serveur de stockage s3 qui contient les fichiers de DataCommons\n",
    "endpoint_url = 'https://s3.os-bird.glicid.fr/'\n",
    "aws_access_key_id = 'bbd95ea3c1174caa88345404b84e458f'\n",
    "aws_secret_access_key = 'eaf2a72ecf9845f583af7f3513c44f25'\n",
    "hadoopConf = spark._jsc.hadoopConfiguration()\n",
    "hadoopConf.set('fs.s3a.access.key', aws_access_key_id)\n",
    "hadoopConf.set('fs.s3a.secret.key', aws_secret_access_key)\n",
    "hadoopConf.set('fs.s3a.endpoint', endpoint_url)\n",
    "hadoopConf.set('fs.s3a.path.style.access', 'true')\n",
    "hadoopConf.set('fs.s3a.impl', 'org.apache.hadoop.fs.s3a.S3AFileSystem')\n",
    "\n",
    "hadoopConf.set('spark.worker.cleanup.enabled', 'true')\n",
    "hadoopConf.set('fs.s3a.committer.name', 'magic')"
   ]
  },
  {
   "cell_type": "code",
   "execution_count": 2,
   "id": "58c5fa19-a32b-4fc0-a2ca-f93bc51a9964",
   "metadata": {},
   "outputs": [
    {
     "name": "stdout",
     "output_type": "stream",
     "text": [
      "23/04/27 00:48:59 WARN MetricsConfig: Cannot locate configuration: tried hadoop-metrics2-s3a-file-system.properties,hadoop-metrics2.properties\n"
     ]
    },
    {
     "name": "stderr",
     "output_type": "stream",
     "text": [
      "[Stage 4:====================================================>    (53 + 5) / 58]\r"
     ]
    },
    {
     "name": "stdout",
     "output_type": "stream",
     "text": [
      "+------------------------------------------------------------------------------------------------------------------------------------------------------+------------+\n",
      "|                                                                                                                                                  pset|       count|\n",
      "+------------------------------------------------------------------------------------------------------------------------------------------------------+------------+\n",
      "|                                                                                     <schema.org/item> <schema.org/position> isa:<schema.org/ListItem>|6.82461002E8|\n",
      "|                                                                                          <schema.org/itemListElement> isa:<schema.org/BreadcrumbList>|4.56168963E8|\n",
      "|                                                                   <schema.org/item> <schema.org/name> <schema.org/position> isa:<schema.org/ListItem>| 3.9303227E8|\n",
      "|                                                                            <schema.org/query-input> <schema.org/target> isa:<schema.org/SearchAction>|3.71205933E8|\n",
      "|                                                                                                       <schema.org/target> isa:<schema.org/ReadAction>|2.43969439E8|\n",
      "|                                                                  <schema.org/height> <schema.org/url> <schema.org/width> isa:<schema.org/ImageObject>|2.35834591E8|\n",
      "|                                                                                     <schema.org/name> <schema.org/position> isa:<schema.org/ListItem>|1.82126401E8|\n",
      "|                                                                                                  <schema.org/urlTemplate> isa:<schema.org/EntryPoint>|1.72825926E8|\n",
      "|                                                                                                             <schema.org/name> isa:<schema.org/Person>|1.55357708E8|\n",
      "|                                                                                                                                     <schema.org/name>| 1.1433797E8|\n",
      "|                                                                                                         <schema.org/url> isa:<schema.org/ImageObject>|1.10136719E8|\n",
      "|                                                                                     <schema.org/logo> <schema.org/name> isa:<schema.org/Organization>|1.08881816E8|\n",
      "|                                                                                                       <schema.org/name> isa:<schema.org/Organization>| 9.7306259E7|\n",
      "|                                                                                                                              isa:<schema.org/WebPage>| 6.9782454E7|\n",
      "|                                                                                      <schema.org/position> <schema.org/url> isa:<schema.org/ListItem>| 6.7696938E7|\n",
      "|                                                                                                              <schema.org/name> isa:<schema.org/Thing>| 5.1381432E7|\n",
      "|<schema.org/addressCountry> <schema.org/addressLocality> <schema.org/addressRegion> <schema.org/postalCode> <schema.org/streetAddress> isa:<schema....| 5.0753321E7|\n",
      "|                                                                         <schema.org/image> <schema.org/name> <schema.org/url> isa:<schema.org/Person>| 5.0434022E7|\n",
      "|                                                                                           <schema.org/name> <schema.org/url> isa:<schema.org/WebPage>| 4.9701738E7|\n",
      "|                                                                             <schema.org/name> <schema.org/url> isa:<schema.org/SiteNavigationElement>| 4.9037353E7|\n",
      "+------------------------------------------------------------------------------------------------------------------------------------------------------+------------+\n",
      "only showing top 20 rows\n",
      "\n"
     ]
    },
    {
     "name": "stderr",
     "output_type": "stream",
     "text": [
      "                                                                                \r"
     ]
    }
   ],
   "source": [
    "readall = spark.read.option(\"header\",True) \\\n",
    "  .csv(\"s3a://test-out/wdcfix/**\")\n",
    "\n",
    "csall=readall.groupby(\"pset\").agg(f.sum(\"count\").alias('count')).sort(f.desc(\"count\"))\n",
    "\n",
    "csall.createOrReplaceTempView(\"CSET\")\n",
    "csall.show(truncate=150)"
   ]
  },
  {
   "cell_type": "code",
   "execution_count": 3,
   "id": "3651dc3d-a767-47e9-adb0-c701d41e8b68",
   "metadata": {},
   "outputs": [],
   "source": [
    "from pyspark.sql.functions import col\n",
    "def findISA(topn = None):\n",
    "    if(topn is not None):\n",
    "        param = f\"limit {topn}\"\n",
    "    else:\n",
    "        param = \"\"\n",
    "    \n",
    "    sets = csall.withColumn(\"pset\", split(csall[\"pset\"], \" \"))\n",
    "    \n",
    "    distinct_predicate = sets.selectExpr(\"explode(pset) as predicate\", \"count\") \\\n",
    "                    .groupBy(\"predicate\").agg(f.sum(f.col(\"count\")).alias(\"count\"))  \\\n",
    "                    .createOrReplaceTempView(\"newsets\")\n",
    "    distinct_predicate=spark.sql(f\"select * from newsets where predicate like '%isa:%' and count > 1 order by count desc {param}\")    \n",
    "    return distinct_predicate"
   ]
  },
  {
   "cell_type": "code",
   "execution_count": 4,
   "id": "eac2ab8c-59b3-4c40-bdac-f48713b8d1ba",
   "metadata": {},
   "outputs": [
    {
     "name": "stderr",
     "output_type": "stream",
     "text": [
      "[Stage 12:=====================================================>  (21 + 1) / 22]\r"
     ]
    },
    {
     "name": "stdout",
     "output_type": "stream",
     "text": [
      "10000\n"
     ]
    },
    {
     "name": "stderr",
     "output_type": "stream",
     "text": [
      "                                                                                \r"
     ]
    }
   ],
   "source": [
    "distinct_predicate = findISA(10000)\n",
    "#distinct_predicate.show()\n",
    "distinct_predicate_list = distinct_predicate.select('predicate').rdd.flatMap(lambda x: x).collect()\n",
    "print(len(distinct_predicate_list))"
   ]
  },
  {
   "cell_type": "code",
   "execution_count": 10,
   "id": "0f5dfdf0-5c23-4f03-b70e-09cad6e23dde",
   "metadata": {},
   "outputs": [],
   "source": [
    "def calculate_structuredness(pred, limit):\n",
    "    # Danger injection SQL\n",
    "    pred = pred.replace(\"'\", \"\\\\'\")\n",
    "    sets = spark.sql(f\"SELECT pset, count FROM CSET WHERE pset LIKE '%{pred}%' limit {limit}\")\n",
    "    sets = sets.withColumn(\"pset\", split(sets[\"pset\"], \" \"))\n",
    "    \n",
    "    if sets.count() <= 1:\n",
    "        #print(f\"{pred}: error\")\n",
    "        return -1\n",
    "    \n",
    "    count_sum = sets.agg({\"count\": \"sum\"}).collect()[0][0]\n",
    "    count_used = sets.selectExpr(\"sum(size(pset) * count) as count_used\").collect()[0][0]\n",
    "    \n",
    "    distinct_predicate_count = sets.selectExpr(\"explode(pset) as predicate\").distinct().count()\n",
    "\n",
    "    structuredness = count_used / (count_sum * distinct_predicate_count)\n",
    "    #print(f\"{pred}: {structuredness}\")\n",
    "    return structuredness"
   ]
  },
  {
   "cell_type": "code",
   "execution_count": null,
   "id": "758c35d4-f4a3-41b7-931b-eb89c2886468",
   "metadata": {},
   "outputs": [
    {
     "name": "stderr",
     "output_type": "stream",
     "text": [
      "                                                                                \r"
     ]
    }
   ],
   "source": [
    "#%%time\n",
    "from pyspark.sql import Row\n",
    "rows = []\n",
    "for pred in distinct_predicate_list:\n",
    "    rows.append(Row(type=pred, average=float(calculate_structuredness(pred, 10)) ))\n",
    "\n",
    "df = spark.createDataFrame(rows)"
   ]
  },
  {
   "cell_type": "code",
   "execution_count": 18,
   "id": "9bbba08f-c102-4b12-85d8-2da2832a073a",
   "metadata": {},
   "outputs": [
    {
     "name": "stderr",
     "output_type": "stream",
     "text": [
      "                                                                                \r"
     ]
    }
   ],
   "source": [
    "df.write.option(\"header\",True) \\\n",
    "            .mode(\"overwrite\") \\\n",
    "            .csv(f\"s3a://test-out/structuredness/limit10top10000\")"
   ]
  },
  {
   "cell_type": "code",
   "execution_count": 19,
   "id": "c913f3eb-6811-4bfc-b928-a08a12f20943",
   "metadata": {},
   "outputs": [
    {
     "name": "stdout",
     "output_type": "stream",
     "text": [
      "+---------------------------------------------------------------------------------------------------------------------------------------+-------+\n",
      "|                                                                                                                                   type|average|\n",
      "+---------------------------------------------------------------------------------------------------------------------------------------+-------+\n",
      "|                   isa:<streetdir.es/ES/Castilla-Y-Leon/Provincia-De-Burgos/Quemada/Strassen/Plaza-Mayor/Restaurantes-Y-Cafes/ListItem>|   -1.0|\n",
      "|                                    isa:<streetdir.nl/NL/Limburg/Simpelveld/Simpelveld/Strassen/Houbiersstraat/Drankenwinkels/ListItem>|   -1.0|\n",
      "|                          isa:<sokakrehberi.net/TR/Balikesir/Altieylul/Cities/Koseler/Streets/Balikesir-Kutahya-Yolu/Kitaplar/ListItem>|   -1.0|\n",
      "|               isa:<streetdir.com/DE/Berlin/Tempelhof-Schoneberg/Schoneberg/Strassen/Bayreuther-Strasse-4597379/Kinos-Theater/ListItem>|   -1.0|\n",
      "|                      isa:<streetdir.com/DE/Berlin/Tempelhof-Schoneberg/Schoneberg/Strassen/Winterfeldtstrasse/Sport-Freizeit/ListItem>|   -1.0|\n",
      "|             isa:<streetdir.com/DE/Baden-Wurttemberg/Stuttgart/Stuttgart-Mitte/Rathaus/Strassen/Eberhardpassage/Kinos-Theater/ListItem>|   -1.0|\n",
      "|                                       isa:<streetdir.com/DE/Berlin/Mitte/Wedding/Strassen/Mullerstrasse-5135482/Blumenlaeden/ListItem>|   -1.0|\n",
      "|                                                 isa:<streetdir.ch/CH/Waadt/Nyon/Signy-Avenex/Strassen/Chemin-Du-Nant/Zeitung/ListItem>|   -1.0|\n",
      "|                                                 isa:<streetdir.at/AT/Wien/Ottakring/Strassen/Zagorskigasse/Restaurants-Cafes/ListItem>|   -1.0|\n",
      "|                                                           isa:<streetdir.ch/CH/Waadt/Nyon/Gland/Strassen/Rue-Mauverney/Musik/ListItem>|   -1.0|\n",
      "| isa:<streetdir.com/DE/Berlin/Charlottenburg-Wilmersdorf/Charlottenburg/Strassen/Goethestrasse-231887171/Banken-Geldautomaten/ListItem>|   -1.0|\n",
      "|                                      isa:<streetdir.ch/CH/Zurich/Zurich/Altstadt/Rathaus/Strassen/Limmatquai/Beauty-Kosmetik/ListItem>|   -1.0|\n",
      "|                isa:<streetdir.com/DE/Berlin/Charlottenburg-Wilmersdorf/Charlottenburg/Strassen/Wilmersdorfer-Strasse/Technik/ListItem>|   -1.0|\n",
      "|                                                 isa:<streetdir.ch/CH/Bern/Seeland/Seeland/Aarberg/Strassen/Stadtplatz/Moebel/ListItem>|   -1.0|\n",
      "|                      isa:<streetdir.com/DE/Baden-Wurttemberg/Stuttgart/Zuffenhausen/Rot/Strassen/Haldenrainstrasse/Apotheken/ListItem>|   -1.0|\n",
      "|        isa:<streetdir.es/ES/Castilla-Y-Leon/Provincia-De-Burgos/Aranda-De-Duero/Strassen/Calle-Isilla/Coches-Motos-Bicicleta/ListItem>|   -1.0|\n",
      "|                                    isa:<citydir.org/NG/Lagos/Lagos-Mainland/Streets/Lagos-Street/Supermarkets-Shopping-Malls/ListItem>|   -1.0|\n",
      "|                         isa:<streetdir.com/DE/Berlin/Charlottenburg-Wilmersdorf/Charlottenburg/Strassen/Savignyplatz/Bildung/ListItem>|   -1.0|\n",
      "|                         isa:<streetdir.com/DE/Nordrhein-Westfalen/Koln/Nippes/Riehl/Strassen/Einfahrt-Zoo-Parkhaus/Apotheken/ListItem>|   -1.0|\n",
      "|isa:<directoriodecalles.org/AR/Cordoba/Departamento-Colon/Colonia-Caroya/Streets/Calle-43-Jose-Alfredo-Nanini/Medicostransltr/ListItem>|   -1.0|\n",
      "+---------------------------------------------------------------------------------------------------------------------------------------+-------+\n",
      "only showing top 20 rows\n",
      "\n"
     ]
    }
   ],
   "source": [
    "readtest = spark.read.option(\"header\",True) \\\n",
    "  .csv(\"s3a://test-out/structuredness/limit10top10000/**\")\n",
    "readtest.show(truncate=150)"
   ]
  },
  {
   "cell_type": "code",
   "execution_count": 20,
   "id": "1e608644-a05b-40a4-b160-70bf1752662a",
   "metadata": {},
   "outputs": [
    {
     "name": "stdout",
     "output_type": "stream",
     "text": [
      "+--------------------------------------------------+------------------+\n",
      "|                                              type|           average|\n",
      "+--------------------------------------------------+------------------+\n",
      "|                            isa:<schema.orgRating>|0.9999459693105684|\n",
      "|                      isa:<schema.org/sportsEvent>| 0.999938040083935|\n",
      "|                       isa:<schema.org/On%20Offer>|0.9998526377836723|\n",
      "|                  isa:<schema.org/Music%20Website>|0.9998153618906942|\n",
      "|         isa:<schema.orgOpeningHoursSpecification>|0.9998060512024826|\n",
      "|                         isa:<schema.org/original>|0.9998018232263178|\n",
      "|                         isa:<schema.org/Produits>|  0.99970836978711|\n",
      "|                      isa:<schema.org/FAQPage!!!!>|0.9996220710506425|\n",
      "|isa:<schema.org/Private%20Joint%20Stock%20Company>|0.9994019138755981|\n",
      "|                          isa:<schema.org/Deporte>|0.9993638676844784|\n",
      "|                              isa:<schema.org/Off>|0.9991837686567164|\n",
      "|                     isa:<schema.org/NewwsArticle>|0.9991582491582491|\n",
      "|                  isa:<schema.org/Personal%20Firm>| 0.999031007751938|\n",
      "|      isa:<schema.org/seo.primary-category.resort>|0.9990196078431373|\n",
      "|                     isa:<schema.orgPropertyValue>|0.9987764397554458|\n",
      "|                               isa:<schema.org/-->|0.9987228607918263|\n",
      "|                     isa:<schema.org/BorrowAction>|0.9984345015654984|\n",
      "|                    isa:<schema.org/ComicCoverArt>| 0.998304823547542|\n",
      "|                     isa:<schema.org/FormProperty>|0.9981785063752276|\n",
      "|               isa:<schema.org/The%20EPIC%20Storm>|0.9978197674418605|\n",
      "+--------------------------------------------------+------------------+\n",
      "only showing top 20 rows\n",
      "\n"
     ]
    }
   ],
   "source": [
    "readtestsort = readtest.sort(readtest.average.desc())\n",
    "readtestsort.show(truncate=150)"
   ]
  },
  {
   "cell_type": "code",
   "execution_count": 21,
   "id": "e0ec20dc-349c-4177-85c4-f5fc666c659d",
   "metadata": {},
   "outputs": [
    {
     "name": "stdout",
     "output_type": "stream",
     "text": [
      "2133\n"
     ]
    }
   ],
   "source": [
    "withouterrors = readtestsort.filter(readtestsort.average != -1)\n",
    "print(withouterrors.count())\n",
    "#withouterrors.show(100, truncate=150)"
   ]
  },
  {
   "cell_type": "code",
   "execution_count": null,
   "id": "f79eda2d-eb1a-444d-ae84-5caee3efddbb",
   "metadata": {},
   "outputs": [],
   "source": []
  },
  {
   "cell_type": "code",
   "execution_count": null,
   "id": "cd4b559b-05d1-449b-a8df-5dce66a3d55c",
   "metadata": {},
   "outputs": [],
   "source": []
  }
 ],
 "metadata": {
  "kernelspec": {
   "display_name": "Python 3 (ipykernel)",
   "language": "python",
   "name": "python3"
  },
  "language_info": {
   "codemirror_mode": {
    "name": "ipython",
    "version": 3
   },
   "file_extension": ".py",
   "mimetype": "text/x-python",
   "name": "python",
   "nbconvert_exporter": "python",
   "pygments_lexer": "ipython3",
   "version": "3.10.9"
  }
 },
 "nbformat": 4,
 "nbformat_minor": 5
}
