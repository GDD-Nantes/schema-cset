{
 "cells": [
  {
   "cell_type": "code",
   "execution_count": null,
   "id": "725d3e3d-9f37-43b0-b152-615ad67d392c",
   "metadata": {},
   "outputs": [],
   "source": [
    "from pyspark.sql import SparkSession\n",
    "from pyspark.sql import functions as f\n",
    "from pyspark.sql.functions import split\n",
    "from pyspark.sql.functions import col\n",
    "import pandas as pd\n",
    "import matplotlib.pyplot as plt\n",
    "import upsetplot\n",
    "\n",
    "#créer une session dans le master\n",
    "spark = SparkSession.builder.master(\"spark://172.20.53.96:7077\").appName(\"WDC-stats\").getOrCreate()\n",
    "#spark = SparkSession.builder.master(\"local\").appName(\"WDC-stats\").getOrCreate()\n",
    "        \n",
    "#fichiers de config qui permettent de se connecter au serveur de stockage s3 qui contient les fichiers de DataCommons\n",
    "endpoint_url = 'https://s3.os-bird.glicid.fr/'\n",
    "aws_access_key_id = 'bbd95ea3c1174caa88345404b84e458f'\n",
    "aws_secret_access_key = 'eaf2a72ecf9845f583af7f3513c44f25'\n",
    "hadoopConf = spark._jsc.hadoopConfiguration()\n",
    "hadoopConf.set('fs.s3a.access.key', aws_access_key_id)\n",
    "hadoopConf.set('fs.s3a.secret.key', aws_secret_access_key)\n",
    "hadoopConf.set('fs.s3a.endpoint', endpoint_url)\n",
    "hadoopConf.set('fs.s3a.path.style.access', 'true')\n",
    "hadoopConf.set('fs.s3a.impl', 'org.apache.hadoop.fs.s3a.S3AFileSystem')\n",
    "\n",
    "hadoopConf.set('spark.worker.cleanup.enabled', 'true')\n",
    "hadoopConf.set('fs.s3a.committer.name', 'magic')"
   ]
  },
  {
   "cell_type": "code",
   "execution_count": null,
   "id": "81de888d-cbfc-4b41-b04a-17841fad3f00",
   "metadata": {},
   "outputs": [],
   "source": [
    "avgValues = spark.read.option(\"header\",True) \\\n",
    "  .csv(\"s3a://test-out/average/top10000/**\")\n",
    "\n",
    "avgValues = avgValues.withColumn(\"average\", col(\"average\").cast(\"float\"))\n",
    "avgValues.printSchema()\n",
    "avgValues.show(truncate=150)\n"
   ]
  },
  {
   "cell_type": "code",
   "execution_count": null,
   "id": "3d2731c9-fdce-450a-bd35-9368f3fd1381",
   "metadata": {},
   "outputs": [],
   "source": [
    "avgValues = avgValues.sort(avgValues.average.desc())\n",
    "avgValues.show(30, truncate=150)"
   ]
  },
  {
   "cell_type": "code",
   "execution_count": null,
   "id": "62154d40-8a5a-4497-8b6d-a11b4b46dec8",
   "metadata": {},
   "outputs": [],
   "source": [
    "withouterrors = avgValues.filter(avgValues.average != -1)\n",
    "print(withouterrors.count())\n"
   ]
  },
  {
   "cell_type": "code",
   "execution_count": null,
   "id": "e4542061-4d28-477c-b6c2-3d5b20db0c2e",
   "metadata": {},
   "outputs": [],
   "source": [
    "valuesLimit10 = spark.read.option(\"header\",True) \\\n",
    "  .csv(\"s3a://test-out/structuredness/limit10top10000/**\")\n",
    "valuesLimit10.show(truncate=150)\n",
    "\n",
    "valuesLimit10 = valuesLimit10.withColumn(\"average\", col(\"average\").cast(\"float\"))\n",
    "valuesLimit10.printSchema()"
   ]
  },
  {
   "cell_type": "code",
   "execution_count": null,
   "id": "295f47e7-0fdf-49e7-b5e6-ec65d7c7f909",
   "metadata": {},
   "outputs": [],
   "source": [
    "valuesLimit10 = valuesLimit10.sort(valuesLimit10.average.desc())\n",
    "valuesLimit10.show(30, truncate=150)"
   ]
  },
  {
   "cell_type": "code",
   "execution_count": null,
   "id": "d2464e69-7df6-4710-b5af-66ac9d8d7001",
   "metadata": {},
   "outputs": [],
   "source": []
  },
  {
   "cell_type": "code",
   "execution_count": null,
   "id": "596b4e36-5670-4a71-8067-029329049b0d",
   "metadata": {},
   "outputs": [],
   "source": [
    "filtered_df_avg_withoutSchema = avgValues.filter(~avgValues[\"type\"].isin(types_in_schema))\n",
    "filtered_df_avg_withoutSchema.show(30, truncate=150)"
   ]
  },
  {
   "cell_type": "code",
   "execution_count": null,
   "id": "7d37c1ec-c656-4e20-888c-eae60cb66125",
   "metadata": {},
   "outputs": [],
   "source": [
    "filtered_df_avg = avgValues.filter(avgValues[\"type\"].isin(types_in_schema))\n",
    "filtered_df_avg.show(30, truncate=150)"
   ]
  },
  {
   "cell_type": "code",
   "execution_count": null,
   "id": "5e319d04-0551-45bd-8bb4-289cb2d176c9",
   "metadata": {},
   "outputs": [],
   "source": [
    "filtered_df_Limit10_withoutSchema = valuesLimit10.filter(~valuesLimit10[\"type\"].isin(types_in_schema))\n",
    "filtered_df_Limit10_withoutSchema.show(30, truncate=150) "
   ]
  },
  {
   "cell_type": "code",
   "execution_count": null,
   "id": "698e3b38-550f-4b79-a49a-85b67e6c2cfa",
   "metadata": {},
   "outputs": [],
   "source": [
    "filtered_df_Limit10 = valuesLimit10.filter(valuesLimit10[\"type\"].isin(types_in_schema))\n",
    "filtered_df_Limit10.show(30, truncate=150)"
   ]
  },
  {
   "cell_type": "code",
   "execution_count": null,
   "id": "81e692f8-340f-4642-b794-d9babd58aa2c",
   "metadata": {},
   "outputs": [],
   "source": [
    "readall = spark.read.option(\"header\",True) \\\n",
    "  .csv(\"s3a://test-out/wdcfix/**\")\n",
    "\n",
    "csall=readall.groupby(\"pset\").agg(f.sum(\"count\").alias('count')).sort(f.desc(\"count\"))\n",
    "\n",
    "csall.createOrReplaceTempView(\"CSET\")\n",
    "csall.show(truncate=150)"
   ]
  },
  {
   "cell_type": "code",
   "execution_count": null,
   "id": "9ef665e8-2663-47fb-b478-c951f52aa095",
   "metadata": {},
   "outputs": [],
   "source": [
    "from pyspark.sql.functions import col\n",
    "def findISA(topn = None):\n",
    "    if(topn is not None):\n",
    "        param = f\"limit {topn}\"\n",
    "    else:\n",
    "        param = \"\"\n",
    "    \n",
    "    sets = csall.withColumn(\"pset\", split(csall[\"pset\"], \" \"))\n",
    "    \n",
    "    distinct_predicate = sets.selectExpr(\"explode(pset) as predicate\", \"count\") \\\n",
    "                    .groupBy(\"predicate\").agg(f.sum(f.col(\"count\")).alias(\"count\"))  \\\n",
    "                    .createOrReplaceTempView(\"newsets\")\n",
    "    distinct_predicate=spark.sql(f\"select * from newsets where predicate like '%isa:%' and count > 1 order by count desc {param}\")    \n",
    "    return distinct_predicate"
   ]
  },
  {
   "cell_type": "code",
   "execution_count": null,
   "id": "be62099f-f998-438c-b0ea-0b36a3a7b2fa",
   "metadata": {},
   "outputs": [],
   "source": [
    "findIsaTop10000 = findISA(10000)\n",
    "findIsaTop10000.printSchema()\n",
    "findIsaTop10000.show(truncate=150)"
   ]
  },
  {
   "cell_type": "code",
   "execution_count": null,
   "id": "2118bd81-21ba-4ff0-9371-ba0eb9a36b64",
   "metadata": {},
   "outputs": [],
   "source": [
    "from pyspark.sql.functions import desc\n",
    "\n",
    "test=filtered_df_avg.join(findIsaTop10000,filtered_df_avg.type == findIsaTop10000.predicate ,\"inner\").drop(\"predicate\").filter(filtered_df_avg.average != -1).sort(filtered_df_avg.average.desc())\n",
    "test=test.sort(desc('count'))\n",
    "test.printSchema()\n",
    "test.show(truncate=150)\n"
   ]
  },
  {
   "cell_type": "code",
   "execution_count": null,
   "id": "6b6ba018-9478-45f1-9c85-0d8790d316d3",
   "metadata": {},
   "outputs": [],
   "source": [
    "ToFilterOut = [ \"isa:<schema.org/ItemList>\", \"isa:<schema.org/BreadcrumbList>\", \"isa:<schema.org/HowToSection>\", \"isa:<schema.org/HowToStep>\", \"isa:<schema.org/OfferCatalog>\" ]\n",
    "test1 = test.filter(~test1[\"type\"].isin(ToFilterOut))\n",
    "test1=test1.sort(desc('count'))\n",
    "test1.show(30, truncate=150)\n"
   ]
  },
  {
   "cell_type": "code",
   "execution_count": null,
   "id": "a675ec99-08a4-4e44-b919-f1af87dc5ca6",
   "metadata": {},
   "outputs": [],
   "source": [
    "import pandas as pd\n",
    "import matplotlib.pyplot as plt\n",
    "\n",
    "# Convert Spark dataframe to Pandas dataframe\n",
    "pandas_df = test1.toPandas()\n",
    "\n",
    "# Create scatter plot\n",
    "plt.scatter(pandas_df['average'], pandas_df['count'])\n",
    "\n",
    "# Add labels and title\n",
    "plt.xlabel('Average')\n",
    "plt.ylabel('Count')\n",
    "plt.title('Scatter plot of Average and Count')\n",
    "\n",
    "# Show the plot\n",
    "plt.show()\n"
   ]
  },
  {
   "cell_type": "code",
   "execution_count": null,
   "id": "2a854a36-0037-459e-98fa-f29e911e8e10",
   "metadata": {},
   "outputs": [],
   "source": []
  },
  {
   "cell_type": "code",
   "execution_count": null,
   "id": "9f91192c-1642-4b12-985c-b296def00641",
   "metadata": {},
   "outputs": [],
   "source": [
    "import pandas as pd\n",
    "import matplotlib.pyplot as plt\n",
    "\n",
    "# Convert spark dataframe to pandas dataframe\n",
    "df_pd = test1.toPandas()\n",
    "\n",
    "# Create bar plot\n",
    "ax = df_pd.plot(kind='bar', x='type', y='average', color='blue')\n",
    "\n",
    "# Set labels and title\n",
    "ax.set_xlabel(\"Type\")\n",
    "ax.set_ylabel(\"Average\")\n",
    "ax.set_title(\"Average by Type\")\n",
    "\n",
    "# Show plot\n",
    "plt.show()\n"
   ]
  },
  {
   "cell_type": "code",
   "execution_count": null,
   "id": "d7deee4f-6594-4435-ba1a-2cd86e867f1f",
   "metadata": {},
   "outputs": [],
   "source": [
    "\n"
   ]
  },
  {
   "cell_type": "code",
   "execution_count": null,
   "id": "cf8518d1-a5b3-4ffc-8439-a304ace4b752",
   "metadata": {},
   "outputs": [],
   "source": [
    "def upsetplotofclass():\n",
    "    persons=spark.sql(\"select pset,count from CSET where pset like '%isa:<tripinvites.com/hi-in/places/lucknow/shaheed-smarak/ImageObject>%' \")\n",
    "    persons = persons.withColumn(\"pset\", split(persons[\"pset\"], \" \"))\n",
    "    persons.createOrReplaceTempView(\"persons\")\n",
    "    top_persons= spark.sql(\"\"\"\n",
    "    SELECT  *\n",
    "    FROM persons\n",
    "    limit 15\n",
    "    \"\"\")\n",
    "    pandas_persons = top_persons.toPandas()\n",
    "\n",
    "    # Create a list of sets for each row in the DataFrame\n",
    "    pset_list = [set(x) for x in pandas_persons['pset']]\n",
    "\n",
    "\n",
    "    # Create the UpSetplot\n",
    "    upset_data = upsetplot.from_memberships(pset_list, data=pandas_persons['count'])\n",
    "    upsetplot.plot(upset_data, show_counts=True)\n",
    "    \n",
    "    plt.show()"
   ]
  },
  {
   "cell_type": "code",
   "execution_count": null,
   "id": "6f8dd6c7-c8b1-47d8-bc36-805c6aaa9eb8",
   "metadata": {},
   "outputs": [],
   "source": [
    "upsetplotofclass()"
   ]
  },
  {
   "cell_type": "code",
   "execution_count": null,
   "id": "dc0c3f2e-9f1e-4a7e-bf71-10a65d30527f",
   "metadata": {},
   "outputs": [],
   "source": []
  }
 ],
 "metadata": {
  "kernelspec": {
   "display_name": "Python 3 (ipykernel)",
   "language": "python",
   "name": "python3"
  },
  "language_info": {
   "codemirror_mode": {
    "name": "ipython",
    "version": 3
   },
   "file_extension": ".py",
   "mimetype": "text/x-python",
   "name": "python",
   "nbconvert_exporter": "python",
   "pygments_lexer": "ipython3",
   "version": "3.10.9"
  }
 },
 "nbformat": 4,
 "nbformat_minor": 5
}
