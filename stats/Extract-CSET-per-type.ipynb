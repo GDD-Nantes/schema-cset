{
 "cells": [
  {
   "cell_type": "code",
   "execution_count": null,
   "id": "da2b3279-36cd-49b3-b0bc-56de4b727cfd",
   "metadata": {},
   "outputs": [],
   "source": [
    "from pyspark.sql import SparkSession\n",
    "\n",
    "#créer une session dans le master\n",
    "spark = SparkSession.builder \\\n",
    "    .master(\"spark://172.20.53.96:7077\") \\\n",
    "    .appName(\"extract-cset-per-type\") \\\n",
    "    .config(\"spark.executor.memory\",\"28g\") \\\n",
    "    .config(\"spark.driver.memory\",\"28g\") \\\n",
    "    .getOrCreate()\n",
    "#spark = SparkSession.builder.master(\"local\").appName(\"extract-cset-per-type\").getOrCreate()\n",
    "\n",
    "spark.conf.set(\"spark.worker.cleanup.enabled\",True)\n",
    "spark.conf.set(\"spark.worker.cleanup.interval\",1800)\n",
    "spark.conf.set(\"spark.worker.cleanup.appDataTtl\",3600)\n",
    "spark.conf.set(\"spark.sql.shuffle.partitions\",1000)\n",
    "\n",
    "#fichiers de config qui permettent de se connecter au serveur de stockage s3 qui contient les fichiers de DataCommons\n",
    "endpoint_url = 'https://s3.os-bird.glicid.fr/'\n",
    "aws_access_key_id = '***REMOVED***'\n",
    "aws_secret_access_key = '***REMOVED***'\n",
    "hadoopConf = spark._jsc.hadoopConfiguration()\n",
    "hadoopConf.set('fs.s3a.access.key', aws_access_key_id)\n",
    "hadoopConf.set('fs.s3a.secret.key', aws_secret_access_key)\n",
    "hadoopConf.set('fs.s3a.endpoint', endpoint_url)\n",
    "hadoopConf.set('fs.s3a.path.style.access', 'true')\n",
    "hadoopConf.set('fs.s3a.impl', 'org.apache.hadoop.fs.s3a.S3AFileSystem')\n",
    "\n",
    "hadoopConf.set('spark.worker.cleanup.enabled', 'true')\n",
    "hadoopConf.set('fs.s3a.committer.name', 'magic')"
   ]
  },
  {
   "cell_type": "code",
   "execution_count": null,
   "id": "a65a28ea-8bba-45e2-994b-c56199667d50",
   "metadata": {},
   "outputs": [],
   "source": [
    "from pyspark.sql import functions as f\n",
    "\n",
    "from pyspark.sql.functions import split\n",
    "from pyspark.sql.functions import col\n",
    "\n",
    "readavant = spark.read.option(\"header\",True) \\\n",
    "  .csv(\"s3a://test-out/wdcfix/**\")\n",
    "\n",
    "csavant=readavant.groupby(\"pset\").agg(f.sum(\"count\").alias('count')).sort(f.desc(\"count\"))\n",
    "\n",
    "csavant.createOrReplaceTempView(\"CSET_avant\")\n",
    "csavant.show(truncate=150)\n",
    "\n",
    "readapres = spark.read.option(\"header\",True) \\\n",
    "  .csv(\"s3a://test-out/cset-wdc-2023-fix2/**\")\n",
    "\n",
    "# fix wrong formatting\n",
    "csapres = csapres.withColumn(\"pset\", f.regexp_replace(f.col(\"pset\"), \"isa:<([Hh][Tt][Tt][Pp][Ss]?://)?([Ww]{3}\\.)?\", \"isa:<\"))\n",
    "\n",
    "csapres=readapres.groupby(\"pset\").agg(f.sum(\"count\").alias('count')).sort(f.desc(\"count\"))\n",
    "\n",
    "csapres.createOrReplaceTempView(\"CSET_apres\")\n",
    "csapres.show(truncate=150)"
   ]
  },
  {
   "cell_type": "code",
   "execution_count": 19,
   "id": "f0e65065-e7fe-4cc0-a742-593124df7923",
   "metadata": {},
   "outputs": [],
   "source": [
    "# calcule le count, l'average et le coverage d'un type de données\n",
    "import json\n",
    "import os\n",
    "import re\n",
    "def getCSETofType(data, pred, saveloc):\n",
    "    \n",
    "    \n",
    "    # Danger injection SQL\n",
    "    pred = pred.replace(\"'\", \"\\\\'\")\n",
    "    sets = spark.sql(f\"SELECT pset, count FROM {data} WHERE pset LIKE '%{pred}%'\")\n",
    "    sets = sets.withColumn(\"pset\", f.split(sets[\"pset\"], \" \"))\n",
    "    jsonsets = sets.toJSON().collect()\n",
    "    \n",
    "    pattern = r'isa:<schema\\.org/(\\w+)>'\n",
    "    match = re.search(pattern, pred)\n",
    "    typeN = match.group(1)\n",
    "    \n",
    "    if not os.path.exists(f\"test-out/{saveloc}\"):\n",
    "        os.makedirs(f\"test-out/{saveloc}\")\n",
    "\n",
    "    file_path = os.path.join(f\"test-out/{saveloc}\", f\"{typeN}.json\")\n",
    "    \n",
    "    with open(file_path, \"w\") as outfile:\n",
    "        json.dump(jsonsets, outfile, indent=4)\n",
    "    \n",
    "    "
   ]
  },
  {
   "cell_type": "code",
   "execution_count": 20,
   "id": "8e77eda0-df54-46cb-94d2-9c68e040ac93",
   "metadata": {},
   "outputs": [
    {
     "name": "stdout",
     "output_type": "stream",
     "text": [
      "['isa:<schema.org/Recipe>']\n",
      "isa:<schema.org/Recipe>\n"
     ]
    },
    {
     "name": "stderr",
     "output_type": "stream",
     "text": [
      "                                                                                \r"
     ]
    }
   ],
   "source": [
    "from pyspark.sql import Row\n",
    "\n",
    "\n",
    "type_name_list = \n",
    "\n",
    "print(type_name_list)\n",
    "\n",
    "for pred in type_name_list:\n",
    "    print(pred)\n",
    "\n",
    "    getCSETofType(\"CSET_avant\", pred, \"cset-avant-per-type\")\n",
    "    getCSETofType(\"CSET_apres\", pred, \"cset-apres-per-type\")\n",
    "    "
   ]
  },
  {
   "cell_type": "code",
   "execution_count": null,
   "id": "24123ac7-aecc-4e45-a364-02c5f1b01d86",
   "metadata": {},
   "outputs": [],
   "source": []
  },
  {
   "cell_type": "code",
   "execution_count": null,
   "id": "2d6842db-d3c3-465e-b177-be10aa796d59",
   "metadata": {},
   "outputs": [],
   "source": []
  }
 ],
 "metadata": {
  "kernelspec": {
   "display_name": "Python 3 (ipykernel)",
   "language": "python",
   "name": "python3"
  },
  "language_info": {
   "codemirror_mode": {
    "name": "ipython",
    "version": 3
   },
   "file_extension": ".py",
   "mimetype": "text/x-python",
   "name": "python",
   "nbconvert_exporter": "python",
   "pygments_lexer": "ipython3",
   "version": "3.10.9"
  }
 },
 "nbformat": 4,
 "nbformat_minor": 5
}
