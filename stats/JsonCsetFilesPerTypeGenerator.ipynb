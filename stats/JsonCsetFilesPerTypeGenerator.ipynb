{
 "cells": [
  {
   "cell_type": "code",
   "execution_count": 1,
   "id": "da2b3279-36cd-49b3-b0bc-56de4b727cfd",
   "metadata": {},
   "outputs": [
    {
     "name": "stderr",
     "output_type": "stream",
     "text": [
      "Setting default log level to \"WARN\".\n",
      "To adjust logging level use sc.setLogLevel(newLevel). For SparkR, use setLogLevel(newLevel).\n"
     ]
    },
    {
     "name": "stdout",
     "output_type": "stream",
     "text": [
      "23/12/29 23:50:11 WARN NativeCodeLoader: Unable to load native-hadoop library for your platform... using builtin-java classes where applicable\n"
     ]
    }
   ],
   "source": [
    "from pyspark.sql import SparkSession\n",
    "\n",
    "#créer une session dans le master\n",
    "spark = SparkSession.builder \\\n",
    "    .master(\"spark://172.20.53.96:7077\") \\\n",
    "    .appName(\"extract-cset-per-type\") \\\n",
    "    .config(\"spark.executor.memory\",\"28g\") \\\n",
    "    .config(\"spark.driver.memory\",\"28g\") \\\n",
    "    .getOrCreate()\n",
    "#spark = SparkSession.builder.master(\"local\").appName(\"extract-cset-per-type\").getOrCreate()\n",
    "\n",
    "spark.conf.set(\"spark.worker.cleanup.enabled\",True)\n",
    "spark.conf.set(\"spark.worker.cleanup.interval\",1800)\n",
    "spark.conf.set(\"spark.worker.cleanup.appDataTtl\",3600)\n",
    "spark.conf.set(\"spark.sql.shuffle.partitions\",1000)\n",
    "\n",
    "#fichiers de config qui permettent de se connecter au serveur de stockage s3 qui contient les fichiers de DataCommons\n",
    "endpoint_url = 'https://s3.os-bird.glicid.fr/'\n",
    "aws_access_key_id = '***REMOVED***'\n",
    "aws_secret_access_key = '***REMOVED***'\n",
    "hadoopConf = spark._jsc.hadoopConfiguration()\n",
    "hadoopConf.set('fs.s3a.access.key', aws_access_key_id)\n",
    "hadoopConf.set('fs.s3a.secret.key', aws_secret_access_key)\n",
    "hadoopConf.set('fs.s3a.endpoint', endpoint_url)\n",
    "hadoopConf.set('fs.s3a.path.style.access', 'true')\n",
    "hadoopConf.set('fs.s3a.impl', 'org.apache.hadoop.fs.s3a.S3AFileSystem')\n",
    "\n",
    "hadoopConf.set('spark.worker.cleanup.enabled', 'true')\n",
    "hadoopConf.set('fs.s3a.committer.name', 'magic')"
   ]
  },
  {
   "cell_type": "code",
   "execution_count": 2,
   "id": "5b0a58e4-9527-48bb-84f3-7a58fb881aee",
   "metadata": {},
   "outputs": [
    {
     "name": "stdout",
     "output_type": "stream",
     "text": [
      "2nouveauExemplePetitGraph.ipynb     \u001b[0m\u001b[01;34mcoucou1\u001b[0m/\n",
      "APushExemplePetitGraph.ipynb        \u001b[01;34mcovavevolutionresult-fix.json\u001b[0m/\n",
      "AffichageDiagrammesDiapo.ipynb      cset-apres-per-type.zip\n",
      "AffichageResultatsDiagramme.ipynb   cset-avant-per-type.zip\n",
      "AveragePredicatesPetitGraphe.ipynb  intersection.ipynb\n",
      "CScompleteWDC-test.ipynb            nouveauExemplePetitGraph.ipynb\n",
      "CScompleteWDC.ipynb                 partialCSETtest.ipynb\n",
      "CalculJSONTypes.ipynb               petitGrapheRDFapres.txt\n",
      "ExemplePetitGraphe.ipynb            petitGrapheRDFavant.txt\n",
      "JsonCsetFilesGenerator.ipynb        schemaTypes.json\n",
      "Test-JsonCsetFilesGenerator.ipynb   \u001b[01;34mspark-warehouse\u001b[0m/\n",
      "Untitled1.ipynb                     \u001b[01;34mtest-out\u001b[0m/\n",
      "WDCanalyseTemporelle.ipynb          test.json\n",
      "\u001b[01;34mcoucou\u001b[0m/                             zipData.ipynb\n"
     ]
    }
   ],
   "source": [
    "%ls"
   ]
  },
  {
   "cell_type": "code",
   "execution_count": 2,
   "id": "a65a28ea-8bba-45e2-994b-c56199667d50",
   "metadata": {},
   "outputs": [
    {
     "name": "stdout",
     "output_type": "stream",
     "text": [
      "23/12/22 16:49:06 WARN MetricsConfig: Cannot locate configuration: tried hadoop-metrics2-s3a-file-system.properties,hadoop-metrics2.properties\n"
     ]
    },
    {
     "name": "stderr",
     "output_type": "stream",
     "text": [
      "                                                                                \r"
     ]
    },
    {
     "name": "stdout",
     "output_type": "stream",
     "text": [
      "+------------------------------------------------------------------------------------------------------------------------------------------------------+------------+\n",
      "|                                                                                                                                                  pset|       count|\n",
      "+------------------------------------------------------------------------------------------------------------------------------------------------------+------------+\n",
      "|                                                                                     <schema.org/item> <schema.org/position> isa:<schema.org/ListItem>|6.82461002E8|\n",
      "|                                                                                          <schema.org/itemListElement> isa:<schema.org/BreadcrumbList>|4.56168963E8|\n",
      "|                                                                   <schema.org/item> <schema.org/name> <schema.org/position> isa:<schema.org/ListItem>| 3.9303227E8|\n",
      "|                                                                            <schema.org/query-input> <schema.org/target> isa:<schema.org/SearchAction>|3.71205933E8|\n",
      "|                                                                                                       <schema.org/target> isa:<schema.org/ReadAction>|2.43969439E8|\n",
      "|                                                                  <schema.org/height> <schema.org/url> <schema.org/width> isa:<schema.org/ImageObject>|2.35834591E8|\n",
      "|                                                                                     <schema.org/name> <schema.org/position> isa:<schema.org/ListItem>|1.82126401E8|\n",
      "|                                                                                                  <schema.org/urlTemplate> isa:<schema.org/EntryPoint>|1.72825926E8|\n",
      "|                                                                                                             <schema.org/name> isa:<schema.org/Person>|1.55357708E8|\n",
      "|                                                                                                                                     <schema.org/name>| 1.1433797E8|\n",
      "|                                                                                                         <schema.org/url> isa:<schema.org/ImageObject>|1.10136719E8|\n",
      "|                                                                                     <schema.org/logo> <schema.org/name> isa:<schema.org/Organization>|1.08881816E8|\n",
      "|                                                                                                       <schema.org/name> isa:<schema.org/Organization>| 9.7306259E7|\n",
      "|                                                                                                                              isa:<schema.org/WebPage>| 6.9782454E7|\n",
      "|                                                                                      <schema.org/position> <schema.org/url> isa:<schema.org/ListItem>| 6.7696938E7|\n",
      "|                                                                                                              <schema.org/name> isa:<schema.org/Thing>| 5.1381432E7|\n",
      "|<schema.org/addressCountry> <schema.org/addressLocality> <schema.org/addressRegion> <schema.org/postalCode> <schema.org/streetAddress> isa:<schema....| 5.0753321E7|\n",
      "|                                                                         <schema.org/image> <schema.org/name> <schema.org/url> isa:<schema.org/Person>| 5.0434022E7|\n",
      "|                                                                                           <schema.org/name> <schema.org/url> isa:<schema.org/WebPage>| 4.9701738E7|\n",
      "|                                                                             <schema.org/name> <schema.org/url> isa:<schema.org/SiteNavigationElement>| 4.9037353E7|\n",
      "+------------------------------------------------------------------------------------------------------------------------------------------------------+------------+\n",
      "only showing top 20 rows\n",
      "\n"
     ]
    },
    {
     "name": "stderr",
     "output_type": "stream",
     "text": [
      "[Stage 9:=============================>                             (2 + 1) / 4]\r"
     ]
    },
    {
     "name": "stdout",
     "output_type": "stream",
     "text": [
      "+------------------------------------------------------------------------------------------------------------------------------------------------------+------------+\n",
      "|                                                                                                                                                  pset|       count|\n",
      "+------------------------------------------------------------------------------------------------------------------------------------------------------+------------+\n",
      "|                                                                                     <schema.org/item> <schema.org/position> isa:<schema.org/ListItem>|6.69795521E8|\n",
      "|                                                                   <schema.org/item> <schema.org/name> <schema.org/position> isa:<schema.org/ListItem>|6.28831774E8|\n",
      "|                                                                                          <schema.org/itemListElement> isa:<schema.org/BreadcrumbList>|5.90033241E8|\n",
      "|                                                                            <schema.org/query-input> <schema.org/target> isa:<schema.org/SearchAction>|4.61555008E8|\n",
      "|                                                                                     <schema.org/name> <schema.org/position> isa:<schema.org/ListItem>|3.37388458E8|\n",
      "|                                                                                                  <schema.org/urlTemplate> isa:<schema.org/EntryPoint>|3.29430032E8|\n",
      "|                                                                                                       <schema.org/target> isa:<schema.org/ReadAction>| 2.9582821E8|\n",
      "|                                                                  <schema.org/height> <schema.org/url> <schema.org/width> isa:<schema.org/ImageObject>|2.25938521E8|\n",
      "|                                                                                                             <schema.org/name> isa:<schema.org/Person>| 1.5642823E8|\n",
      "|                  <schema.org/contentUrl> <schema.org/height> <schema.org/inLanguage> <schema.org/url> <schema.org/width> isa:<schema.org/ImageObject>|1.18378176E8|\n",
      "|                                                                                                       <schema.org/name> isa:<schema.org/Organization>|1.09062426E8|\n",
      "|                                                                                                         <schema.org/url> isa:<schema.org/ImageObject>|1.04991572E8|\n",
      "|                                                                                     <schema.org/logo> <schema.org/name> isa:<schema.org/Organization>|1.02825718E8|\n",
      "|                                                                                                                                     <schema.org/name>| 9.9457783E7|\n",
      "|<schema.org/caption> <schema.org/contentUrl> <schema.org/height> <schema.org/inLanguage> <schema.org/url> <schema.org/width> isa:<schema.org/ImageO...| 8.5534459E7|\n",
      "|                                                                                                                              isa:<schema.org/WebPage>| 6.1872833E7|\n",
      "|<schema.org/addressCountry> <schema.org/addressLocality> <schema.org/addressRegion> <schema.org/postalCode> <schema.org/streetAddress> isa:<schema....| 6.0160777E7|\n",
      "|                                                                                      <schema.org/name> <schema.org/url> isa:<schema.org/Organization>| 5.8466569E7|\n",
      "|<schema.org/breadcrumb> <schema.org/dateModified> <schema.org/datePublished> <schema.org/image> <schema.org/inLanguage> <schema.org/isPartOf> <sche...| 5.8400734E7|\n",
      "|                                                                                      <schema.org/position> <schema.org/url> isa:<schema.org/ListItem>| 5.4910512E7|\n",
      "+------------------------------------------------------------------------------------------------------------------------------------------------------+------------+\n",
      "only showing top 20 rows\n",
      "\n"
     ]
    },
    {
     "name": "stderr",
     "output_type": "stream",
     "text": [
      "                                                                                \r"
     ]
    }
   ],
   "source": [
    "from pyspark.sql import functions as f\n",
    "\n",
    "from pyspark.sql.functions import split\n",
    "from pyspark.sql.functions import col\n",
    "\n",
    "readavant = spark.read.option(\"header\",True) \\\n",
    "  .csv(\"s3a://test-out/wdcfix/**\")\n",
    "\n",
    "csavant=readavant.groupby(\"pset\").agg(f.sum(\"count\").alias('count')).sort(f.desc(\"count\"))\n",
    "\n",
    "csavant.createOrReplaceTempView(\"CSET_avant\")\n",
    "csavant.show(truncate=150)\n",
    "\n",
    "readapres = spark.read.option(\"header\",True) \\\n",
    "  .csv(\"s3a://test-out/cset-wdc-2023-fix2/**\")\n",
    "\n",
    "# fix wrong formatting\n",
    "csapres = readapres.withColumn(\"pset\", f.regexp_replace(f.col(\"pset\"), \"isa:<([Hh][Tt][Tt][Pp][Ss]?://)?([Ww]{3}\\.)?\", \"isa:<\"))\n",
    "csapres = csapres.groupby(\"pset\").agg(f.sum(\"count\").alias('count')).sort(f.desc(\"count\"))\n",
    "\n",
    "\n",
    "csapres.createOrReplaceTempView(\"CSET_apres\")\n",
    "csapres.show(truncate=150)"
   ]
  },
  {
   "cell_type": "code",
   "execution_count": 3,
   "id": "f0e65065-e7fe-4cc0-a742-593124df7923",
   "metadata": {},
   "outputs": [],
   "source": [
    "# calcule le count, l'average et le coverage d'un type de données\n",
    "import json\n",
    "import os\n",
    "import re\n",
    "def getCSETofType(data, pred, saveloc):\n",
    "    \n",
    "    # Danger injection SQL\n",
    "    pred = pred.replace(\"'\", \"\\\\'\")\n",
    "    sets = spark.sql(f\"SELECT pset, count FROM {data} WHERE pset LIKE '%{pred}%'\")\n",
    "    sets = sets.withColumn(\"pset\", f.split(sets[\"pset\"], \" \"))\n",
    "    jsonsets = sets.toJSON().collect()\n",
    "    \n",
    "    pattern = r'isa:<schema\\.org/(\\w+)>'\n",
    "    match = re.search(pattern, pred)\n",
    "    typeN = match.group(1)\n",
    "    \n",
    "    if not os.path.exists(f\"test-out/{saveloc}\"):\n",
    "        os.makedirs(f\"test-out/{saveloc}\")\n",
    "\n",
    "    file_path = os.path.join(f\"test-out/{saveloc}\", f\"{typeN}.json\")\n",
    "    \n",
    "    # Create a list to hold individual JSON objects\n",
    "    json_objects = []\n",
    "\n",
    "    for json_str in jsonsets:\n",
    "        # Load each JSON string as a Python dictionary\n",
    "        json_obj = json.loads(json_str)\n",
    "        json_objects.append(json_obj)\n",
    "    \n",
    "    with open(file_path, \"w\") as outfile:\n",
    "        json.dump(json_objects, outfile, indent=4)\n",
    "    \n",
    "    "
   ]
  },
  {
   "cell_type": "code",
   "execution_count": 4,
   "id": "8e77eda0-df54-46cb-94d2-9c68e040ac93",
   "metadata": {},
   "outputs": [
    {
     "name": "stdout",
     "output_type": "stream",
     "text": [
      "['isa:<schema.org/Recipe>']\n",
      "isa:<schema.org/Recipe>\n"
     ]
    },
    {
     "name": "stderr",
     "output_type": "stream",
     "text": [
      "                                                                                \r"
     ]
    }
   ],
   "source": [
    "from pyspark.sql import Row\n",
    "\n",
    "type_name_list = \n",
    "\n",
    "print(type_name_list)\n",
    "\n",
    "for pred in type_name_list:\n",
    "    print(pred)\n",
    "\n",
    "    getCSETofType(\"CSET_avant\", pred, \"new-cset-avant-per-type\")\n",
    "    getCSETofType(\"CSET_apres\", pred, \"new-cset-apres-per-type\")\n",
    "    "
   ]
  },
  {
   "cell_type": "code",
   "execution_count": null,
   "id": "24123ac7-aecc-4e45-a364-02c5f1b01d86",
   "metadata": {},
   "outputs": [],
   "source": []
  },
  {
   "cell_type": "code",
   "execution_count": null,
   "id": "2d6842db-d3c3-465e-b177-be10aa796d59",
   "metadata": {},
   "outputs": [],
   "source": []
  }
 ],
 "metadata": {
  "kernelspec": {
   "display_name": "Python 3 (ipykernel)",
   "language": "python",
   "name": "python3"
  },
  "language_info": {
   "codemirror_mode": {
    "name": "ipython",
    "version": 3
   },
   "file_extension": ".py",
   "mimetype": "text/x-python",
   "name": "python",
   "nbconvert_exporter": "python",
   "pygments_lexer": "ipython3",
   "version": "3.10.9"
  }
 },
 "nbformat": 4,
 "nbformat_minor": 5
}
