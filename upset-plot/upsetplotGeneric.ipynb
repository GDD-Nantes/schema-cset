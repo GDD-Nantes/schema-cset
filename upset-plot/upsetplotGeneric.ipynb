{
 "cells": [
  {
   "cell_type": "code",
   "execution_count": null,
   "metadata": {
    "id": "3d5W8oAFAKH7"
   },
   "outputs": [],
   "source": [
    "from pyspark.sql import SparkSession\n",
    "from pyspark.sql import functions as f\n",
    "from pyspark.sql.functions import split\n",
    "import pandas as pd\n",
    "import matplotlib.pyplot as plt\n",
    "import upsetplot\n",
    "\n",
    "\n",
    "#créer une session dans le master\n",
    "spark = SparkSession.builder.master(\"spark://172.20.53.96:7077\").appName(\"WDC-readAll\").getOrCreate()\n",
    "#spark = SparkSession.builder.master(\"local\").appName(\"WDC-readAll\").getOrCreate()\n",
    "        \n",
    "#fichiers de config qui permettent de se connecter au serveur de stockage s3 qui contient les fichiers de DataCommons\n",
    "endpoint_url = 'https://s3.os-bird.glicid.fr/'\n",
    "aws_access_key_id = '***REMOVED***'\n",
    "aws_secret_access_key = '***REMOVED***'\n",
    "hadoopConf = spark._jsc.hadoopConfiguration()\n",
    "hadoopConf.set('fs.s3a.access.key', aws_access_key_id)\n",
    "hadoopConf.set('fs.s3a.secret.key', aws_secret_access_key)\n",
    "hadoopConf.set('fs.s3a.endpoint', endpoint_url)\n",
    "hadoopConf.set('fs.s3a.path.style.access', 'true')\n",
    "hadoopConf.set('fs.s3a.impl', 'org.apache.hadoop.fs.s3a.S3AFileSystem')\n",
    "\n",
    "hadoopConf.set('spark.worker.cleanup.enabled', 'true')\n",
    "hadoopConf.set('fs.s3a.committer.name', 'magic')"
   ]
  },
  {
   "cell_type": "code",
   "execution_count": null,
   "metadata": {
    "id": "CNng_QiJASoL"
   },
   "outputs": [],
   "source": [
    "readall = spark.read.option(\"header\",True) \\\n",
    "  .csv(\"s3a://test-out/wdc-httpswww/**\")\n",
    "\n",
    "readall.take(5)\n",
    "\n",
    "import pyspark.sql.functions as f\n",
    "csall=readall.groupby(\"pset\").agg(f.sum(\"count\").alias('count')).sort(f.desc(\"count\"))\n",
    "\n",
    "csall.createOrReplaceTempView(\"CSET\")\n",
    "csall.show(50,truncate=100)"
   ]
  },
  {
   "cell_type": "code",
   "execution_count": null,
   "metadata": {
    "id": "GqAe8bY1AVXC"
   },
   "outputs": [],
   "source": [
    "def upsetplotofclass(cname):\n",
    "    persons=spark.sql(\"select pset,count from CSET where pset like '%isa:<schema.org/\"+cname+\">%' \")\n",
    "    persons = persons.withColumn(\"pset\", split(persons[\"pset\"], \" \"))\n",
    "    persons.createOrReplaceTempView(\"persons\")\n",
    "    top_persons= spark.sql(\"\"\"\n",
    "    SELECT  *\n",
    "    FROM persons\n",
    "    limit 20\n",
    "    \"\"\")\n",
    "    pandas_persons = top_persons.toPandas()\n",
    "\n",
    "    # Create a list of sets for each row in the DataFrame\n",
    "    pset_list = [set(x) for x in pandas_persons['pset']]\n",
    "\n",
    "\n",
    "    # Create the UpSetplot\n",
    "    upset_data = upsetplot.from_memberships(pset_list, data=pandas_persons['count'])\n",
    "    upsetplot.plot(upset_data, show_counts=True)\n",
    "    plt.show()\n",
    "    "
   ]
  },
  {
   "cell_type": "code",
   "execution_count": null,
   "metadata": {
    "id": "V77rQuraAYc2"
   },
   "outputs": [],
   "source": [
    "upsetplotofclass(\"Recipe\")"
   ]
  }
 ],
 "metadata": {
  "colab": {
   "provenance": []
  },
  "kernelspec": {
   "display_name": "Python 3 (ipykernel)",
   "language": "python",
   "name": "python3"
  },
  "language_info": {
   "codemirror_mode": {
    "name": "ipython",
    "version": 3
   },
   "file_extension": ".py",
   "mimetype": "text/x-python",
   "name": "python",
   "nbconvert_exporter": "python",
   "pygments_lexer": "ipython3",
   "version": "3.10.9"
  }
 },
 "nbformat": 4,
 "nbformat_minor": 1
}
