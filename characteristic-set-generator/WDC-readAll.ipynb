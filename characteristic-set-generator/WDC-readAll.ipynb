{
 "cells": [
  {
   "cell_type": "code",
   "execution_count": 1,
   "id": "b55d17d2-e85c-4556-940a-243cf6d025f0",
   "metadata": {},
   "outputs": [
    {
     "name": "stderr",
     "output_type": "stream",
     "text": [
      "Setting default log level to \"WARN\".\n",
      "To adjust logging level use sc.setLogLevel(newLevel). For SparkR, use setLogLevel(newLevel).\n"
     ]
    },
    {
     "name": "stdout",
     "output_type": "stream",
     "text": [
      "23/03/27 15:12:19 WARN NativeCodeLoader: Unable to load native-hadoop library for your platform... using builtin-java classes where applicable\n",
      "23/03/27 15:12:19 WARN SparkConf: Note that spark.local.dir will be overridden by the value set by the cluster manager (via SPARK_LOCAL_DIRS in mesos/standalone/kubernetes and LOCAL_DIRS in YARN).\n"
     ]
    }
   ],
   "source": [
    "from pyspark.sql import SparkSession\n",
    "from pyspark.sql import functions as f\n",
    "\n",
    "#créer une session dans le master\n",
    "spark = SparkSession.builder.master(\"spark://172.20.53.96:7077\").appName(\"WDC-readAll\").getOrCreate()\n",
    "#spark = SparkSession.builder.master(\"local\").appName(\"WDC-readAll\").getOrCreate()\n",
    "\n",
    "#fichiers de config qui permettent de se connecter au serveur de stockage s3 qui contient les fichiers de DataCommons\n",
    "endpoint_url = 'https://s3.os-bird.glicid.fr/'\n",
    "aws_access_key_id = 'bbd95ea3c1174caa88345404b84e458f'\n",
    "aws_secret_access_key = 'eaf2a72ecf9845f583af7f3513c44f25'\n",
    "hadoopConf = spark._jsc.hadoopConfiguration()\n",
    "hadoopConf.set('fs.s3a.access.key', aws_access_key_id)\n",
    "hadoopConf.set('fs.s3a.secret.key', aws_secret_access_key)\n",
    "hadoopConf.set('fs.s3a.endpoint', endpoint_url)\n",
    "hadoopConf.set('fs.s3a.path.style.access', 'true')\n",
    "hadoopConf.set('fs.s3a.impl', 'org.apache.hadoop.fs.s3a.S3AFileSystem')\n",
    "\n",
    "hadoopConf.set('spark.worker.cleanup.enabled', 'true')\n",
    "hadoopConf.set('fs.s3a.committer.name', 'magic')"
   ]
  },
  {
   "cell_type": "code",
   "execution_count": 5,
   "id": "827fd266-0e1a-4475-8902-bc95d1e1e05b",
   "metadata": {},
   "outputs": [
    {
     "name": "stderr",
     "output_type": "stream",
     "text": [
      "[Stage 18:==================================================>     (60 + 7) / 67]\r"
     ]
    },
    {
     "name": "stdout",
     "output_type": "stream",
     "text": [
      "+---------------------------------------------------------------------------------------------------------------------------------------------------------------------+------------+\n",
      "|pset                                                                                                                                                                 |count       |\n",
      "+---------------------------------------------------------------------------------------------------------------------------------------------------------------------+------------+\n",
      "|<schema.org/item>|<schema.org/position>|isa:<schema.org/ListItem>                                                                                                    |6.82470722E8|\n",
      "|<schema.org/itemListElement>|isa:<schema.org/BreadcrumbList>                                                                                                         |4.56613881E8|\n",
      "|<schema.org/item>|<schema.org/name>|<schema.org/position>|isa:<schema.org/ListItem>                                                                                  |3.93001409E8|\n",
      "|<schema.org/query-input>|<schema.org/target>|isa:<schema.org/SearchAction>                                                                                           |3.71206005E8|\n",
      "|<schema.org/target>|isa:<schema.org/ReadAction>                                                                                                                      |2.43969439E8|\n",
      "|<schema.org/height>|<schema.org/url>|<schema.org/width>|isa:<schema.org/ImageObject>                                                                                 |2.35893972E8|\n",
      "|<schema.org/name>|<schema.org/position>|isa:<schema.org/ListItem>                                                                                                    |1.82109377E8|\n",
      "|<schema.org/urlTemplate>|isa:<schema.org/EntryPoint>                                                                                                                 |1.72825926E8|\n",
      "|<schema.org/name>|isa:<schema.org/Person>                                                                                                                            |1.55338855E8|\n",
      "|<schema.org/name>                                                                                                                                                    |1.14561839E8|\n",
      "|<schema.org/url>|isa:<schema.org/ImageObject>                                                                                                                        |1.10139545E8|\n",
      "|<schema.org/logo>|<schema.org/name>|isa:<schema.org/Organization>                                                                                                    |1.08864627E8|\n",
      "|<schema.org/name>|isa:<schema.org/Organization>                                                                                                                      |9.7286377E7 |\n",
      "|isa:<schema.org/WebPage>                                                                                                                                             |7.0323864E7 |\n",
      "|<schema.org/position>|<schema.org/url>|isa:<schema.org/ListItem>                                                                                                     |6.7716488E7 |\n",
      "|<schema.org/name>|isa:<schema.org/Thing>                                                                                                                             |5.1377771E7 |\n",
      "|<schema.org/addressCountry>|<schema.org/addressLocality>|<schema.org/addressRegion>|<schema.org/postalCode>|<schema.org/streetAddress>|isa:<schema.org/PostalAddress>|5.0760651E7 |\n",
      "|<schema.org/image>|<schema.org/name>|<schema.org/url>|isa:<schema.org/Person>                                                                                        |5.0449121E7 |\n",
      "|<schema.org/name>|<schema.org/url>|isa:<schema.org/WebPage>                                                                                                          |4.9774822E7 |\n",
      "|<schema.org/name>|<schema.org/url>|isa:<schema.org/SiteNavigationElement>                                                                                            |4.9007921E7 |\n",
      "+---------------------------------------------------------------------------------------------------------------------------------------------------------------------+------------+\n",
      "only showing top 20 rows\n",
      "\n"
     ]
    },
    {
     "name": "stderr",
     "output_type": "stream",
     "text": [
      "                                                                                \r"
     ]
    }
   ],
   "source": [
    "readall = spark.read.option(\"header\",True) \\\n",
    "  .csv(\"s3a://test-out/wdc-httpswww/**\")\n",
    "\n",
    "readall.take(5)\n",
    "\n",
    "import pyspark.sql.functions as f\n",
    "csall=readall.groupby(\"pset\").agg(f.sum(\"count\").alias('count')).sort(f.desc(\"count\"))\n",
    "csall.show(truncate=0)\n",
    "csall.createOrReplaceTempView(\"CSET\")"
   ]
  },
  {
   "cell_type": "code",
   "execution_count": 7,
   "id": "d85fd8a5-7531-45cd-899f-d51507749073",
   "metadata": {},
   "outputs": [
    {
     "name": "stderr",
     "output_type": "stream",
     "text": [
      "[Stage 20:=======================================================>(57 + 1) / 58]\r"
     ]
    },
    {
     "name": "stdout",
     "output_type": "stream",
     "text": [
      "+--------------------------------------------------------------------------------------------------------------------------------------------------------------------------------------------+------------+\n",
      "|pset                                                                                                                                                                                        |count       |\n",
      "+--------------------------------------------------------------------------------------------------------------------------------------------------------------------------------------------+------------+\n",
      "|<schema.org/name>|isa:<schema.org/Person>                                                                                                                                                   |1.55338855E8|\n",
      "|<schema.org/image>|<schema.org/name>|<schema.org/url>|isa:<schema.org/Person>                                                                                                               |5.0449121E7 |\n",
      "|<schema.org/name>|<schema.org/url>|isa:<schema.org/Person>                                                                                                                                  |2.6940652E7 |\n",
      "|<schema.org/description>|<schema.org/email>|<schema.org/name>|<schema.org/sameAs>|<schema.org/telephone>|<schema.org/url>|isa:<schema.org/Person>                                           |1.145778E7  |\n",
      "|<schema.org/image>|<schema.org/name>|isa:<schema.org/Person>                                                                                                                                |1.1346564E7 |\n",
      "|<schema.org/name>|<schema.org/sameAs>|isa:<schema.org/Person>                                                                                                                               |5104558.0   |\n",
      "|<schema.org/description>|<schema.org/image>|<schema.org/name>|<schema.org/url>|isa:<schema.org/Person>                                                                                      |4722498.0   |\n",
      "|<schema.org/description>|<schema.org/image>|<schema.org/name>|<schema.org/sameAs>|<schema.org/url>|isa:<schema.org/Person>                                                                  |3984353.0   |\n",
      "|<schema.org/name>|<schema.org/sameAs>|<schema.org/url>|isa:<schema.org/Person>                                                                                                              |3849656.0   |\n",
      "|<schema.org/affiliation>|<schema.org/name>|isa:<schema.org/Person>                                                                                                                          |2496374.0   |\n",
      "|<schema.org/jobTitle>|<schema.org/name>|isa:<schema.org/Person>                                                                                                                             |1793289.0   |\n",
      "|<schema.org/image>|<schema.org/name>|<schema.org/sameAs>|<schema.org/url>|isa:<schema.org/Person>                                                                                           |1503312.0   |\n",
      "|<schema.org/additionalName>|<schema.org/birthDate>|<schema.org/deathDate>|<schema.org/description>|<schema.org/familyName>|<schema.org/givenName>|<schema.org/image>|isa:<schema.org/Person>|1141858.0   |\n",
      "|isa:<schema.org/Person>                                                                                                                                                                     |1013159.0   |\n",
      "|<schema.org/description>|<schema.org/email>|<schema.org/name>|<schema.org/telephone>|<schema.org/url>|isa:<schema.org/Person>                                                               |782238.0    |\n",
      "|<schema.org/image>|<schema.org/name>|<schema.org/sameAs>|isa:<schema.org/Person>                                                                                                            |714303.0    |\n",
      "|<schema.org/image>|<schema.org/mainEntityOfPage>|<schema.org/name>|isa:<schema.org/Person>                                                                                                  |573784.0    |\n",
      "|<schema.org/alumniOf>|<schema.org/image>|<schema.org/name>|<schema.org/url>|isa:<schema.org/Person>                                                                                         |571998.0    |\n",
      "|<schema.org/image>|<schema.org/name>|<schema.org/worksFor>|isa:<schema.org/Person>                                                                                                          |555959.0    |\n",
      "|<schema.org/image>|<schema.org/jobTitle>|<schema.org/name>|<schema.org/url>|isa:<schema.org/Person>                                                                                         |533993.0    |\n",
      "+--------------------------------------------------------------------------------------------------------------------------------------------------------------------------------------------+------------+\n",
      "only showing top 20 rows\n",
      "\n"
     ]
    },
    {
     "name": "stderr",
     "output_type": "stream",
     "text": [
      "                                                                                \r"
     ]
    }
   ],
   "source": [
    "spark.sql(\"select pset,count from CSET where pset like '%isa:<schema.org/Person>%'  limit 1000\").show(truncate=0)"
   ]
  }
 ],
 "metadata": {
  "kernelspec": {
   "display_name": "Python 3 (ipykernel)",
   "language": "python",
   "name": "python3"
  },
  "language_info": {
   "codemirror_mode": {
    "name": "ipython",
    "version": 3
   },
   "file_extension": ".py",
   "mimetype": "text/x-python",
   "name": "python",
   "nbconvert_exporter": "python",
   "pygments_lexer": "ipython3",
   "version": "3.10.9"
  }
 },
 "nbformat": 4,
 "nbformat_minor": 5
}
