{
 "cells": [
  {
   "cell_type": "code",
   "execution_count": null,
   "id": "604f91fc-36e8-4aad-a681-f05b647cadbd",
   "metadata": {},
   "outputs": [],
   "source": [
    "df = spark.read.parquet('s3a://ter-2024/ddomain-240209/hashdom6-20/part-00975-2145dc48-c2f0-4de4-8c33-8b1231e3e36a-c000.gz.parquet')\n",
    "\n",
    "#df = spark.read.parquet('s3a://ter-2024/ddomain-240209/hashdom6-20/')\n",
    "\n",
    "#df.printSchema()\n",
    "\n",
    "df.show()\n",
    "\n",
    "print(\"Nombre de lignes:\", df.count())\n",
    "\n"
   ]
  }
 ],
 "metadata": {
  "kernelspec": {
   "display_name": "Python 3 (ipykernel)",
   "language": "python",
   "name": "python3"
  },
  "language_info": {
   "codemirror_mode": {
    "name": "ipython",
    "version": 3
   },
   "file_extension": ".py",
   "mimetype": "text/x-python",
   "name": "python",
   "nbconvert_exporter": "python",
   "pygments_lexer": "ipython3",
   "version": "3.10.9"
  }
 },
 "nbformat": 4,
 "nbformat_minor": 5
}
