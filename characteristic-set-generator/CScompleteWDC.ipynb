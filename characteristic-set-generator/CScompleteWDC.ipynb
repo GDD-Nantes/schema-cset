{
 "cells": [
  {
   "cell_type": "code",
   "execution_count": 1,
   "id": "885330be-eafa-426c-b731-92d6346fa284",
   "metadata": {},
   "outputs": [
    {
     "name": "stderr",
     "output_type": "stream",
     "text": [
      "Setting default log level to \"WARN\".\n",
      "To adjust logging level use sc.setLogLevel(newLevel). For SparkR, use setLogLevel(newLevel).\n"
     ]
    },
    {
     "name": "stdout",
     "output_type": "stream",
     "text": [
      "23/04/14 19:33:34 WARN NativeCodeLoader: Unable to load native-hadoop library for your platform... using builtin-java classes where applicable\n",
      "23/04/14 19:33:34 WARN SparkConf: Note that spark.local.dir will be overridden by the value set by the cluster manager (via SPARK_LOCAL_DIRS in mesos/standalone/kubernetes and LOCAL_DIRS in YARN).\n"
     ]
    }
   ],
   "source": [
    "from pyspark.sql import SparkSession\n",
    "\n",
    "#créer une session dans le master\n",
    "spark = SparkSession.builder \\\n",
    "    .master(\"spark://172.20.53.96:7077\") \\\n",
    "    .appName(\"WDC-complete\") \\\n",
    "    .config(\"spark.executor.memory\",\"28g\") \\\n",
    "    .config(\"spark.driver.memory\",\"28g\") \\\n",
    "    .getOrCreate()\n",
    "# spark = SparkSession.builder.master(\"local\").appName(\"WDC-complete\").getOrCreate()\n",
    "\n",
    "spark.conf.set(\"spark.worker.cleanup.enabled\",True)\n",
    "spark.conf.set(\"spark.worker.cleanup.interval\",1800)\n",
    "spark.conf.set(\"spark.worker.cleanup.appDataTtl\",3600)\n",
    "spark.conf.set(\"spark.sql.shuffle.partitions\",1000)\n",
    "\n",
    "#fichiers de config qui permettent de se connecter au serveur de stockage s3 qui contient les fichiers de DataCommons\n",
    "endpoint_url = 'https://s3.os-bird.glicid.fr/'\n",
    "aws_access_key_id = '***REMOVED***'\n",
    "aws_secret_access_key = '***REMOVED***'\n",
    "hadoopConf = spark._jsc.hadoopConfiguration()\n",
    "hadoopConf.set('fs.s3a.access.key', aws_access_key_id)\n",
    "hadoopConf.set('fs.s3a.secret.key', aws_secret_access_key)\n",
    "hadoopConf.set('fs.s3a.endpoint', endpoint_url)\n",
    "hadoopConf.set('fs.s3a.path.style.access', 'true')\n",
    "hadoopConf.set('fs.s3a.impl', 'org.apache.hadoop.fs.s3a.S3AFileSystem')\n",
    "\n",
    "hadoopConf.set('spark.worker.cleanup.enabled', 'true')\n",
    "hadoopConf.set('fs.s3a.committer.name', 'magic')"
   ]
  },
  {
   "cell_type": "code",
   "execution_count": 2,
   "id": "b893de1a-8fa9-4382-b331-8f59c2a16e95",
   "metadata": {},
   "outputs": [
    {
     "name": "stdout",
     "output_type": "stream",
     "text": [
      "Row(subject='_:nb53a24408607424384c1357880ce1bc7xb1', predicate='<http://schema.org/value>', hashdom=82)\n",
      "Row(subject='<https://172-20-53-96.os-bird.glicid.fr/ageregaezg>', predicate='<http://schema.org/value>', hashdom=9)\n",
      "Row(subject='<https://172-20-53-96.os-bird.glicid.fr/fgdqvq>', predicate='<http://schema.org/value>', hashdom=3)\n",
      "Row(subject='<https://172-20-53-96.os-bird.glicid.fr/fgdqvq>', predicate='<http://schema.org/value>', hashdom=3)\n",
      "Row(subject='_:nb53a24408607424384c1357880ce1bc7xb1', predicate='<http://schema.org/value>', hashdom=82)\n",
      "Row(subject='_:geafazef4384c1357880ce1bc7xb1', predicate='<http://schema.org/value>', hashdom=32)\n"
     ]
    }
   ],
   "source": [
    "from pyspark.sql.functions import col, count\n",
    "from pyspark.sql import functions as f\n",
    "\n",
    "from pyspark.sql import Row\n",
    "import re\n",
    "from urllib.parse import urlparse\n",
    "\n",
    "\n",
    "line0 = '_:nb53a244 <http://schema.org/value1> \"8,840 ft<> / 2,694 m<>\" <https://youtube.com>   .'\n",
    "line1 = '_:nb53a244 <http://schema.org/value2> \"8,840 ft<> / 2,694 m<>\" <https://youtube.com>   .'\n",
    "line2 = '_:different <http://schema.org/value3> \"zfgrredzfzef\" <https://youtube.com>   .'\n",
    "line3 = '_:nb53a244 <http://schema.org/value4> \"dqqsd\" <https://different.com>   .'\n",
    "\n",
    "line4 = '<https://google.com> <http://schema.org/value4> \"8,840 ft<> / 2,694 m<>\" <https://youtube.com>   .'\n",
    "line5 = '<https://google.com> <http://schema.org/value4> \"8,840 ft<> / 2,694 m<>\" <https://youtube.com>   .'\n",
    "line6 = '<https://different.com> <http://schema.org/value6> \"fsqfqsfdqs\" <https://youtube.com>   .'\n",
    "line7 = '<https://google.com> <http://schema.org/type> \"Recipe\" <https://different.com>   .'\n",
    "\n",
    "line8 = '<https://google.com> <http://schema.org/type> \"Recipe\"'\n",
    "line9 = '<https://google.com> <http://schema.org/type>'\n",
    "line10 = '<https://google.com>'\n",
    "line11 = ''\n",
    "\n",
    "line12 = \"<https://google.com> <w3.org/1999/02/22-rdf-syntax-ns#type> <schema.org/ListItem> <https://different.com>   .\"\n",
    "\n",
    "quad_motif = re.compile(r'([^\\s]+)\\s([^\\s]+)\\s(.+)\\s([^\\s]+)\\s+\\.')\n",
    "\n",
    "def parseQ(l, parts):\n",
    "    result = quad_motif.match(l)\n",
    "    if result:\n",
    "        sub = result.group(1).strip()\n",
    "        \n",
    "        pred = result.group(2).strip()\n",
    "        pred = re.sub(r'([Hh][Tt][Tt][Pp][Ss]?://)?([Ww]{3}\\.)?', '', pred)\n",
    "        if pred == \"<w3.org/1999/02/22-rdf-syntax-ns#type>\":\n",
    "            pred = \"isa:\" + result.group(3).strip()\n",
    "\n",
    "        hashstring = sub\n",
    "        if sub.startswith(\"_:\"):\n",
    "            #sub += result.group(4).strip()\n",
    "            hashstring += result.group(4).strip().strip(\"<>\")\n",
    "        # print(hashstring)\n",
    "        return Row(subject=sub, predicate=pred, hashdom=hash(hashstring) % parts)\n",
    "    else:\n",
    "        # Handle non-matching lines\n",
    "        print(f\"parsing error : {l}\")\n",
    "        return None\n",
    "\n",
    "print(parseQ(line0, 100))\n",
    "print(parseQ(line1, 100))\n",
    "print(parseQ(line2, 100))\n",
    "print(parseQ(line3, 100))\n",
    "print(parseQ(line4, 100))\n",
    "print(parseQ(line5, 100))\n",
    "print(parseQ(line6, 100))\n",
    "print(parseQ(line7, 100))\n",
    "print(parseQ(line8, 100))\n",
    "print(parseQ(line9, 100))\n",
    "print(parseQ(line10, 100))\n",
    "print(parseQ(line11, 100))\n",
    "print(parseQ(line12, 100))"
   ]
  },
  {
   "cell_type": "code",
   "execution_count": 3,
   "id": "a22a0e88-774a-4136-b07f-422954618be5",
   "metadata": {},
   "outputs": [],
   "source": [
    "def partCS(hashdom_val, hashdom_max, output=None):\n",
    "    print(f\"part {hashdom_val+1}/{hashdom_max} started\");\n",
    "    file_name = f\"hashdom{hashdom_val+1}-{hashdom_max}\"\n",
    "    cset2 = spark.sql(f\"select subject, concat_ws(' ',sort_array(collect_set(predicate))) as pset FROM Super where hashdom={hashdom_val} group by  subject \").cache()\n",
    "    #cset2.show(truncate=200)\n",
    "    #print(cset2.count())\n",
    "\n",
    "    result2 = cset2.groupby(\"pset\").agg(f.count(cset2.subject).alias('count'))\n",
    "    result2.show(truncate=0)\n",
    "\n",
    "    if(output is not None):\n",
    "        print(\"Saving\")\n",
    "        result2.write.option(\"header\",True) \\\n",
    "            .mode(\"overwrite\") \\\n",
    "            .csv(f\"s3a://test-out/{output}/{file_name}\")\n",
    "    \n",
    "    # clear variables from memory\n",
    "    cset2.unpersist()\n",
    "    result2.unpersist()\n",
    "\n",
    "    print(f\"part {hashdom_val+1}/{hashdom_max} finished\");\n",
    "    \n",
    "    del cset2, result2\n",
    "\n",
    "def completeCS(input, parts, output=None):\n",
    "    lines = spark.sparkContext.textFile(f\"s3a://{input}/**\")\n",
    "    \n",
    "    sp = lines.map(lambda l: parseQ(l, parts)).filter(lambda result: result is not None).toDF()\n",
    "\n",
    "    sp.createOrReplaceTempView(\"Super\")\n",
    "    \n",
    "    for i in range(parts):\n",
    "        partCS(i, parts, output)\n",
    "        \n",
    "    print(\"Finished\")"
   ]
  },
  {
   "cell_type": "code",
   "execution_count": null,
   "id": "76cf2537-9906-4157-891e-701663c6ba3c",
   "metadata": {},
   "outputs": [],
   "source": [
    "# input : test or wdc or wdc-2023\n",
    "# no output = no save\n",
    "completeCS(\"wdc-2023\", 20, \"cset-wdc-2023-fix2\")"
   ]
  }
 ],
 "metadata": {
  "kernelspec": {
   "display_name": "Python 3 (ipykernel)",
   "language": "python",
   "name": "python3"
  },
  "language_info": {
   "codemirror_mode": {
    "name": "ipython",
    "version": 3
   },
   "file_extension": ".py",
   "mimetype": "text/x-python",
   "name": "python",
   "nbconvert_exporter": "python",
   "pygments_lexer": "ipython3",
   "version": "3.10.9"
  }
 },
 "nbformat": 4,
 "nbformat_minor": 5
}
