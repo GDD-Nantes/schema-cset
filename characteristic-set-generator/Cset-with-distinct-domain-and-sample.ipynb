{
 "cells": [
  {
   "cell_type": "code",
   "execution_count": 1,
   "id": "885330be-eafa-426c-b731-92d6346fa284",
   "metadata": {},
   "outputs": [
    {
     "name": "stderr",
     "output_type": "stream",
     "text": [
      "Setting default log level to \"WARN\".\n",
      "To adjust logging level use sc.setLogLevel(newLevel). For SparkR, use setLogLevel(newLevel).\n"
     ]
    },
    {
     "name": "stdout",
     "output_type": "stream",
     "text": [
      "23/12/02 16:32:43 WARN NativeCodeLoader: Unable to load native-hadoop library for your platform... using builtin-java classes where applicable\n",
      "23/12/02 16:32:43 WARN SparkConf: Note that spark.local.dir will be overridden by the value set by the cluster manager (via SPARK_LOCAL_DIRS in mesos/standalone/kubernetes and LOCAL_DIRS in YARN).\n"
     ]
    }
   ],
   "source": [
    "from pyspark.sql import SparkSession\n",
    "\n",
    "#créer une session dans le master\n",
    "spark = SparkSession.builder \\\n",
    "    .master(\"spark://172.20.53.96:7077\") \\\n",
    "    .appName(\"WDC-complete\") \\\n",
    "    .config(\"spark.executor.memory\",\"28g\") \\\n",
    "    .config(\"spark.driver.memory\",\"28g\") \\\n",
    "    .getOrCreate()\n",
    "#spark = SparkSession.builder.master(\"local\").appName(\"WDC-complete\").getOrCreate()\n",
    "spark.conf.set(\"spark.worker.cleanup.enabled\",True)\n",
    "spark.conf.set(\"spark.worker.cleanup.interval\",1800)\n",
    "spark.conf.set(\"spark.worker.cleanup.appDataTtl\",3600)\n",
    "spark.conf.set(\"spark.sql.shuffle.partitions\",1000)\n",
    "\n",
    "#fichiers de config qui permettent de se connecter au serveur de stockage s3 qui contient les fichiers de DataCommons\n",
    "endpoint_url = 'https://s3.os-bird.glicid.fr/'\n",
    "aws_access_key_id = 'bbd95ea3c1174caa88345404b84e458f'\n",
    "aws_secret_access_key = 'eaf2a72ecf9845f583af7f3513c44f25'\n",
    "hadoopConf = spark._jsc.hadoopConfiguration()\n",
    "hadoopConf.set('fs.s3a.access.key', aws_access_key_id)\n",
    "hadoopConf.set('fs.s3a.secret.key', aws_secret_access_key)\n",
    "hadoopConf.set('fs.s3a.endpoint', endpoint_url)\n",
    "hadoopConf.set('fs.s3a.path.style.access', 'true')\n",
    "hadoopConf.set('fs.s3a.impl', 'org.apache.hadoop.fs.s3a.S3AFileSystem')\n",
    "\n",
    "hadoopConf.set('spark.worker.cleanup.enabled', 'true')\n",
    "hadoopConf.set('fs.s3a.committer.name', 'magic')"
   ]
  },
  {
   "cell_type": "code",
   "execution_count": 2,
   "id": "b893de1a-8fa9-4382-b331-8f59c2a16e95",
   "metadata": {},
   "outputs": [
    {
     "name": "stdout",
     "output_type": "stream",
     "text": [
      "Row(subject='_:nb53a244<https://youtube.com>', predicate='<schema.org/value1>', hashdom=38)\n",
      "Row(subject='_:nb53a244<https://youtube.com>', predicate='<schema.org/value2>', hashdom=38)\n",
      "Row(subject='_:different<https://youtube.com>', predicate='<schema.org/value3>', hashdom=83)\n",
      "Row(subject='_:nb53a244<https://different.com>', predicate='<schema.org/value4>', hashdom=39)\n",
      "Row(subject='<https://google.com>', predicate='<schema.org/value4>', hashdom=19)\n",
      "Row(subject='<https://google.com>', predicate='<schema.org/value4>', hashdom=19)\n",
      "Row(subject='<https://different.com>', predicate='<schema.org/value6>', hashdom=5)\n",
      "Row(subject='<https://google.com>', predicate='<schema.org/type>', hashdom=19)\n",
      "parsing error : <https://google.com> <http://schema.org/type> \"Recipe\"\n",
      "None\n",
      "parsing error : <https://google.com> <http://schema.org/type>\n",
      "None\n",
      "parsing error : <https://google.com>\n",
      "None\n",
      "parsing error : \n",
      "None\n"
     ]
    }
   ],
   "source": [
    "from pyspark.sql.functions import col, count\n",
    "from pyspark.sql import functions as f\n",
    "\n",
    "from pyspark.sql import Row\n",
    "import re\n",
    "from urllib.parse import urlparse\n",
    "\n",
    "\n",
    "line0 = '_:nb53a244 <http://schema.org/value1> \"8,840 ft<> / 2,694 m<>\" <https://youtube.com>   .'\n",
    "line1 = '_:nb53a244 <http://schema.org/value2> \"8,840 ft<> / 2,694 m<>\" <https://youtube.com>   .'\n",
    "line2 = '_:different <http://schema.org/value3> \"zfgrredzfzef\" <https://youtube.com>   .'\n",
    "line3 = '_:nb53a244 <http://schema.org/value4> \"dqqsd\" <https://different.com>   .'\n",
    "\n",
    "line4 = '<https://google.com> <http://schema.org/value4> \"8,840 ft<> / 2,694 m<>\" <https://youtube.com>   .'\n",
    "line5 = '<https://google.com> <http://schema.org/value4> \"8,840 ft<> / 2,694 m<>\" <https://youtube.com>   .'\n",
    "line6 = '<https://different.com> <http://schema.org/value6> \"fsqfqsfdqs\" <https://youtube.com>   .'\n",
    "line7 = '<https://google.com> <http://schema.org/type> \"Recipe\" <https://different.com>   .'\n",
    "\n",
    "line8 = '<https://google.com> <http://schema.org/type> \"Recipe\"'\n",
    "line9 = '<https://google.com> <http://schema.org/type>'\n",
    "line10 = '<https://google.com>'\n",
    "line11 = ''\n",
    "\n",
    "quad_motif = re.compile(r'([^\\s]+)\\s([^\\s]+)\\s(.+)\\s([^\\s]+)\\s+\\.')\n",
    "\n",
    "def parseQ(l, parts):\n",
    "    result = quad_motif.match(l)\n",
    "    if result:\n",
    "        sub = result.group(1).strip()\n",
    "        \n",
    "        pred = result.group(2).strip()\n",
    "        pred = re.sub(r'([Hh][Tt][Tt][Pp][Ss]?://)?([Ww]{3}\\.)?', '', pred)\n",
    "        if pred == \"<http://www.w3.org/1999/02/22-rdf-syntax-ns#type>\":\n",
    "            pred = \"isa:\" + re.sub(r'([Hh][Tt][Tt][Pp][Ss]?://)?([Ww]{3}\\.)?', '', result.group(3).strip())\n",
    "\n",
    "        if sub.startswith(\"_:\"):\n",
    "            sub += result.group(4).strip()\n",
    "        return Row(subject=sub, predicate=pred, hashdom=hash(sub) % parts)\n",
    "    else:\n",
    "        # Handle non-matching lines\n",
    "        print(f\"parsing error : {l}\")\n",
    "        return None\n",
    "\n",
    "print(parseQ(line0, 100))\n",
    "print(parseQ(line1, 100))\n",
    "print(parseQ(line2, 100))\n",
    "print(parseQ(line3, 100))\n",
    "print(parseQ(line4, 100))\n",
    "print(parseQ(line5, 100))\n",
    "print(parseQ(line6, 100))\n",
    "print(parseQ(line7, 100))\n",
    "print(parseQ(line8, 100))\n",
    "print(parseQ(line9, 100))\n",
    "print(parseQ(line10, 100))\n",
    "print(parseQ(line11, 100))"
   ]
  },
  {
   "cell_type": "code",
   "execution_count": 3,
   "id": "a22a0e88-774a-4136-b07f-422954618be5",
   "metadata": {},
   "outputs": [],
   "source": [
    "from pyspark.sql.functions import udf\n",
    "from pyspark.sql.types import ArrayType, StringType\n",
    "import random \n",
    "\n",
    "# pip install tldextract pas internet\n",
    "import tldextract\n",
    "\n",
    "@udf('string')\n",
    "def extract_tld(url):\n",
    "    tld = tldextract.extract(url)\n",
    "    if tld.registered_domain:\n",
    "        return tld.registered_domain\n",
    "    else:\n",
    "        # in case the URL is an IP\n",
    "        return tld.domain\n",
    "\n",
    "spark.udf.register(\"extract_tld\", extract_tld)\n",
    "\n",
    "# TODO : faire la fonction sample_tab\n",
    "# Note : le \"@udf('string')\" permet de faire une fonction s'executant en pyspark.sql\n",
    "\n",
    "@udf(ArrayType(StringType()))\n",
    "def sample_tab(input_array):\n",
    "    # Vérifiez si l'entrée est une liste non vide\n",
    "    if input_array and isinstance(input_array, list):\n",
    "        # Utilisez random.sample pour sélectionner aléatoirement 10 éléments sans remplacement\n",
    "        selected_elements = random.sample(input_array, min(10, len(input_array)))\n",
    "        return selected_elements\n",
    "    else:\n",
    "        return None  # Retournez None si l'entrée n'est pas valide\n",
    "\n",
    "spark.udf.register(\"sample_tab\", sample_tab)\n",
    "\n",
    "from pyspark.sql.functions import col\n",
    "def partCS(hashdom_val, hashdom_max, output=None):\n",
    "    print(f\"part {hashdom_val+1}/{hashdom_max} started\");\n",
    "    file_name = f\"hashdom{hashdom_val+1}-{hashdom_max}\"\n",
    "    \n",
    "\n",
    "    # calcule aussi les domaines et sous-domaines distincts et leur nombre\n",
    "    # TODO : faire fonction prenant en paramètre le resultat de COLLECT_LIST(regexp_replace(subject, '^[^<>]*<(.+)>[^<>]*$', '$1')) as urls \n",
    "    # et qui retourne 10 éléments pris au hasard (le sample)\n",
    "    result = spark.sql(f\"\"\"\n",
    "        SELECT\n",
    "            pset,\n",
    "            COUNT(subject) as count,\n",
    "            CONCAT_WS(' ', COLLECT_SET(extract_tld(regexp_replace(subject, '^[^<>]*<(.+)>[^<>]*$', '$1')))) as distinct_domains,\n",
    "            CONCAT_WS(' ', sample_tab(COLLECT_LIST(regexp_replace(subject, '^[^<>]*<(.+)>[^<>]*$', '$1')))) as urls\n",
    "        FROM (\n",
    "            SELECT\n",
    "                subject,\n",
    "                CONCAT_WS(' ', SORT_ARRAY(COLLECT_SET(predicate))) as pset\n",
    "            FROM\n",
    "                Super\n",
    "            WHERE\n",
    "                hashdom={hashdom_val}\n",
    "            GROUP BY\n",
    "                subject\n",
    "        )\n",
    "        GROUP BY\n",
    "            pset\n",
    "    \"\"\").cache()\n",
    "    \n",
    "    # result = result.withColumn(\"tld\", tld_extract_udf(col(\"subject\")))\n",
    "    \n",
    "    result.show(truncate=0)\n",
    "\n",
    "    \n",
    "    if(output is not None):\n",
    "        print(\"Saving\")\n",
    "        result.write.option(\"header\",True) \\\n",
    "            .mode(\"overwrite\") \\\n",
    "            .csv(f\"s3a://test-out/{output}/{file_name}\")\n",
    "    \n",
    "    # clear variables from memory\n",
    "    #cset.unpersist()\n",
    "    result.unpersist()\n",
    "\n",
    "    print(f\"part {hashdom_val+1}/{hashdom_max} finished\");\n",
    "    \n",
    "    del result\n",
    "\n",
    "def completeCS(input, parts, output=None):\n",
    "    lines = spark.sparkContext.textFile(f\"s3a://{input}/**\")\n",
    "    \n",
    "    if(lines.isEmpty()):\n",
    "       print(f\"error: {input} folder empty\")\n",
    "    \n",
    "    first_10_lines = lines.take(10)\n",
    "    for line in first_10_lines:\n",
    "        print(line)\n",
    "    \n",
    "    parsedLines = lines.map(lambda l: parseQ(l, parts)).filter(lambda x: x is not None).toDF()\n",
    "    parsedLines.show(truncate=0)\n",
    "\n",
    "    parsedLines.createOrReplaceTempView(\"Super\")\n",
    "    \n",
    "    for i in range(parts):\n",
    "        partCS(i, parts, output)\n",
    "        \n",
    "    print(\"Finished\")"
   ]
  },
  {
   "cell_type": "code",
   "execution_count": 4,
   "id": "59596aac-b06b-41fc-927b-b21cc78e31d7",
   "metadata": {},
   "outputs": [],
   "source": [
    "#print(spark.sql(\"\"\"select * from \"\"\").show())"
   ]
  },
  {
   "cell_type": "code",
   "execution_count": null,
   "id": "76cf2537-9906-4157-891e-701663c6ba3c",
   "metadata": {},
   "outputs": [
    {
     "name": "stdout",
     "output_type": "stream",
     "text": [
      "23/12/02 16:32:45 WARN MetricsConfig: Cannot locate configuration: tried hadoop-metrics2-s3a-file-system.properties,hadoop-metrics2.properties\n"
     ]
    },
    {
     "name": "stderr",
     "output_type": "stream",
     "text": [
      "                                                                                \r"
     ]
    },
    {
     "name": "stdout",
     "output_type": "stream",
     "text": [
      "<http://1000lifehacks.com/#organization> <http://www.w3.org/1999/02/22-rdf-syntax-ns#type> <http://schema.org/Organization> <http://1000lifehacks.com/how-to-remember-stuff-in-the-morning/>   .\n",
      "<http://1000lifehacks.com/#organization> <http://schema.org/image> <http://1000lifehacks.com/#logo> <http://1000lifehacks.com/how-to-remember-stuff-in-the-morning/>   .\n",
      "<http://1000lifehacks.com/#organization> <http://schema.org/logo> <http://1000lifehacks.com/#logo> <http://1000lifehacks.com/how-to-remember-stuff-in-the-morning/>   .\n",
      "<http://1000lifehacks.com/#organization> <http://schema.org/name> \"1000 Life Hacks\" <http://1000lifehacks.com/how-to-remember-stuff-in-the-morning/>   .\n",
      "<http://1000lifehacks.com/#organization> <http://schema.org/sameAs> <http://facebook.com/1000lifehacks> <http://1000lifehacks.com/how-to-remember-stuff-in-the-morning/>   .\n",
      "<http://1000lifehacks.com/#organization> <http://schema.org/sameAs> <http://instagram.com/lifehack.ers> <http://1000lifehacks.com/how-to-remember-stuff-in-the-morning/>   .\n",
      "<http://1000lifehacks.com/#organization> <http://schema.org/sameAs> <https://twitter.com/1000lifehacks> <http://1000lifehacks.com/how-to-remember-stuff-in-the-morning/>   .\n",
      "<http://1000lifehacks.com/#organization> <http://schema.org/url> <http://1000lifehacks.com/> <http://1000lifehacks.com/how-to-remember-stuff-in-the-morning/>   .\n",
      "<http://1000lifehacks.com/#logo> <http://www.w3.org/1999/02/22-rdf-syntax-ns#type> <http://schema.org/ImageObject> <http://1000lifehacks.com/how-to-remember-stuff-in-the-morning/>   .\n",
      "<http://1000lifehacks.com/#logo> <http://schema.org/caption> \"1000 Life Hacks\" <http://1000lifehacks.com/how-to-remember-stuff-in-the-morning/>   .\n"
     ]
    },
    {
     "name": "stderr",
     "output_type": "stream",
     "text": [
      "                                                                                \r"
     ]
    },
    {
     "name": "stdout",
     "output_type": "stream",
     "text": [
      "+----------------------------------------+--------------------------------------+-------+\n",
      "|subject                                 |predicate                             |hashdom|\n",
      "+----------------------------------------+--------------------------------------+-------+\n",
      "|<http://1000lifehacks.com/#organization>|<w3.org/1999/02/22-rdf-syntax-ns#type>|16     |\n",
      "|<http://1000lifehacks.com/#organization>|<schema.org/image>                    |16     |\n",
      "|<http://1000lifehacks.com/#organization>|<schema.org/logo>                     |16     |\n",
      "|<http://1000lifehacks.com/#organization>|<schema.org/name>                     |16     |\n",
      "|<http://1000lifehacks.com/#organization>|<schema.org/sameAs>                   |16     |\n",
      "|<http://1000lifehacks.com/#organization>|<schema.org/sameAs>                   |16     |\n",
      "|<http://1000lifehacks.com/#organization>|<schema.org/sameAs>                   |16     |\n",
      "|<http://1000lifehacks.com/#organization>|<schema.org/url>                      |16     |\n",
      "|<http://1000lifehacks.com/#logo>        |<w3.org/1999/02/22-rdf-syntax-ns#type>|6      |\n",
      "|<http://1000lifehacks.com/#logo>        |<schema.org/caption>                  |6      |\n",
      "|<http://1000lifehacks.com/#logo>        |<schema.org/height>                   |6      |\n",
      "|<http://1000lifehacks.com/#logo>        |<schema.org/inLanguage>               |6      |\n",
      "|<http://1000lifehacks.com/#logo>        |<schema.org/url>                      |6      |\n",
      "|<http://1000lifehacks.com/#logo>        |<schema.org/width>                    |6      |\n",
      "|<http://1000lifehacks.com/#website>     |<w3.org/1999/02/22-rdf-syntax-ns#type>|10     |\n",
      "|<http://1000lifehacks.com/#website>     |<schema.org/description>              |10     |\n",
      "|<http://1000lifehacks.com/#website>     |<schema.org/inLanguage>               |10     |\n",
      "|<http://1000lifehacks.com/#website>     |<schema.org/name>                     |10     |\n",
      "|<http://1000lifehacks.com/#website>     |<schema.org/potentialAction>          |10     |\n",
      "|<http://1000lifehacks.com/#website>     |<schema.org/publisher>                |10     |\n",
      "+----------------------------------------+--------------------------------------+-------+\n",
      "only showing top 20 rows\n",
      "\n",
      "part 1/20 started\n"
     ]
    },
    {
     "name": "stderr",
     "output_type": "stream",
     "text": [
      "[Stage 4:>                                                      (0 + 56) / 6240]\r"
     ]
    }
   ],
   "source": [
    "# input : test or wdc or wdc-2023\n",
    "# no output = no save\n",
    "completeCS(\"wdc\", 20, \"test/wdc-with-domains\")"
   ]
  },
  {
   "cell_type": "code",
   "execution_count": null,
   "id": "1c5e6653-1801-4383-9d5b-7ee341acbb00",
   "metadata": {},
   "outputs": [],
   "source": []
  },
  {
   "cell_type": "code",
   "execution_count": null,
   "id": "4c748f34-62a3-4865-b26f-acefd6035f44",
   "metadata": {},
   "outputs": [],
   "source": []
  },
  {
   "cell_type": "code",
   "execution_count": null,
   "id": "e5a9f11f-0be8-4786-8ee3-4967301a3559",
   "metadata": {},
   "outputs": [],
   "source": []
  }
 ],
 "metadata": {
  "kernelspec": {
   "display_name": "Python 3 (ipykernel)",
   "language": "python",
   "name": "python3"
  },
  "language_info": {
   "codemirror_mode": {
    "name": "ipython",
    "version": 3
   },
   "file_extension": ".py",
   "mimetype": "text/x-python",
   "name": "python",
   "nbconvert_exporter": "python",
   "pygments_lexer": "ipython3",
   "version": "3.10.9"
  }
 },
 "nbformat": 4,
 "nbformat_minor": 5
}
